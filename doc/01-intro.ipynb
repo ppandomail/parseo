{
 "cells": [
  {
   "cell_type": "markdown",
   "id": "c9e5e59a-8068-4107-a5fa-e6bf80029706",
   "metadata": {},
   "source": [
    "# Introducción\n",
    "---"
   ]
  },
  {
   "cell_type": "markdown",
   "id": "91678b6d-abab-4e31-9dff-fe1f1d09ae1a",
   "metadata": {},
   "source": [
    "## Traductor (Translator)"
   ]
  },
  {
   "cell_type": "markdown",
   "id": "8753537c-9f50-4190-b460-9f2fafa09ecc",
   "metadata": {},
   "source": [
    "* Es un programa que convierten un programa escrito en un lenguaje (lenguaje fuente) a otro lenguaje (lenguaje objeto)\n",
    "* Ejemplo: programa de lenguaje C a Pascal"
   ]
  },
  {
   "cell_type": "markdown",
   "id": "71236f07-7ada-4d4b-a526-7ff55b9d4f73",
   "metadata": {},
   "source": [
    "![Traductor](img/traductor.JPG)"
   ]
  },
  {
   "cell_type": "markdown",
   "id": "f4c386a4-6faa-4341-b952-fdc49d5afd0a",
   "metadata": {},
   "source": [
    "![Traductores](img/traductores.JPG)"
   ]
  },
  {
   "cell_type": "markdown",
   "id": "a5e994f2-6fb0-4f2b-8c03-fb0528270599",
   "metadata": {},
   "source": [
    "## Ensamblador (Assembler)"
   ]
  },
  {
   "cell_type": "markdown",
   "id": "928a476d-0afb-4f5a-b762-525146d49de5",
   "metadata": {},
   "source": [
    "* Es un **tipo de traductor** para una máquina en particular, donde el lenguaje fuente es un **lenguaje ensamblador** y el lenguaje objeto es el **código de la máquina**\n",
    "* Es un traductor sencillo, en el que el lenguaje fuente tiene una estructura tan sencilla que permite la traducción de cada sentencia fuente a una única instrucción en código máquina\n",
    "* En definitiva, existe una correspondencia uno a uno entre las instrucciones ensamblador y las instrucciones máquina\n",
    "* Ejemplo: Instrucción ensamblador: LD HL, #0100 -> Código máquina generado: 65h.00h.01h\n",
    "\n",
    "| Ventajas | Desventajas                                                                                   |\n",
    "| --       | --                                                                                            |\n",
    "| Veloces  | Dificil escribir, leer y entender                                                             |\n",
    "| Exactos  | Dependiente de la máquina para la que se ha escrito (rescribir el programa para otra máquina) |"
   ]
  },
  {
   "cell_type": "markdown",
   "id": "b3044371-1007-4523-bf98-a78055fd762e",
   "metadata": {},
   "source": [
    "![Ensamblador](img/ensamblador.png)"
   ]
  },
  {
   "cell_type": "markdown",
   "id": "cf1d9080-8cd4-43de-9164-7f64c7fd58d9",
   "metadata": {},
   "source": [
    "## Intérprete (Interpreter)"
   ]
  },
  {
   "cell_type": "markdown",
   "id": "b2898348-b0ee-4e35-a5ed-70fa9b4fc465",
   "metadata": {},
   "source": [
    "* Es un **tipo de traductor** de lenguajes\n",
    "* Lee sentencia por sentencia del programa fuente, la convierte en el código objeto y la ejecuta\n",
    "* Uno de los motivos de la existencia de programas interpretados es que hay algunos lenguajes de programación que permiten agregar sentencias durante la ejecución, cosa que no se podría hacer si fueran compilados\n",
    "* Ejemplos: Basic, Python, SmallTalk, Ruby, Javascript, etc."
   ]
  },
  {
   "cell_type": "markdown",
   "id": "fd4277c9-742d-4e46-9606-d305c751a0da",
   "metadata": {},
   "source": [
    "![Intérprete](img/interprete.png)"
   ]
  },
  {
   "cell_type": "markdown",
   "id": "10d63799-aaa1-49fc-9121-a8547408cfba",
   "metadata": {},
   "source": [
    "## Compilador (Compiler)"
   ]
  },
  {
   "cell_type": "markdown",
   "id": "7b7bc57a-fa12-4245-9ff1-91eda6701e50",
   "metadata": {},
   "source": [
    "* Es un **tipo de traductor** en el que el lenguaje fuente es un **lenguaje de alto nivel** y el lenguaje objeto es de **bajo nivel**\n",
    "* Analiza todo el programa fuente, crea el programa objeto y luego permite su ejecución (sólo del programa objeto obtenido)\n",
    "* Después de compilar un programa, su ejecución es mucho más rápida que la ejecución de un programa interpretado"
   ]
  },
  {
   "cell_type": "markdown",
   "id": "b6ad62d8-1764-49a9-9719-ada34e342a26",
   "metadata": {},
   "source": [
    "![Compilador](img/compilador.JPG)"
   ]
  },
  {
   "cell_type": "markdown",
   "id": "27d035e7-5fa0-4b2a-bd30-845b6b49ad3a",
   "metadata": {},
   "source": [
    "![Ejemplo Compilador](img/ejemplo-compilador.png)"
   ]
  },
  {
   "cell_type": "markdown",
   "id": "d0d42850-7ffa-4448-bc35-b1d31f6e652e",
   "metadata": {},
   "source": [
    "![Ejemplo Traductor](img/ejemplo-traductor.JPG)"
   ]
  },
  {
   "cell_type": "markdown",
   "id": "6e1f1d9a-8d0e-4c14-9872-a63da5a01d96",
   "metadata": {},
   "source": [
    "| Año      | Desarrollador/a  |                                                                                                                             |\n",
    "| --       | --               | --                                                                                                                          |\n",
    "| **1951** | **Grace Hooper** | desarrolla el primer compilador, el A-0. La primera rutina \"compilada\" se probó con éxito en una máquina UNIVAC             |\n",
    "| **1954** | **John Backus**  | comenzó el desarrollo de un compilador de FORTRAN para IBM 704, que le llevó dos años y medio y 18 personas para realizarlo |"
   ]
  },
  {
   "cell_type": "markdown",
   "id": "8f284b18-f3ec-47b8-8581-dab10cab2742",
   "metadata": {},
   "source": [
    "![Univac](img/univac.png)"
   ]
  },
  {
   "cell_type": "markdown",
   "id": "b32f122d-7da1-4e41-8754-fb2d04d7948b",
   "metadata": {},
   "source": [
    "* Los lenguajes compilados tienen como resultado archivos binarios que lee el sistema operativo o directamente el hardware y los ejecuta. Ejemplo C, C++, Pascal, Fortran, COBOL, Go, etc.\n",
    "\n",
    "![Diferencias entre Intérpretes y Compiladores](img/diferencias-interpretes-compiladores.JPG)"
   ]
  },
  {
   "cell_type": "markdown",
   "id": "65c53080-8d66-4129-89e5-143437eaf28a",
   "metadata": {},
   "source": [
    "## Herramientas software necesarias para los compiladores"
   ]
  },
  {
   "cell_type": "markdown",
   "id": "5893b3fd-40bd-4be2-af70-702002721335",
   "metadata": {},
   "source": [
    "### Editores (Editors)"
   ]
  },
  {
   "cell_type": "markdown",
   "id": "37e92153-0c15-4d94-9d39-8f2c3f25d3cb",
   "metadata": {},
   "source": [
    "* Se utilizan para leer y escribir los programas que posteriormente el compilador traducirá a código máquina\n",
    "* Actualmente, se integran con los compiladores constituyendo un IDE (entorno de desarrollo integrado)\n",
    "* Para que los archivos que generan se puedan leer por cualquier editor, es necesario que tengan formato ASCII"
   ]
  },
  {
   "cell_type": "markdown",
   "id": "eb89f973-b9c6-420f-a5fe-33414deb1af9",
   "metadata": {},
   "source": [
    "### Preprocesadores (Preprocessors)"
   ]
  },
  {
   "cell_type": "markdown",
   "id": "f066617c-5f3a-4f3a-9af4-194d24575ceb",
   "metadata": {},
   "source": [
    "* Son programas que funcionan de forma independiente una vez que el compilador lo llama, modificando el programa fuente antes de comenzar el proceso de compilación\n",
    "* Tareas:\n",
    "  * Sustituir las macros por las sentencias que las componen\n",
    "  * Incluir otros archivos o librerías\n",
    "  * Eliminar comentarios"
   ]
  },
  {
   "cell_type": "markdown",
   "id": "3db0f844-7013-4bfb-9af0-2b9765f54443",
   "metadata": {},
   "source": [
    "![Preprocesadores](img/preprocesador.png)"
   ]
  },
  {
   "cell_type": "markdown",
   "id": "31f0bb5e-ba34-4681-b063-9ca811acb2f6",
   "metadata": {},
   "source": [
    "### Enlazadores (Linkers)"
   ]
  },
  {
   "cell_type": "markdown",
   "id": "2efc7f31-b0c3-4a57-96c0-d2b446d97b79",
   "metadata": {},
   "source": [
    "* Se encargan de unir los diferentes módulos con sus respectivos códigos objeto para producir un archivo ejecutable\n",
    "* También sirven para enlazar el código objeto con las funciones que necesita de una librería de funciones u otros módulos (archivos con extensión \"lib\" o \"dll\")"
   ]
  },
  {
   "cell_type": "markdown",
   "id": "7f392cd9-fc37-488e-9425-536f603b1975",
   "metadata": {},
   "source": [
    "![Enlazador](img/enlazador.png)"
   ]
  },
  {
   "cell_type": "markdown",
   "id": "fa54789c-cbe7-4f2e-a23f-0196523eb902",
   "metadata": {},
   "source": [
    "![Enlazador](img/enlazador2.JPG)"
   ]
  },
  {
   "cell_type": "markdown",
   "id": "c0dcf550-e7c2-43a0-b697-815706767559",
   "metadata": {},
   "source": [
    "### Cargadores (Loaders)"
   ]
  },
  {
   "cell_type": "markdown",
   "id": "e42b5926-9a2d-42cb-8513-232013dfb182",
   "metadata": {},
   "source": [
    "* Se encargan de asignar las direcciones y el espacio de memoria necesario para la ejecución del programa\n",
    "* Esto se puede hacer porque el enlazador le proporciona direcciones de memoria relativas, denominándose este tipo de código reubicable o relocalizable, y el cargador le asigna posiciones reales o absolutas\n",
    "* Es una herramienta que trae el sistema operativo"
   ]
  },
  {
   "cell_type": "markdown",
   "id": "1fd78291-ef51-4cf1-976c-bf5c1e6f66f1",
   "metadata": {},
   "source": [
    "![Cargador](img/cargador.JPG)"
   ]
  },
  {
   "cell_type": "markdown",
   "id": "19f3a3cb-bbeb-4ccb-82de-ff580e7ea61c",
   "metadata": {},
   "source": [
    "### Depuradores (Debbugers)"
   ]
  },
  {
   "cell_type": "markdown",
   "id": "2506400a-fe45-4dbd-82ba-f78a765b8b41",
   "metadata": {},
   "source": [
    "* Son herramientas que permiten encontrar errores y solucionarlos en un programa, una vez que ha sido compilado\n",
    "* Normalmente permiten seleccionar variables y visualizar los valores que van teniendo a partir de una ejecución paso a paso"
   ]
  },
  {
   "cell_type": "markdown",
   "id": "d72ccc8d-cd78-49f9-970f-b50c54e85500",
   "metadata": {},
   "source": [
    "![Depurador](img/depurador.png)"
   ]
  },
  {
   "cell_type": "markdown",
   "id": "9914262e-987a-4ccc-8141-06f6a05ca7d8",
   "metadata": {},
   "source": [
    "### Desensambladores (Disassemblers)"
   ]
  },
  {
   "cell_type": "markdown",
   "id": "ac36a888-620c-4a51-b58d-b922d8c535c9",
   "metadata": {},
   "source": [
    "* Son herramientas que traducen el lenguaje máquina a lenguaje ensamblador\n",
    "* Se utilizan para realizar ingeniería inversa"
   ]
  },
  {
   "cell_type": "markdown",
   "id": "bee524b9-a950-4e7e-a301-1ac10856db8e",
   "metadata": {},
   "source": [
    "### Decompiladores (Decompilers)"
   ]
  },
  {
   "cell_type": "markdown",
   "id": "0491e438-ca45-4e9a-a5da-3ada3e94a5c3",
   "metadata": {},
   "source": [
    "* Son herramientas que traducen de código máquina a un lenguaje de alto nivel, como por ejemplo Java, en lugar de traducir a ensamblador, que es lo que hace el desensamblador"
   ]
  },
  {
   "cell_type": "markdown",
   "id": "7dc8c9c8-b301-4988-bf59-c70ea654fa0c",
   "metadata": {},
   "source": [
    "### Transpilador"
   ]
  },
  {
   "cell_type": "markdown",
   "id": "03fa8bef-5fc5-4b47-b49e-f372ef01a0b0",
   "metadata": {},
   "source": [
    "* Son herramientas que leen código fuente escrito en un lenguaje de programación y producen el código equivalente en otro lenguaje o en una versión distinta del mismo, en javascript es común escribir código moderno y usar Babel para dar soporte a navegadores antiguos"
   ]
  },
  {
   "cell_type": "markdown",
   "id": "558e3704-3626-4305-893b-cf8fa49e869e",
   "metadata": {},
   "source": [
    "![Transpilador](img/transpilador.png)"
   ]
  },
  {
   "cell_type": "markdown",
   "id": "4a2a9412-13ca-48f1-a430-44047a2cba3d",
   "metadata": {},
   "source": [
    "## ¿Cómo funciona la compilación de Código?"
   ]
  },
  {
   "cell_type": "markdown",
   "id": "e9832466-4a82-4b7f-8f17-34cc716a206b",
   "metadata": {},
   "source": [
    "![Funcionamiento](img/funcionamiento.png)"
   ]
  },
  {
   "cell_type": "markdown",
   "id": "0c2a9fe4-2dd2-4a07-aba4-a3b6a8c187ea",
   "metadata": {},
   "source": [
    "## Estructura de un compilador"
   ]
  },
  {
   "cell_type": "markdown",
   "id": "fe92f5ea-f796-4203-8dd5-c85402ab9ccf",
   "metadata": {},
   "source": [
    "* Un compilador es un programa complejo que consta de una serie de pasos o fases bien definidas y sistematizadas"
   ]
  },
  {
   "cell_type": "markdown",
   "id": "b0d55d6a-f7be-47a1-a60c-06582b96c586",
   "metadata": {},
   "source": [
    "### Etapas del proceso de compilación"
   ]
  },
  {
   "cell_type": "markdown",
   "id": "99f0c1eb-e5c7-45d6-ab62-98b3db5aa00f",
   "metadata": {},
   "source": [
    "| Etapa        |                                                         |\n",
    "| --           | --                                                      |\n",
    "| **Análisis** | analiza la entrada y genera estructuras intermedias     |\n",
    "| **Síntesis** | sintetiza la salida a partir de estructuras intermedias |"
   ]
  },
  {
   "cell_type": "markdown",
   "id": "7b66e4f1-de02-4a6a-8d66-d76b7ea43732",
   "metadata": {},
   "source": [
    "![Etapas](img/etapas.png)"
   ]
  },
  {
   "cell_type": "markdown",
   "id": "f8b55842-78e7-4e32-8067-b10c95119642",
   "metadata": {},
   "source": [
    "### Fases del proceso de compilación"
   ]
  },
  {
   "cell_type": "markdown",
   "id": "4a938b02-faf5-4444-be3c-5dd8cfecfcb0",
   "metadata": {},
   "source": [
    "| Fase                 |                                                                                                                         | Comienza          | Finaliza          |\n",
    "| --                   | --                                                                                                                      | --                | --                |\n",
    "| **Frontend/Inicial** | agrupa las fases dependientes del lenguaje fuente e independientes de la máquina final                                  | código fuente     | código intermedio |\n",
    "| **Backend/Final**    | agrupa las fases independientes del lenguaje fuente, pero dependientes del código intermedio y de la máquina de destino | código intermedio | código final      |"
   ]
  },
  {
   "cell_type": "markdown",
   "id": "69d56fb8-47ee-4f15-be7a-642ce8c7b643",
   "metadata": {},
   "source": [
    "![Estructura](img/estructura.png)"
   ]
  },
  {
   "cell_type": "markdown",
   "id": "76a930e3-3f9c-4f6f-8681-f872f1e2d647",
   "metadata": {},
   "source": [
    "### Tablas de símbolos y de tipos"
   ]
  },
  {
   "cell_type": "markdown",
   "id": "ba25933c-e16a-47c5-9906-56a84cc5b3f8",
   "metadata": {},
   "source": [
    "| Tablas                | Guarda información sobre ...                                                                                                                                   |\n",
    "| --                    | --                                                                                                                                                             |\n",
    "| **Tabla de Símbolos** | variables declaradas, funciones y procedimientos, parámetros y en general cuanta información vaya a ser necesaria para realizar todo el proceso de compilación |\n",
    "| **Tabla de Tipos**    | tipos básicos y tipos definidos en el programa a compilar                                                                                                      |"
   ]
  },
  {
   "cell_type": "markdown",
   "id": "1a56eafc-5348-435c-a27f-dc152e817afa",
   "metadata": {},
   "source": [
    "### Gestión de errores"
   ]
  },
  {
   "cell_type": "markdown",
   "id": "98d0407f-95ed-4d87-9d5f-d6e36a6eb41e",
   "metadata": {},
   "source": [
    "* Se realiza durante todas las fases del compilador\n",
    "* Informa al programador dónde hay errores, de que tipo son, etc.\n",
    "* Cuanta más información sea capaz de dar al programador (claridad y exactitud), mejor, evitando ralentizar los programas correctos"
   ]
  },
  {
   "cell_type": "markdown",
   "id": "8bc56ab0-c7a1-421b-9b03-c06cd28c8f79",
   "metadata": {},
   "source": [
    "![Tipos de errores en la programación](img/errores.jpg)"
   ]
  },
  {
   "cell_type": "markdown",
   "id": "20949d9e-7d59-45da-a4fd-f0e53abd6d5e",
   "metadata": {},
   "source": [
    "### Analizador léxico (scanner)"
   ]
  },
  {
   "cell_type": "markdown",
   "id": "b382c8a4-f895-4b1e-b282-54cae1f68619",
   "metadata": {},
   "source": [
    "* Se comienza a leer la cadena de entrada y los caracteres que se reconocen se agrupan en componentes léxicos (tokens)"
   ]
  },
  {
   "cell_type": "markdown",
   "id": "9803fe81-300a-4251-8ac1-0fa3f6417aaa",
   "metadata": {},
   "source": [
    "### Analizador sintáctico (parser)"
   ]
  },
  {
   "cell_type": "markdown",
   "id": "4cf1a1a2-82f1-4496-bfb4-e6b88c72e136",
   "metadata": {},
   "source": [
    "* Agrupa los tokens en frases que la gramática del lenguaje reconoce construyendo un árbol sintáctico\n",
    "* Los dos analizadores suelen trabajar unidos e incluso el léxico suele ser una subrutina del sintáctico"
   ]
  },
  {
   "cell_type": "markdown",
   "id": "d8000c1e-933e-4bd8-a091-1c8911cee04b",
   "metadata": {},
   "source": [
    "### Analizador semántico"
   ]
  },
  {
   "cell_type": "markdown",
   "id": "ac8fdd3c-b2fb-42c0-a835-4a8398ee79bc",
   "metadata": {},
   "source": [
    "* Identifica el comportamiento (significado), busca errores semánticos, verifica los tipos, determina operadores y operandos\n",
    "* Utiliza atributos que se agregan al árbol, construyendo así el árbol con anotaciones (o decorado)"
   ]
  },
  {
   "cell_type": "markdown",
   "id": "4636d3a8-5038-4212-a62c-a76432fc566a",
   "metadata": {},
   "source": [
    "### Generador de código intermedio"
   ]
  },
  {
   "cell_type": "markdown",
   "id": "c16fc3da-87f6-4dbe-b783-3f101ef21577",
   "metadata": {},
   "source": [
    "* Genera código para la máquina objetivo en lenguaje ensamblador\n",
    "* Cambiando esta parte de síntesis, nos permite tener compiladores para las máquinas que se necesite"
   ]
  },
  {
   "cell_type": "markdown",
   "id": "2c6ace66-86e6-4fdc-9c21-5d3f2462a2e8",
   "metadata": {},
   "source": [
    "### Optimizador"
   ]
  },
  {
   "cell_type": "markdown",
   "id": "ee94d2f7-e343-416d-8ace-9b52cd180f78",
   "metadata": {},
   "source": [
    "* Se intenta mejorar (reducir el número de instrucciones necesarias para realizar las mismas operaciones) el código intermedio y, por tanto, el código objetivo mediante distintas técnicas"
   ]
  },
  {
   "cell_type": "markdown",
   "id": "ca490b5b-df0e-4f9c-a047-68bacf42114e",
   "metadata": {},
   "source": [
    "### Generador de código"
   ]
  },
  {
   "cell_type": "markdown",
   "id": "5fb7b67b-221b-4304-9616-5fae1d1ef9fa",
   "metadata": {},
   "source": [
    "* Genera el código binario de la máquina objetivo una vez que ha sido optimizado\n",
    "* Es un proceso mecánico que consiste en ir pasando las distintas instrucciones de CI al lenguaje ensamblador de la máquina que se vaya a utilizar"
   ]
  },
  {
   "cell_type": "markdown",
   "id": "769812b8-7589-4464-ae65-8193a11d3db4",
   "metadata": {},
   "source": [
    "## Resumen"
   ]
  },
  {
   "cell_type": "markdown",
   "id": "e7d63125-8e8b-4eea-b478-4585ed5a4885",
   "metadata": {},
   "source": [
    "![Funcionamiento Compilador](img/funcionamiento-compilador.png)"
   ]
  },
  {
   "cell_type": "markdown",
   "id": "0df00b1e-861a-4932-ada9-7760676208d0",
   "metadata": {},
   "source": [
    "## Cómo se crea un LP"
   ]
  },
  {
   "cell_type": "markdown",
   "id": "27c4c501-0050-4ba0-942d-5d50c0e996b6",
   "metadata": {},
   "source": [
    "![Creación LP](img/creacion-lenguaje.png)"
   ]
  },
  {
   "cell_type": "markdown",
   "id": "e3119319-75eb-4365-bb58-56c0c60e2e80",
   "metadata": {},
   "source": [
    "## Herramientas y descripciones del lenguaje a crear"
   ]
  },
  {
   "cell_type": "markdown",
   "id": "8def9ca6-a8ca-487a-831b-5e31185bfb91",
   "metadata": {},
   "source": [
    "1. Definir el lenguaje a crear (para qué lenguaje se va a hacer el compilador)\n",
    "1. Definir **especificación léxica** (los lexemas que utiliza)\n",
    "1. Definir **especificación sintáctica** (la ordenación válida de esos lexemas)\n",
    "1. Definir **especificación semántica** (descripción del significado de cada lexema y las reglas que deben cumplirse)\n",
    "1. Saber si existe ya un código intermedio que se pueda utilizar o hay que crear uno nuevo y el código final que se utilizará\n",
    "1. Seleccionar el lenguaje base (lenguaje de implementación del propio compilador) y herramientas compatibles"
   ]
  },
  {
   "cell_type": "markdown",
   "id": "2b38d866-4645-4b36-bac0-013808568edb",
   "metadata": {},
   "source": [
    "![LP](img/lenguajes.png)"
   ]
  },
  {
   "cell_type": "markdown",
   "id": "e723b837-9f5d-4258-a02c-017d61979056",
   "metadata": {},
   "source": [
    "## Diseño del compilador"
   ]
  },
  {
   "cell_type": "markdown",
   "id": "9e67c0a7-28cc-410f-879d-e1d04e1f006e",
   "metadata": {},
   "source": [
    "* A la hora de diseñar un compilador, se utilizan los diagramas de Tombstone:"
   ]
  },
  {
   "cell_type": "markdown",
   "id": "6e133037-25d6-448b-bb87-86e14551008c",
   "metadata": {},
   "source": [
    "![Diagramas de Tombstone](img/tombstone1.png)"
   ]
  },
  {
   "cell_type": "markdown",
   "id": "baea5013-c157-4d98-ab29-c1802be56ec5",
   "metadata": {},
   "source": [
    "![Diagramas de Tombstone](img/tombstone2.png)"
   ]
  },
  {
   "cell_type": "markdown",
   "id": "5e3959cb-927a-4ee5-9b30-594932690d7f",
   "metadata": {},
   "source": [
    "## Tipos de Lenguajes"
   ]
  },
  {
   "cell_type": "markdown",
   "id": "7e17fb80-2ec7-4c13-93d7-2da58e9edb8d",
   "metadata": {},
   "source": [
    "![Tipos de Lenguajes](img/lenguajes-tipos.jpg)"
   ]
  }
 ],
 "metadata": {
  "kernelspec": {
   "display_name": "Python [conda env:base] *",
   "language": "python",
   "name": "conda-base-py"
  },
  "language_info": {
   "codemirror_mode": {
    "name": "ipython",
    "version": 3
   },
   "file_extension": ".py",
   "mimetype": "text/x-python",
   "name": "python",
   "nbconvert_exporter": "python",
   "pygments_lexer": "ipython3",
   "version": "3.12.7"
  }
 },
 "nbformat": 4,
 "nbformat_minor": 5
}
