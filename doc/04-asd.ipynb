{
 "cells": [
  {
   "cell_type": "markdown",
   "id": "93ff51e8-144f-4413-8399-05769f3e1363",
   "metadata": {},
   "source": [
    "# Análisis Sintáctico Descendente (ASD)"
   ]
  },
  {
   "cell_type": "markdown",
   "id": "6efd9364-04fc-40ee-aad6-3379d37c3978",
   "metadata": {},
   "source": [
    "## ASD con retroceso"
   ]
  },
  {
   "cell_type": "markdown",
   "id": "b7168a47-1d14-4f7e-908d-010169faee76",
   "metadata": {},
   "source": [
    "* Consiste en recorrer el árbol de izquierda a derecha y de arriba abajo de manera que para la sentencia a analizar, se la compara con cada nodo del árbol que va recorriendo y en el caso de que los terminales a la izquierda del primer no terminal no coincidan, se termina la búsqueda por esa rama y se vuelve hacia atrás para buscar otra rama\n",
    "* Problema: ineficiente"
   ]
  },
  {
   "cell_type": "markdown",
   "id": "0b39a868-1f7f-43fd-ae7f-8acc42b39ec6",
   "metadata": {},
   "source": [
    "### Ejemplo ASD con retroceso"
   ]
  },
  {
   "cell_type": "markdown",
   "id": "6a9422e5-0222-443d-b9e9-84420ea5c229",
   "metadata": {},
   "source": [
    "$$S \\rightarrow c(S,S) \\mid g(S) \\mid 1 \\mid 2$$"
   ]
  },
  {
   "cell_type": "markdown",
   "id": "5a44d683-2fd6-4473-b4ab-58027777ac29",
   "metadata": {},
   "source": [
    "![ASD con retroceso](img/asd.png)"
   ]
  },
  {
   "cell_type": "markdown",
   "id": "b4978ac4-3ffe-4e66-a90f-98f9224296fc",
   "metadata": {},
   "source": [
    "| Pila | Entrada | Transición |\n",
    "| -- | -- | -- |\n",
    "| λ | c(g(1),2) | δ(q0, λ, λ) = (q1, #) |\n",
    "| # | c(g(1),2) | δ(q1, λ, λ) = (q2, S) |\n",
    "| #S | c(g(1),2) | δ(q2, λ, S) = (q2, c(S,S)) |\n",
    "| #)S,S(c | c(g(1),2) | δ(q2, c, c) = (q2, λ) |\n",
    "| #)S,S( | (g(1),2) | δ(q2, (, () = (q2, λ) |\n",
    "| #)S,S | g(1),2) | δ(q2, λ, S) = (q2, g(S)) |\n",
    "| #)S,)S(g | g(1),2) | δ(q2, g, g) = (q2, λ) |\n",
    "| #)S,)S( | (1),2) | δ(q2, (, () = (q2, λ) |\n",
    "| #)S,)S | 1),2) | δ(q2, λ, S) = (q2, 1) |\n",
    "| #)S,)1 | 1),2) | δ(q2, 1, 1) = (q2, λ) |\n",
    "| #)S,) | ),2) | δ(q2, ), )) = (q2, λ) |\n",
    "| #)S, | ,2) | δ(q2, ,, ,) = (q2, λ) |\n",
    "| #)S | 2) | δ(q2, λ, S) = (q2, 2) |\n",
    "| #)2 | 2) | δ(q2, 2, 2) = (q2, λ) |\n",
    "| #) | ) | δ(q2, ), )) = (q2, λ) |\n",
    "| # | λ |  δ(q2, λ, #) = (q3, λ) |\n",
    "| λ | λ |  accept |"
   ]
  },
  {
   "cell_type": "markdown",
   "id": "b20b2464-f58c-4f26-ae8c-a089f7c0491a",
   "metadata": {},
   "source": [
    "## ASDP LL(1)"
   ]
  },
  {
   "cell_type": "markdown",
   "id": "e8254b8a-9705-4e71-8e0f-24f3c75de810",
   "metadata": {},
   "source": [
    "* Analizador Sintáctico Descendente Predictivo (ADSP) o Left to right Leftmost derivation (LL)\n",
    "\n",
    "|       |                     |                                         |\n",
    "| --    | --                  | --                                      |\n",
    "| **L** | left to right       | lee la entrada de izquierda a derecha   |\n",
    "| **L** | leftmost derivation | produce una derivación por la izquierda |\n",
    "\n",
    "* Se aumenta la eficiencia, siendo capaces de saber que producción aplicar. Es decir, si se tiene un token y una serie de reglas a aplicar, se debe poder elegir una de ellas mirando si el primer token coincide con el que se tiene seleccionado (un solo símbolo de preanálisis)\n",
    "* A las GIC que cumplen estos requisitos, se les llaman LL(1)\n",
    "* Para implementar un ASDP, se utiliza el concepto de predicción\n",
    "* Se trata de relacionar cada producción con todos los posibles terminales a que se puede acceder aplicada dicha producción\n",
    "* Cuando el Parser no puede decidir qué producción aplicar se llama CONFLICTO y una de las tareas más difíciles en el diseño de un compilador es la creación de una GIC que no tenga conflictos\n",
    "* Varias técnicas producen GIC equivalentes y sin conflictos\n",
    "* En resumen: LL(1) es una GIC que trabaja con un Parser que lee la entrada de izquierda a derecha y realiza una derivación por izquierda. LL(1) es muy útil porque sólo necesita conocer un símbolo de preanálisis (un token) para realizar la derivación por izquierda\n",
    "* Se debe conocer el conjunto de predicción para poder implementar un ASDP\n",
    "* Para obtener el conjunto de predicción, se deben obtener: el conjunto de primeros y el conjunto de siguientes"
   ]
  },
  {
   "cell_type": "markdown",
   "id": "4c277b49-6135-4b5d-bb96-64ba05ebd6c5",
   "metadata": {},
   "source": [
    "### Algoritmo conjunto de primeros"
   ]
  },
  {
   "cell_type": "markdown",
   "id": "aa01f446-77ea-4781-b3eb-4a63d904d4d9",
   "metadata": {},
   "source": [
    "```\n",
    "Sea A -> a1...an una producción\n",
    "\n",
    "Si (a1...an  =  λ) \n",
    "    PRIM(a1...an) = {λ}\n",
    "Sino    \n",
    "    Si (a1 ∈ ΣT)\n",
    "        PRIM(a1...an) = {a1} \n",
    "    Si (a1 ∈ ΣN)\n",
    "        Calcular PRIM(a1). PRIM(a1) es el resultado de unir todos los PRIM de todas las partes derechas de las producciones de a1 en la gramática\n",
    "        Si (λ ∈ PRIM(a1) y a1 no es el último símbolo de a1...an)\n",
    "            PRIM(a1...an) = (PRIM(a1) – {λ}) U PRIM(a2...an)\n",
    "        Sino\n",
    "            PRIM(a1...an) = PRIM(a1)\n",
    "```"
   ]
  },
  {
   "cell_type": "markdown",
   "id": "4c86c645-a463-4268-91e2-73fbfe174c90",
   "metadata": {},
   "source": [
    "### Algoritmo conjunto de siguientes"
   ]
  },
  {
   "cell_type": "markdown",
   "id": "d5e07d69-63db-4904-9599-641de13e7a6b",
   "metadata": {},
   "source": [
    "```\n",
    "Sea A -> a1...an una producción\n",
    "Para obtener SIG(A), se inspecciona la GIC buscando todas las ocurrencias de A\n",
    "\n",
    "Si (A es el axioma) \n",
    "    SIG(A) = {$}\n",
    "Sino \n",
    "    SIG(A) = {}\n",
    "Para (Produccion p : producciones) se pueden dar estas situaciones\n",
    "    (...Ax...), donde x ∈ ΣT, entonces SIG(A) = SIG(A) U {x}\n",
    "    (...AB...), donde B ∈ ΣN, entonces SIG(A) = SIG(A) U (PRIM(B) – {λ})\n",
    "    (T -> ...A), donde A es el último símbolo del lado derecho en cierta producción o (T -> ...AB) en que λ ∈ PRIM(B), entonces SIG(A) = SIG(A) U SIG(T)\n",
    "```"
   ]
  },
  {
   "cell_type": "markdown",
   "id": "cf3967c9-17ec-42d4-b17d-3aedd4ac8885",
   "metadata": {},
   "source": [
    "### Algoritmo conjunto de predicciones"
   ]
  },
  {
   "cell_type": "markdown",
   "id": "b1ff7a8d-9a92-470d-9f8d-49737becd7a7",
   "metadata": {},
   "source": [
    "```\n",
    "Si (λ ∈ PRIM(a1...an))\n",
    "    PRED(A -> a1...an) = (PRIM(a1...an) – {λ}) U SIG(A)\n",
    "Sino\n",
    "    PRED(A -> a1...an) = PRIM(a1...an)\n",
    "```"
   ]
  },
  {
   "cell_type": "markdown",
   "id": "e0c59d3a-aee4-4e32-ac9c-6e5d828468cd",
   "metadata": {},
   "source": [
    "### Algoritmo verificación si es gramática LL(1)"
   ]
  },
  {
   "cell_type": "markdown",
   "id": "975857c5-1f32-4d05-b1c7-a4cd1a013769",
   "metadata": {},
   "source": [
    "* La condición para que se pueda construir un ASDP a partir de una GIC dice si la GIC es del tipo LL(1)\n",
    "* Es decir, toda GIC del tipo LL(1) permite construir un ASDP sobre ella, y viceversa\n",
    "* Condición LL(1): para todas las producciones de la gramática para un mismo no terminal A:\n",
    "  * A -> α1 | α2 | ... | αn\n",
    "  * Se debe cumplir: Para todo i, j distintos => PRED(A -> αi) ∩ PRED(A -> αj) = {} = Ø"
   ]
  },
  {
   "cell_type": "markdown",
   "id": "53d0345d-130a-468c-ad6b-ce6991421baa",
   "metadata": {},
   "source": [
    "### Ejemplo 1"
   ]
  },
  {
   "cell_type": "markdown",
   "id": "b01f3fcf-180d-4ea6-b0aa-764e894c0b70",
   "metadata": {},
   "source": [
    "$$S \\rightarrow aST \\mid b$$\n",
    "\n",
    "$$T \\rightarrow cT \\mid d$$\n",
    "\n",
    "||\n",
    "| -- |\n",
    "| PRIM(S) = PRIM(S -> aST) U PRIM(S -> b) = {a, b} |\n",
    "| PRIM(T) = PRIM(T -> cT) U PRIM(T -> d) = {c, d} |\n",
    "||\n",
    "| SIG(S) = {\\$, c, d} |\n",
    "| SIG(T) = {\\$, c, d} |\n",
    "||\n",
    "| PRED(S -> aST) = {a} |\n",
    "| PRED(S -> b) = {b} |\n",
    "| PRED(T -> cT) = {c} |\n",
    "| PRED(T -> d) = {d} |\n",
    "||\n",
    "| PRED(S -> aST) ∩ PRED(S -> b) = {a} ∩ {b} = {} |\n",
    "| PRED(T -> cT) ∩ PRED(T -> d) = {c} ∩ {d} = {} |\n",
    "| Es LL(1) |\n",
    "\n"
   ]
  },
  {
   "cell_type": "markdown",
   "id": "4a20dc79-309a-4b90-b991-6f12b97e1676",
   "metadata": {},
   "source": [
    "### Ejemplo 2"
   ]
  },
  {
   "cell_type": "markdown",
   "id": "96d8412e-b2eb-4668-895d-562b270336cd",
   "metadata": {},
   "source": [
    " $$S \\rightarrow c(S,S) \\mid g(S) \\mid 1 \\mid 2$$\n",
    "\n",
    "||\n",
    "| -- |\n",
    "| PRIM(S) = PRIM(S -> c(S,S)) U PRIM(S -> g(S)) U PRIM(S -> 1) U PRIM(S -> 2) = {c, g, 1, 2} |\n",
    "||\n",
    "| SIG(S) = {\\$, ',', )} |\n",
    "||\n",
    "| PRED(S -> c(S,S)) = {c} |\n",
    "| PRED(S -> g(S)) = {g} |\n",
    "| PRED(S -> 1) = {1} |\n",
    "| PRED(S -> 2) = {2} |\n",
    "||\n",
    "| PRED(S -> c(S,S)) ∩ PRED(S -> g(S)) ∩ PRED(S -> 1) ∩ PRED(S -> 2) = {c} ∩ {g} ∩ {1} ∩ {2} = {} |\n",
    "| Es LL(1) |"
   ]
  },
  {
   "cell_type": "markdown",
   "id": "5872e412-e21c-475d-b83c-3ef7255b282b",
   "metadata": {},
   "source": [
    "### Ejemplo 3"
   ]
  },
  {
   "cell_type": "markdown",
   "id": "d7b1b9af-e248-452f-a429-51ffc64aa3b6",
   "metadata": {},
   "source": [
    "$$P \\rightarrow HDB \\mid Pf$$\n",
    "$$H \\rightarrow i \\mid \\lambda$$\n",
    "$$D \\rightarrow v \\mid \\lambda$$\n",
    "$$B \\rightarrow s \\mid Dfd \\mid \\lambda$$\n",
    "\n",
    "||\n",
    "| -- |\n",
    "| PRIM(H) = {i, λ} |\n",
    "| PRIM(D) = {v, λ} |\n",
    "| PRIM(B) = {s, v, fd, λ} |\n",
    "| PRIM(P) = {i, s, v, fd, λ, f} |\n",
    "||\n",
    "| SIG(P) = {\\$, f} |\n",
    "| SIG(H) = {s, v, fd, \\$, f} |\n",
    "| SIG(D) = {s, v, fd, \\$, f} |\n",
    "| SIG(B) = {\\$, f} |"
   ]
  },
  {
   "cell_type": "markdown",
   "id": "1ca09c45-7ff2-434a-aa83-07e13cf30ec8",
   "metadata": {},
   "source": [
    "### Ejemplo 4"
   ]
  },
  {
   "cell_type": "markdown",
   "id": "a9eee183-366f-4b55-baa0-a41ee382488a",
   "metadata": {},
   "source": [
    "$$A \\rightarrow BCD$$ \n",
    "$$B \\rightarrow aCb \\mid \\lambda$$\n",
    "$$C \\rightarrow cAd \\mid eBf \\mid gDh \\mid \\lambda$$\n",
    "$$D \\rightarrow i$$\n",
    "\n",
    "||\n",
    "| -- |\n",
    "| PRIM(D) = {i} |\n",
    "| PRIM(C) = {c, e, g, λ} |\n",
    "| PRIM(B) = {a, λ} |\n",
    "| PRIM(A) = {a, c, e, g, i} |\n",
    "||\n",
    "| SIG(A) = {\\$, d} |\n",
    "| SIG(B) = {c, e, g, i, f} |\n",
    "| SIG(C) = {i, b} |\n",
    "| SIG(D) = {\\$, d, h} |\n",
    "||\n",
    "| PRED(A -> BCD) = {a, c, e, g, i} |\n",
    "| PRED(B -> aCb) = {a} |\n",
    "| PRED(B -> λ) = {c, e, g, i, f} |\n",
    "| PRED(C -> cAd) = {c} |\n",
    "| PRED(C -> eBf) = {e} |\n",
    "| PRED(C -> gDh) = {g} |\n",
    "| PRED(C -> λ) = {i, b} |\n",
    "| PRED(D -> i) = {i} |\n",
    "||\n",
    "| Es LL(1) |"
   ]
  },
  {
   "cell_type": "markdown",
   "id": "56094bd8-6c2d-48a5-89e5-18e91f41b6d0",
   "metadata": {},
   "source": [
    "### Ejemplo 5"
   ]
  },
  {
   "cell_type": "markdown",
   "id": "ba0ab3c4-4aa2-44c4-878d-b99ec9800cd9",
   "metadata": {},
   "source": [
    "$$S \\rightarrow aSe \\mid B$$\n",
    "$$B \\rightarrow bBe \\mid C$$\n",
    "$$C \\rightarrow cCe \\mid d$$\n",
    "\n",
    "||\n",
    "| -- |\n",
    "| PRIM(S) = {a, b, c, d} |\n",
    "| PRIM(B) = {b, c, d} |\n",
    "| PRIM(C) = {c, d} |\n",
    "||\n",
    "| SIG(S) = {e, \\$} |\n",
    "| SIG(B) = {e} |\n",
    "| SIG(C) = {e} |\n",
    "||\n",
    "| PRED(S -> aSe) = {a} |\n",
    "| PRED(S -> B) = {b, c, d} |\n",
    "| PRED(B -> bBe) = {b} |\n",
    "| PRED(B -> C) = {c, d} |\n",
    "| PRED(C -> cCe) = {c} |\n",
    "| PRED(C -> e) = {d} |\n",
    "||\n",
    "| Es LL(1) |"
   ]
  },
  {
   "cell_type": "markdown",
   "id": "6c091538-7872-4395-b4e5-d1e7c75bb84f",
   "metadata": {},
   "source": [
    "### Ejemplo 6"
   ]
  },
  {
   "cell_type": "markdown",
   "id": "ba2a0e9f-8188-4a88-b4d7-8bc21e6cddb2",
   "metadata": {},
   "source": [
    "$$S \\rightarrow ABe \\mid C$$\n",
    "$$A \\rightarrow dB \\mid aS \\mid c$$\n",
    "$$B \\rightarrow AS \\mid b$$\n",
    "$$C \\rightarrow b$$\n",
    "\n",
    "||\n",
    "| -- |\n",
    "| PRIM(S) = {a, b, c, d} |\n",
    "| PRIM(A) = {a, c, d} |\n",
    "| PRIM(B) = {a, b, c, d} |\n",
    "| PRIM(C) = {b} |"
   ]
  },
  {
   "cell_type": "markdown",
   "id": "26496357-f488-4742-b491-da36911b5ecc",
   "metadata": {},
   "source": [
    "### Ejemplo 7"
   ]
  },
  {
   "cell_type": "markdown",
   "id": "081a6f1e-6652-442a-9427-63d178f268b7",
   "metadata": {},
   "source": [
    "$$S  \\rightarrow iCtP$$\n",
    "$$C \\rightarrow CoD \\mid D \\mid (C)$$\n",
    "$$D \\rightarrow DaE \\mid E$$\n",
    "$$E \\rightarrow l$$\n",
    "$$P \\rightarrow P+Q \\mid Q$$\n",
    "$$Q \\rightarrow Q*R \\mid R$$\n",
    "$$R \\rightarrow d$$\n",
    "\n",
    "||\n",
    "| -- |\n",
    "| PRIM(S) = {i} |\n",
    "| PRIM(C) = {(, l} |\n",
    "| PRIM(D) = {l} |\n",
    "| PRIM(E) = {l} |\n",
    "| PRIM(P) = {d} |\n",
    "| PRIM(Q) = {d} |\n",
    "| PRIM(R) = {d} |\n",
    "||\n",
    "| SIG(S) = {\\$} |\n",
    "| SIG(C) = {t, o, )} |\n",
    "| SIG(D) = {t, a} |\n",
    "| SIG(E) = {t, a} |\n",
    "| SIG(P) = {\\$, +} |\n",
    "| SIG(Q) = {\\$, +, *} |\n",
    "| SIG(R) = {\\$, +, *} |"
   ]
  },
  {
   "cell_type": "markdown",
   "id": "2dd51c56-89f2-4129-8aef-d7fdb8952d1d",
   "metadata": {},
   "source": [
    "### Ejemplo 8"
   ]
  },
  {
   "cell_type": "markdown",
   "id": "71ef682d-ad57-4b8b-ab53-1b02804a1060",
   "metadata": {},
   "source": [
    "$$E \\rightarrow TS$$\n",
    "$$T \\rightarrow + \\mid -$$\n",
    "$$S \\rightarrow num \\mid \\lambda$$\n",
    "\n",
    "||\n",
    "| -- |\n",
    "| PRED(E -> TS) = {+, -} |\n",
    "| PRED(T -> +) = {+} |\n",
    "| PRED(T -> -) = {-} |\n",
    "| PRED(S -> num) = {num} |\n",
    "| PRED(S -> λ) = {\\$} |\n",
    "||\n",
    "| Es LL(1) |"
   ]
  },
  {
   "cell_type": "markdown",
   "id": "365a644d-5eba-4ddf-a187-51ccd568ac20",
   "metadata": {},
   "source": [
    "### Ejemplo 9"
   ]
  },
  {
   "cell_type": "markdown",
   "id": "4d58171a-ebe6-4494-8f20-6b6924efcd93",
   "metadata": {},
   "source": [
    "$$S \\rightarrow AB$$\n",
    "$$A \\rightarrow a \\mid \\lambda$$\n",
    "$$B \\rightarrow bCd$$\n",
    "$$C \\rightarrow c \\mid \\lambda$$\n",
    "\n",
    "||\n",
    "| -- |\n",
    "| PRED(S -> AB) = {a, b} |\n",
    "| PRED(A -> a) = {a} |\n",
    "| PRED(A -> λ) = {b} |\n",
    "| PRED(B -> bCd) = {b} |\n",
    "| PRED(C -> c) = {c} |\n",
    "| PRED(C -> λ) = {d} |\n",
    "||\n",
    "| Es LL(1) |"
   ]
  },
  {
   "cell_type": "markdown",
   "id": "6417bf98-f584-499a-90e7-9ea29d02bf52",
   "metadata": {},
   "source": [
    "### Ejemplo 10"
   ]
  },
  {
   "cell_type": "markdown",
   "id": "328e8ddd-7302-404d-a631-f13019f1f733",
   "metadata": {},
   "source": [
    "$$S \\rightarrow zMNz$$\n",
    "$$M \\rightarrow aMa \\mid z$$\n",
    "$$N \\rightarrow bNb \\mid z$$\n",
    "\n",
    "||\n",
    "| -- |\n",
    "| PRED(S -> zMNz) = {z} |\n",
    "| PRED(M -> aMa) = {a} |\n",
    "| PRED(M -> z) = {z} |\n",
    "| PRED(N -> bNb) = {b} |\n",
    "| PRED(N -> z) = {z} |\n",
    "||\n",
    "| Es LL(1) |"
   ]
  },
  {
   "cell_type": "markdown",
   "id": "84736104-9694-48aa-b75d-2032b8c8fd36",
   "metadata": {},
   "source": [
    "### Conversión a GIC LL(1)"
   ]
  },
  {
   "cell_type": "markdown",
   "id": "6030bef9-bae0-4c68-b35f-a3464e4b5c80",
   "metadata": {},
   "source": [
    "* Con seguridad se sabe que una GIC no es LL(1) si:\n",
    "  * Es una GIC ambigua -> replantear la GIC\n",
    "  * Tiene factores comunes por la izquierda\n",
    "\n",
    "    ```grammar\n",
    "    Cambiar las reglas del tipo: A -> aβ1 | aβ2 | ... | aβn\n",
    "    Por estas reglas:\n",
    "        A -> aA’\n",
    "        A’-> β1 | β2 | ... | βn\n",
    "    ```\n",
    "\n",
    "  * Es recursiva por la izquierda\n",
    "\n",
    "    ```grammar\n",
    "    Cambiar las reglas del tipo: A ->  Aa | β\n",
    "    Por estas reglas:\n",
    "        A -> βA’\n",
    "        A’-> aA’ | λ\n",
    "    ```\n",
    "\n",
    "* El caso contrario no tiene porqué ser cierto. Es decir:\n",
    "\n",
    "| Si una GIC no ... | |\n",
    "| -- | -- |\n",
    "| es **ambigua**                              | no permite decir que es LL(1)       |\n",
    "| tiene **factores comunes por la izquierda** | no indica con certeza que sea LL(1) |\n",
    "| es **recursiva por la izquierda**           | no asegura que sea LL(1)            |"
   ]
  },
  {
   "cell_type": "markdown",
   "id": "70eb8a37-3d3b-4bbb-92b3-d196ebcc2424",
   "metadata": {},
   "source": [
    "### Implementación de ASDP’s"
   ]
  },
  {
   "cell_type": "markdown",
   "id": "d42707f7-d071-49f5-8fde-4d4be411401d",
   "metadata": {},
   "source": [
    "* Si se conoce el siguiente símbolo a analizar, se puede construir un ASDP mediante diagramas de sintaxis y un lenguaje que admita recursión\n",
    "* Hay otra manera de construir este tipo de analizadores: **tabla de análisis**\n",
    "* La tabla que se construye representa el Parser LL (Autómata Finito a Pila de la gramática LL), por lo que es capaz de analizar cualquier palabra y ver si es reconocida por el Parser LL correspondiente"
   ]
  },
  {
   "cell_type": "markdown",
   "id": "f6120011-9b2a-4cf3-bc9b-80d972712d7e",
   "metadata": {},
   "source": [
    "#### Ejemplo 1"
   ]
  },
  {
   "cell_type": "markdown",
   "id": "30e79fda-82e1-4326-a2a5-e06a2304a512",
   "metadata": {},
   "source": [
    "| Predicciones |\n",
    "| -- |\n",
    "| PRED(S -> aST) = {a} |\n",
    "| PRED(S -> b) = {b} |\n",
    "| PRED(T -> cT) = {c} |\n",
    "| PRED(T -> d) = {d} |\n",
    "\n",
    "| | a | b | c | d | $ |\n",
    "| -- | -- | -- | -- | -- | -- |\n",
    "| S | S -> aST | S -> b | error | error | error |\n",
    "| T | error | error | T -> cT | T -> d | error |\n",
    "\n",
    "| Pila | Entrada | Regla o Acción |\n",
    "| -- | -- | -- |\n",
    "| \\$S | aabcdd\\$ | S -> aST |\n",
    "| \\$TSa | aabcdd\\$ | Emparejar(a) |\n",
    "| \\$TS | abcdd\\$ | S -> aST |\n",
    "| \\$TTSa | abcdd\\$ | Emparejar(a) |\n",
    "| \\$TTS | bcdd\\$ | S -> b |\n",
    "| \\$TTb | bcdd\\$ | Emparejar(b) |\n",
    "| \\$TT | cdd\\$ | T -> cT |\n",
    "| \\$TTc | cdd\\$ | Emparejar(c) |\n",
    "| \\$TT | dd\\$ | T -> d |\n",
    "| \\$Td | dd\\$ | Emparejar(d) |\n",
    "| \\$T | d\\$ | T -> d |\n",
    "| \\$d | d\\$ | Emparejar(d) |\n",
    "| \\$ | \\$ | accept |"
   ]
  },
  {
   "cell_type": "markdown",
   "id": "3e6bbb07-a2db-42dc-9b0e-53391b5d8b0b",
   "metadata": {},
   "source": [
    "#### Ejemplo 2"
   ]
  },
  {
   "cell_type": "markdown",
   "id": "b1bfc25d-06df-42e4-a01d-45710cc4117a",
   "metadata": {},
   "source": [
    "| Predicciones |\n",
    "| -- |\n",
    "| PRED(S -> c(S,S)) = {c} |\n",
    "| PRED(S -> g(S)) = {g} |\n",
    "| PRED(S -> 1) = {1} |\n",
    "| PRED(S -> 2) = {2} |\n",
    "\n",
    "| | c | ( | , | ) | g | 1 | 2 | $ |\n",
    "| -- | -- | -- | -- | -- | -- | -- | -- | -- |\n",
    "| S | S -> c(S,S) | error | error | error | S -> g(S) | S -> 1 | S -> 2 | error |\n",
    "\n",
    "| Pila | Entrada | Regla o Acción |\n",
    "| -- | -- | -- |\n",
    "| \\$S | c(g(1),2)\\$ | S -> c(S,S) |\n",
    "| \\$)S,S(c | c(g(1),2)\\$ | Emparejar(c) |\n",
    "| \\$)S,S( | (g(1),2)\\$ | Emparejar('(') |\n",
    "| \\$)S,S | g(1),2)\\$ | S -> g(S) |\n",
    "| \\$)S,)S(g | g(1),2)\\$ | Emparejar(g) |\n",
    "| \\$)S,)S( | (1),2)\\$ | Emparejar('(') |\n",
    "| \\$)S,)S | 1),2)\\$ | S -> 1 |\n",
    "| \\$)S,)1 | 1),2)\\$ | Emparejar(1) |\n",
    "| \\$)S,) | ),2)\\$ | Emparejar(')') |\n",
    "| \\$)S, | ,2)\\$ | Emparejar(,) |\n",
    "| \\$)S | 2)\\$ | S -> 2 |\n",
    "| \\$)2 | 2)\\$ | Emparejar(2) |\n",
    "| \\$) | )\\$ | Emparejar(')') |\n",
    "| \\$ | \\$ | accept |"
   ]
  }
 ],
 "metadata": {
  "kernelspec": {
   "display_name": "Python [conda env:base] *",
   "language": "python",
   "name": "conda-base-py"
  },
  "language_info": {
   "codemirror_mode": {
    "name": "ipython",
    "version": 3
   },
   "file_extension": ".py",
   "mimetype": "text/x-python",
   "name": "python",
   "nbconvert_exporter": "python",
   "pygments_lexer": "ipython3",
   "version": "3.12.7"
  }
 },
 "nbformat": 4,
 "nbformat_minor": 5
}
