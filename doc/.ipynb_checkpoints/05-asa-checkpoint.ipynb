{
 "cells": [
  {
   "cell_type": "markdown",
   "id": "f09b42a4-1303-4e57-ac11-b9e708579e33",
   "metadata": {},
   "source": [
    "# Análisis Sintáctico Ascendente (ASA)\n",
    "---"
   ]
  },
  {
   "cell_type": "markdown",
   "id": "b2280bdc-d69a-4d94-afe6-19eb42909cf1",
   "metadata": {},
   "source": [
    "* Consiste en ir construyendo la inversa de la derivación por la derecha, a partir de una cadena de entrada, de manera que se parte de las hojas del árbol de análisis y se llega a la raíz\n",
    "* Lo mismo que había GIC LL(1), las hay LR(1), pero estas últimas forman un conjunto más amplio\n",
    "\n",
    "|       |                     |                                         |\n",
    "| --    | --                  | --                                      |\n",
    "| **L** | left to right       | lee la entrada de izquierda a derecha   |\n",
    "| **R** | righmost derivation | produce una derivación más a la derecha |\n",
    "\n",
    "* Hay métodos de análisis para gramáticas lineales por la derecha del tipo LR(1), pero el más utilizado, sobre todo por su sencillez, es el método SLR\n",
    "\n",
    "| Ventajas                                                                | Desventajas |\n",
    "| --                                                                      | -- |\n",
    "| Reconocen más lenguajes que las GIC LL (entre ellos los LP)             | Construir las tablas de análisis a mano es una tarea larga y compleja |\n",
    "| No exige que la GIC no sea recursiva a izquierda o que esté factorizada | Utilización de herramientas |\n",
    "| Permiten localizar errores sintácticos en forma precisa                 | |\n",
    "\n",
    "* La mayoría de los algoritmos para aplicar sobre GIC LR emplean lo que se llama un algoritmo por desplazamiento y reducción. Se utiliza una pila y una tabla de análisis\n",
    "* Recorren el árbol de derivación de abajo hacia arriba, por lo que se llaman también compiladores ascendentes. Cadena reconocida con el símbolo distinguido en el tope de la pila (se analiza el tope de la pila)\n",
    "* Hay varios tipos de ASA:\n",
    "  * Con retroceso (ASA con retroceso)\n",
    "  * Predictivos (ASAP): LR(0) o SLR, LR(1), LALR"
   ]
  },
  {
   "cell_type": "markdown",
   "id": "31e894a3-5b03-4b93-8b51-ded8aed02d77",
   "metadata": {},
   "source": [
    "## ASA con retroceso"
   ]
  },
  {
   "cell_type": "markdown",
   "id": "aeb2c427-8104-4756-8abc-fd69a863d605",
   "metadata": {},
   "source": [
    "$$S \\rightarrow c(S,S) \\mid g(S) \\mid 1 \\mid 2$$"
   ]
  },
  {
   "cell_type": "markdown",
   "id": "a450d244-a43b-4b6e-b17c-b56325069b41",
   "metadata": {},
   "source": [
    "![ASA con retroceso](img/asa.png)"
   ]
  },
  {
   "cell_type": "markdown",
   "id": "a7b8c459-04c2-44e7-a63a-69b621f69750",
   "metadata": {},
   "source": [
    "| Pila    | Entrada   | Transición            |\n",
    "| --      | --        | --                    |\n",
    "| λ       | c(g(1),2) | δ(q0, λ, λ) = (q1, #) |\n",
    "| #       | c(g(1),2) | shift                 |\n",
    "| #c      | (g(1),2)  | shift                 |\n",
    "| #c(     | g(1),2)   | shift                 |\n",
    "| #c(g    | (1),2)    | shift                 |\n",
    "| #c(g(   | 1),2)     | shift                 |\n",
    "| #c(g(1  | ),2)      | reduce                |\n",
    "| #c(g(S  | ),2)      | shift                 |\n",
    "| #c(g(S) | ,2)       | reduce                |\n",
    "| #c(S    | ,2)       | shift                 |\n",
    "| #c(S,   | 2)        | shift                 |\n",
    "| #c(S,2  | )         | reduce                |\n",
    "| #c(S,S  | )         | shift                 |\n",
    "| #c(S,S) | λ         | reduce                |\n",
    "| #S      | λ         | δ(q1, λ, S) = (q2, λ) |\n",
    "| #       | λ         | δ(q2, λ, #) = (q3, λ) |\n",
    "| λ       | λ         | accept                |"
   ]
  },
  {
   "cell_type": "markdown",
   "id": "66388cb5-9852-4199-8eb4-ce07b2bf5794",
   "metadata": {},
   "source": [
    "## SLR"
   ]
  },
  {
   "cell_type": "markdown",
   "id": "7042b951-8a97-44c5-be4a-7bdea0722a27",
   "metadata": {},
   "source": [
    "* Es un tipo de ASAP\n",
    "* Dada la naturaleza inversa de la construcción del árbol, resulta conveniente introducir el concepto de reducción como contrapartida de una derivación\n",
    "* Si $A \\rightarrow B\\beta$, entonces $\\rightarrow B\\beta$ puede reducirse a A, reemplazando el cuerpo de la regla por su cabeza\n",
    "* Así, el parsing ascendente consiste en reducir la entrada al axioma de la GIC\n",
    "* De forma equivalente, puede verse como la manera de encontrar la inversa de la derivación por la derecha de la entrada analizada\n",
    "* Este analizador funciona desplazando (**shift**) símbolos leídos de la entrada hasta que en el tope de la pila queden los símbolos necesarios para realizar una reducción (**reduce**), aplicando a la inversa una de las reglas de producción de la gramática\n",
    "* En ese momento, se reemplaza dichos símbolos (que coinciden con del cuerpo de la regla) por la cabeza de la regla, la cual ahora queda como nuevo tope\n",
    "* El analizador en cada paso realizará una de cuatro acciones posibles:\n",
    "\n",
    "| Acción     |    | Formato |\n",
    "| --         | -- | --      |\n",
    "| **shift**  | desplazar el siguiente símbolo de entrada (puntero) al tope de la pila (apilando un estado) | D(q), donde q es el estado a apilar |\n",
    "| **reduce** | reducir los símbolos a partir del tope de la pila, reemplazandolos por la cabeza de la regla usada para la reducción | R(n), donde n es el número de regla. Para reducir una regla, se desapilan tantos estados como símbolos tenga la parte derecha de la regla y luego se llama al método GOTO(q, A) donde q es el estado que hay en el tope de la pila (tras desapilar los estados correspondientes) y A es la parte izquierda de la regla |\n",
    "| **accept** | terminar el análisis exitosamente. Se acepta la palabra | |\n",
    "| **reject** | reportar que la entrada no pudo ser analizada correctamente. Se rechaza la palabra | |"
   ]
  },
  {
   "cell_type": "markdown",
   "id": "db879bdb-60c1-4c09-8a20-dd0b77f0b092",
   "metadata": {},
   "source": [
    "### Algoritmo de desplazamiento y reducción"
   ]
  },
  {
   "cell_type": "markdown",
   "id": "f940dcee-e71e-45bc-ad8e-0197a89d472f",
   "metadata": {},
   "source": [
    "* Se utiliza una pila de estados y una tabla de análisis. En función del tope de la pila y del estado actual, se pasa a otro estado o se realiza una acción (de las cuatro descritas)\n",
    "* A la acción de ir a un estado se lo llama método GOTO\n",
    "* Formato: GOTO(q, A), donde q es un estado y A un no terminal  (el de la parte izquierda de la producción)\n",
    "* El estado es el de la pila de estados\n",
    "* Cuando se hace GOTO se debe apilar el estado indicado por esta acción\n",
    "* Ejemplo: GOTO(2, A) su valor en la celda es el que hay que apilar"
   ]
  },
  {
   "cell_type": "markdown",
   "id": "2bc1a3f5-e268-4c7d-bbf0-182293b32828",
   "metadata": {},
   "source": [
    "### Ejemplo 1"
   ]
  },
  {
   "cell_type": "markdown",
   "id": "e4964a4a-1b62-4d8f-859b-078d9896329f",
   "metadata": {},
   "source": [
    "$E \\rightarrow E + T$\n",
    "\n",
    "$E \\rightarrow T$\n",
    "\n",
    "$T \\rightarrow T * F$\n",
    "\n",
    "$T \\rightarrow F$\n",
    "\n",
    "$F \\rightarrow (E)$\n",
    "\n",
    "$F \\rightarrow id$"
   ]
  },
  {
   "cell_type": "markdown",
   "id": "5514145f-d10b-4942-8de4-5044c7ef466d",
   "metadata": {},
   "source": [
    "1. Aumentar la GIC para armar los estados y enumerar las producciones/reglas\n",
    "\n",
    "$\\qquad X \\rightarrow E$\n",
    "\n",
    "$R1: E \\rightarrow E + T$\n",
    "\n",
    "$R2: E \\rightarrow T$\n",
    "\n",
    "$R3: T \\rightarrow T * F$\n",
    "\n",
    "$R4: T \\rightarrow F$\n",
    "\n",
    "$R5: F \\rightarrow (E)$\n",
    "\n",
    "$R6: F \\rightarrow id$"
   ]
  },
  {
   "cell_type": "markdown",
   "id": "63478323-97cc-42de-9955-9148fc9fc52e",
   "metadata": {},
   "source": [
    "2. Armar el AF canónico\n",
    "\n",
    "![AF SLR](img/afslr.png)"
   ]
  },
  {
   "cell_type": "markdown",
   "id": "adb920e4-5e14-4d3f-868b-8c1457b6ab52",
   "metadata": {},
   "source": [
    "3. Armar la Tabla en base al AF\n",
    "\n",
    "* GOTO: mirar los estados con \"no terminal\". Ejemplo: GOTO(0, E) =  1, GOTO(0, T) = 2, ...\n",
    "* Desplazamientos: mirar los estados con \"terminal\". Ejemplo: D(0, '(') = 4 -> D(4)\n",
    "* Reducciones:\n",
    "  * Mirar los estados con \"terminal\"\n",
    "  * Calcular el conjunto de siguientes de cada \"no terminal\"\n",
    "    * SIG(E) = {\\$, +, )}\n",
    "    * SIG(T) = {\\$, +, ), *}\n",
    "    * SIG(F) = {\\$, +, ), *}\n",
    "  * Mirar las reglas que tienen un punto final\n",
    "    * Ejemplo: en estado 2: E -> T.  (que es la regla 2) -> en los SIG(E) coloco la regla R(2); es decir, en \\$, + y )\n",
    "* Los huecos en blanco significan que si se llegan a esa celda en la tabla hay un error"
   ]
  },
  {
   "cell_type": "markdown",
   "id": "5cf5f030-4cd8-4fc9-9ce1-349821b7c012",
   "metadata": {},
   "source": [
    "![Tabla SLR](img/slr.png)"
   ]
  },
  {
   "cell_type": "markdown",
   "id": "23340f9d-254c-46f1-a1c9-d68823b4c4cc",
   "metadata": {},
   "source": [
    "4. Armar la tabla de parsing\n",
    "\n",
    "| Pila    | Entrada | Acción o GOTO                             |\n",
    "| --      | --      | --                                        |\n",
    "| 0       | id+id\\$ | D(5)                                      |\n",
    "| 0 5     | +id\\$   | R(6)  F -> id (se desapila 1 símbolo)     |\n",
    "| 0 3     | +id\\$   | R(4)  T -> F (se desapila 1 símbolo)      |\n",
    "| 0 2     | +id\\$   | R(2)  E -> T (se desapila 1 símbolo)      |\n",
    "| 0 1     | +id\\$   | D(6)                                      |\n",
    "| 0 1 6   | id\\$    | D(5)                                      |\n",
    "| 0 1 6 5 | \\$      | R(6) F -> id (se desapila 1 símbolo)      |\n",
    "| 0 1 6 3 | \\$      | R(4) T -> F (se desapila 1 símbolo)       |\n",
    "| 0 1 6 9 | \\$      | R(1) E -> E + T (se desapilan 3 símbolos) |\n",
    "| 0 1     | \\$      | accept                                    |"
   ]
  },
  {
   "cell_type": "markdown",
   "id": "ee96348f-771c-4741-8e2a-609be6cf530c",
   "metadata": {},
   "source": [
    "### Ejemplo 2"
   ]
  },
  {
   "cell_type": "markdown",
   "id": "e89dfb6e-d2e0-41fa-96b1-87d629015a23",
   "metadata": {},
   "source": [
    "$S \\rightarrow aST$\n",
    "\n",
    "$S \\rightarrow b$\n",
    "\n",
    "$T \\rightarrow cT$\n",
    "\n",
    "$T \\rightarrow d$"
   ]
  },
  {
   "cell_type": "markdown",
   "id": "0d9f0f3a-b623-4439-9e25-cf925d85a3e3",
   "metadata": {},
   "source": [
    "| Q  | a    | b    | c    | d    | \\$   | S  | T  |\n",
    "| -- | --   | --   | --   | --   | --   | -- | -- |\n",
    "| 0  | D(2) | D(3) |      |      |      | 1  |    |\n",
    "| 1  |      |      |      |      | OK   |    |    |\n",
    "| 2  | D(2) | D(3) |      |      |      | 4  |    |\n",
    "| 3  |      |      | R(2) | R(2) | R(2) |    |    |\n",
    "| 4  |      |      | D(6) | D(7) |      |    | 5  |\n",
    "| 5  |      |      | R(1) | R(1) | R(1) |    |    |\n",
    "| 6  |      |      | D(6) | D(7) |      |    | 8  |\n",
    "| 7  |      |      | R(4) | R(4) | R(4) |    |    |\n",
    "| 8  |      |      | R(3) | R(3) | R(3) |    |    |"
   ]
  },
  {
   "cell_type": "markdown",
   "id": "fa55e5fe-c539-402c-ac1a-09d122d4e8c5",
   "metadata": {},
   "source": [
    "| Pila        | Entrada  | Acción |\n",
    "| --          | --       | --     |\n",
    "| 0           | aabcdd\\$ | D(2)   |\n",
    "| 0 2         | abcdd\\$  | D(2)   |\n",
    "| 0 2 2       | bcdd\\$   | D(3)   |\n",
    "| 0 2 2 3     | cdd\\$    | R(2)   |\n",
    "| 0 2 2 4     | cdd\\$    | D(6)   |\n",
    "| 0 2 2 4 6   | dd\\$     | D(7)   |\n",
    "| 0 2 2 4 6 7 | d\\$      | R(4)   |\n",
    "| 0 2 2 4 6 8 | d\\$      | R(3)   |\n",
    "| 0 2 2 4 5   | d\\$      | R(1)   |\n",
    "| 0 2 4       | d\\$      | D(7)   |\n",
    "| 0 2 4 7     | \\$       | R(4)   |\n",
    "| 0 2 4 5     | \\$       | R(1)   |\n",
    "| 0 1         | \\$       | accept |"
   ]
  },
  {
   "cell_type": "markdown",
   "id": "6c3df7a1-1e38-4c88-b1d4-771fe4724703",
   "metadata": {},
   "source": [
    "### Ejemplo 3"
   ]
  },
  {
   "cell_type": "markdown",
   "id": "665aee74-c9a1-448a-bbed-5696476edf51",
   "metadata": {},
   "source": [
    "$C \\rightarrow AB$\n",
    "\n",
    "$A \\rightarrow a$\n",
    "\n",
    "$B \\rightarrow a$"
   ]
  },
  {
   "cell_type": "markdown",
   "id": "39d1502d-a007-4c07-bca1-a887d933a812",
   "metadata": {},
   "source": [
    "| Q  | a    | \\$   | A  | B  | C  |\n",
    "| -- | --   | --   | -- | -- | -- |\n",
    "| 0  | D(3) |      | 2  |    | 1  |\n",
    "| 1  |      | OK   |    |    |    |\n",
    "| 2  | D(5) |      |    | 4  |    |\n",
    "| 3  | R(2) |      |    |    |    |\n",
    "| 4  |      | R(1) |    |    |    |\n",
    "| 5  |      | R(3) |    |    |    |"
   ]
  },
  {
   "cell_type": "markdown",
   "id": "4849133a-a771-4436-8759-fb68c88beeb3",
   "metadata": {},
   "source": [
    "| Pila  | Entrada | Acción |\n",
    "| --    | --      | --     |\n",
    "| 0     | aa\\$    | D(3)   |\n",
    "| 0 3   | a\\$     | R(2)   |\n",
    "| 0 2   | a\\$     | D(5)   |\n",
    "| 0 2 5 | \\$      | R(3)   |\n",
    "| 0 2 4 | \\$      | R(1)   |\n",
    "| 0 1   | \\$      | accept |"
   ]
  },
  {
   "cell_type": "markdown",
   "id": "d8f42d66-4ecd-49f4-9026-e18b36e7c0d6",
   "metadata": {},
   "source": [
    "### Ejemplo 4"
   ]
  },
  {
   "cell_type": "markdown",
   "id": "14d13291-4f10-4a50-be41-872b60fc4afe",
   "metadata": {},
   "source": [
    "$E \\rightarrow id + E$\n",
    "\n",
    "$E \\rightarrow id$"
   ]
  },
  {
   "cell_type": "markdown",
   "id": "d8402b92-3312-4627-8e99-fc8a3610a4eb",
   "metadata": {},
   "source": [
    "| Q  | id   | \\+   | $    | E  |\n",
    "| -- | --   | --   | --   | -- |\n",
    "| 0  | D(2) |      |      | 1  |\n",
    "| 1  |      |      | OK   |    |\n",
    "| 2  |      | D(3) | R(2) |    |\n",
    "| 3  | D(2) |      |      | 4  |\n",
    "| 4  |      |      | R(1) |    |"
   ]
  },
  {
   "cell_type": "markdown",
   "id": "61ebab94-35b7-446f-b3e5-ec8c1d9638cd",
   "metadata": {},
   "source": [
    "| Pila    | Entrada | Acción |\n",
    "| --      | --      | --     |\n",
    "| 0       | id+id\\$ | D(2)   |\n",
    "| 0 2     | +id\\$   | D(3)   |\n",
    "| 0 2 3   | id\\$    | D(2)   |\n",
    "| 0 2 3 2 | \\$      | R(2)   |\n",
    "| 0 2 3 4 | \\$      | R(1)   |\n",
    "| 0 1     | \\$      | accept |"
   ]
  },
  {
   "cell_type": "markdown",
   "id": "1c625db1-593e-4a6f-80f8-704c025a35ff",
   "metadata": {},
   "source": [
    "### Ejemplo 5"
   ]
  },
  {
   "cell_type": "markdown",
   "id": "1711d63c-1ba2-4632-a4bc-233d08c58a88",
   "metadata": {},
   "source": [
    "$S \\rightarrow aABe$\n",
    "\n",
    "$A \\rightarrow Abc$\n",
    "\n",
    "$A \\rightarrow b$\n",
    "\n",
    "$B \\rightarrow d$"
   ]
  },
  {
   "cell_type": "markdown",
   "id": "d30583d8-4b66-4a16-98ea-501064993838",
   "metadata": {},
   "source": [
    "  | Q  | a    | b    | c    | d    | e    | \\$   |  S | A  | B  |\n",
    "  | -- | --   | --   | --   | --   | --   | --   | -- | -- | -- |\n",
    "  | 0  | D(2) |      |      |      |      |      | 1  |    |    |\n",
    "  | 1  |      |      |      |      |      | OK   |    |    |    |\n",
    "  | 2  |      | D(4) |      |      |      |      |    | 3  |    |\n",
    "  | 3  |      | D(6) |      | D(7) |      |      |    |    | 5  |\n",
    "  | 4  |      | R(3) |      | R(3) |      |      |    |    |    |\n",
    "  | 5  |      |      |      |      | D(8) |      |    |    |    |\n",
    "  | 6  |      |      | D(9) |      |      |      |    |    |    |\n",
    "  | 7  |      |      |      |      | R(4) |      |    |    |    |\n",
    "  | 8  |      |      |      |      |      | R(1) |    |    |    |\n",
    "  | 9  |      | R(2) |      |      | R(2) |      |    |    |    |"
   ]
  },
  {
   "cell_type": "markdown",
   "id": "3b9d5ade-a665-4f14-a19d-a7111cee67e6",
   "metadata": {},
   "source": [
    "| Pila      | Entrada | Acción |\n",
    "| --        | --      | --     |\n",
    "| 0         | abde\\$  | D(2)   |\n",
    "| 0 2       | bde\\$   | D(4)   |\n",
    "| 0 2 4     | de\\$    | R(3)   |\n",
    "| 0 2 3     | de\\$    | D(7)   |\n",
    "| 0 2 3 7   | e\\$     | R(4)   |\n",
    "| 0 2 3 5   | e\\$     | D(8)   |\n",
    "| 0 2 3 5 8 | \\$      | R(1)   |\n",
    "| 0 1       | \\$      | accept |"
   ]
  },
  {
   "cell_type": "markdown",
   "id": "bbdc426a-0e9a-4063-b4e9-dfe179e83a94",
   "metadata": {},
   "source": [
    "### Ejemplo 6"
   ]
  },
  {
   "cell_type": "markdown",
   "id": "1c899dd0-ed78-4201-b1c6-18441a522849",
   "metadata": {},
   "source": [
    "$S \\rightarrow (L)$\n",
    "\n",
    "$S \\rightarrow id$\n",
    "\n",
    "$L \\rightarrow SL’$\n",
    "\n",
    "$L’ \\rightarrow ,SL’$\n",
    "\n",
    "$L’ \\rightarrow \\lambda$"
   ]
  },
  {
   "cell_type": "markdown",
   "id": "f01785ba-b9c8-42b5-86e2-2429cd59f494",
   "metadata": {},
   "source": [
    "| Q  | (    | )    | id   | ,    | \\$   | S  | L  | L' |\n",
    "| -- | --   | --   | --   | --   | --   | -- | -- | -- |\n",
    "| 0  | D(2) |      | D(3) |      |      | 1  |    |    |\n",
    "| 1  |      |      |      |      | OK   |    |    |    |\n",
    "| 2  | D(2) |      | D(3) |      |      | 5  | 4  |    |\n",
    "| 3  |      | R(2) |      | R(2) | R(2) |    |    |    |\n",
    "| 4  |      | D(6) |      |      |      |    |    |    |\n",
    "| 5  |      | R(5) |      | D(8) |      |    |    | 7  |\n",
    "| 6  |      | R(1) |      | R(1) | R(1) |    |    |    |\n",
    "| 7  |      | R(3) |      |      |      |    |    |    |\n",
    "| 8  | D(2) |      | D(3) |      |      | 9  |    |    |\n",
    "| 9  |      | R(5) |      | D(8) |      |    |    | 10 |\n",
    "| 10 |      | R(4) |      |      |      |    |    |    |"
   ]
  },
  {
   "cell_type": "markdown",
   "id": "0372e1b2-208c-4439-9a0c-5a85865d9297",
   "metadata": {},
   "source": [
    "| Pila    | Entrada | Acción |\n",
    "| --      | --      | --     |\n",
    "| 0       | (id)\\$  | D(2)   |\n",
    "| 0 2     | id)\\$   | D(3)   |\n",
    "| 0 2 3   | )\\$     | R(2)   |\n",
    "| 0 2 5   | )\\$     | R(5)   |\n",
    "| 0 2 5 7 | )\\$     | R(3)   |\n",
    "| 0 2 4   | )\\$     | D(6)   |\n",
    "| 0 2 4 6 | \\$      | R(1)   |\n",
    "| 0 1     | \\$      | accept |"
   ]
  },
  {
   "cell_type": "markdown",
   "id": "b9d37a0f-7ea6-4ab6-9a03-cf74bd7e90b1",
   "metadata": {},
   "source": [
    "## Conflictos en las tablas SLR"
   ]
  },
  {
   "cell_type": "markdown",
   "id": "8929d282-b7c9-4126-b180-7ac37e3f66fb",
   "metadata": {},
   "source": [
    "* Hay dos posibles conflictos a la hora de construir una tabla SLR:\n",
    "\n",
    "| Conflicto                    | Problema | Solución |\n",
    "| --                           | -- | -- |\n",
    "| **Desplazamiento-reducción** | se produce cuando en una misma celda se puede poner un desplazamiento y una reducción. Esto significa que la GIC no es SLR | se puede resolver una de las dos opciones adecuada para que el analizador reconozca el lenguaje descrito por la GIC |\n",
    "| **Reducción-reducción**      | aparece cuando en una misma celda es posible reducir de dos maneras diferentes. Esto también implica que la GIC no es SLR | elegir una de las dos reducciones, teniendo cuidado de que el analizador reconozca bien el lenguaje definido por la GIC. También se puede optar por modificar la GIC para que eso no ocurra |"
   ]
  }
 ],
 "metadata": {
  "kernelspec": {
   "display_name": "Python [conda env:base] *",
   "language": "python",
   "name": "conda-base-py"
  },
  "language_info": {
   "codemirror_mode": {
    "name": "ipython",
    "version": 3
   },
   "file_extension": ".py",
   "mimetype": "text/x-python",
   "name": "python",
   "nbconvert_exporter": "python",
   "pygments_lexer": "ipython3",
   "version": "3.12.7"
  }
 },
 "nbformat": 4,
 "nbformat_minor": 5
}
