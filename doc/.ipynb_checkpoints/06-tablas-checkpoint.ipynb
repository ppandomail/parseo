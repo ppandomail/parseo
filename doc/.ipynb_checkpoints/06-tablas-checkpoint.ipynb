{
 "cells": [
  {
   "cell_type": "markdown",
   "id": "e244e45b-bc11-4c38-a15c-8aa8c3974b72",
   "metadata": {},
   "source": [
    "# Tabla de Tipos y de Símbolos\n",
    "---"
   ]
  },
  {
   "cell_type": "markdown",
   "id": "c3c13f81-be8d-4028-8e36-c47a32a3520f",
   "metadata": {},
   "source": [
    "* Normalmente, los LP mantienen tipos primitivos de datos y permiten crear nuevos tipos a partir de los primitivos\n",
    "* También es generalizado el uso de variables que pertenecen a alguno de los tipos primitivos o definidos por el usuario\n",
    "* Aparte de las variables, suelen utilizarse subprogramas\n",
    "* Tanto las variables como los subprogramas son generalmente creados por el programador y se les suele llamar símbolos\n",
    "* Por lo tanto, se deben mantener básicamente 2 estructuras de información (tablas): referentes a los tipos del lenguaje y a los símbolos del mismo\n",
    "* Estas tablas deben estar accesibles durante todo el proceso de compilación, ya que las diferentes fases harán uso de estas tablas"
   ]
  },
  {
   "cell_type": "markdown",
   "id": "c44869e8-b542-4abc-949d-9d771aa4d5f7",
   "metadata": {},
   "source": [
    "## Tabla de tipos (TT)"
   ]
  },
  {
   "cell_type": "markdown",
   "id": "29979110-d052-4938-987a-c655b6dcf1ce",
   "metadata": {},
   "source": [
    "* Una de las tareas del análisis semántico, es comprobar que los tipos de las diferentes variables, funciones o parámetros sean los adecuados conforme a la estructura del compilador que se esté creando\n",
    "* Por lo que una gestión de los tipos es esencial para hacer las comprobaciones semánticas necesarias\n",
    "* Generalmente, los LP más utilizados mantienen una serie de tipos primitivos o predefinidos de datos y además permiten que el programador cree sus propios tipos de datos, basados en los primitivos\n",
    "* Por lo tanto, la tabla de tipos debe inicializarse con los tipos primitivos del LP del que se vaya a crear el compilador\n",
    "* Hay varias posibilidades de implementar la tabla de tipos. Una de ellas es mantener una tabla de tipos por cada ámbito de ejecución\n",
    "* Por ejemplo, se tiene un programa en Pascal:\n",
    "\n",
    "  ```pascal\n",
    "  program p;\n",
    "    type tipo0 = array[0..3] of boolean;\n",
    "    procedure pp;\n",
    "      type tipo1 = array[0..5] of integer;\n",
    "    begin\n",
    "    end;\n",
    "  begin\n",
    "  end.\n",
    "  ```"
   ]
  },
  {
   "cell_type": "markdown",
   "id": "dbe85aba-d37c-41ad-90c5-74de29c4aaab",
   "metadata": {},
   "source": [
    "* Aquí hay dos ámbitos:\n",
    "  * el del programa principal\n",
    "  * el del procedimiento.\n",
    "* Desde dentro del procedimiento se puede acceder a las variables que sean del tipo del programa principal, pero desde el programa principal no se puede acceder a los tipos de dentro del procedimiento\n",
    "* Como en el proceso de compilación serán utilizadas varias tablas de tipos (generalmente), es muy común utilizar una pila de tablas de tipos e ir apilando y desapilando tablas según se entre o salga de los ámbitos\n",
    "* Pero también es posible utilizar una sola TT con información sobre el ámbito al que pertenece e ir eliminando entradas o agregandolas según se salga o entre en los ámbitos (esto mismo se puede hacer para la tabla de símbolos)\n",
    "* Debido a esto, se puede utilizar una TT para cada ámbito y luego destruirla cuando se sale del ámbito\n",
    "* Como el acceso a la TT suele ser muy repetido, se deben utilizar estructuras eficientes a la hora de implementarla\n",
    "* Dependiendo del diseño del compilador, es posible que se permita redefinir tipos o símbolos con el mismo nombre dentro de ámbitos diferentes. Pero esto depende del diseñador del compilador\n",
    "* Cuando se permite redefinir tipos o símbolos, a la hora de buscar un tipo o símbolo para por ejemplo ver si el tipo devuelto por una función es compatible con un tipo concreto, se debe buscar el tipo o símbolo partiendo del ámbito más interno (el más cercano) y así sucesivamente hasta el ámbito más global o externo\n",
    "* Para implementar las tablas de tipos y símbolos, se suelen emplear tablas hash, que son las que tienen un tiempo de acceso más reducido (ya que habrá que realizar muchas lecturas a lo largo del proceso de compilación)"
   ]
  },
  {
   "cell_type": "markdown",
   "id": "90fc220d-fae0-4191-b723-6e80d3277d8d",
   "metadata": {},
   "source": [
    "### Implementación de TT"
   ]
  },
  {
   "cell_type": "markdown",
   "id": "c55f6ef8-9650-423f-a636-b48cc1c81746",
   "metadata": {},
   "source": [
    "* Generalmente, las TT contienen información del nombre del tipo, el tamaño, el padre si se trata de un tipo compuesto y alguna información más dependiendo del tipo de compilador de que se trate\n",
    "* Como en una misma TT no se debe repetir el mismo tipo, la TT suele estar ordenada por el nombre del tipo\n",
    "* Si el compilador no admite ámbitos anidados, con una sola TT es suficiente\n",
    "* Los campos mínimos necesarios que debe guardar una TT son:\n",
    "\n",
    "| Campo         || Ejemplo |\n",
    "| --            | -- | -- |\n",
    "| **Nombre**    | nombre o identificador del tipo                      | int |\n",
    "| **TipoBase**  | se utiliza para tipos compuestos                     | String[] tipo, el tipo base sería String |\n",
    "| **Padre**     | es el tipo en el caso de declarar registros          | el padre del campo x sería el tipo reg. type reg = record x: integer; y: boolean; end; |\n",
    "| **Dimensión** | número de elementos de un tipo básico que están contenido en un tipo compuesto | para los tipos básicos, la dimensión es 1, pero para un vector de 10 enteros, la dimensión es 10 |\n",
    "| **Mínimo**    | se utiliza para el caso de la definición de vectores | en C es 0, en Pascal lo define el programador |\n",
    "| **Máximo**    | se utiliza para el caso de la definición de vectores | en C es la dimensión del vector menos 1, en Pascal, lo define el programador |\n",
    "| **Ámbito**    | si se va a utilizar una sola tabla para la gestión de tipos en diferentes ámbitos, se pone aquí el ámbito en el que está definido el tipo ||\n",
    "\n",
    "* Otro aspecto a tener en cuenta a la hora de implementar la TT es que se debe saber si el lenguaje es sensible a mayúsculas o no"
   ]
  },
  {
   "cell_type": "markdown",
   "id": "ad39c2f5-711f-41bd-bd25-395d1c929232",
   "metadata": {},
   "source": [
    "### Ejemplo de Implementación de una TT única"
   ]
  },
  {
   "cell_type": "markdown",
   "id": "e4fee051-74a0-4379-bb1c-e62b575b908c",
   "metadata": {},
   "source": [
    "* Suponer: LP es sensible a mayúsculas\n",
    "* Suponer: Los tipos básico o predefinidos del LP se suelen agregar al crearse la tabla de tipos: integer y boolean\n",
    "\n",
    "```pascal\n",
    "1:  program p;\n",
    "2:    type vector = array[0..9] of integer;\n",
    "3:    type registro = record\n",
    "4:      x : integer;\n",
    "5:      y : boolean;\n",
    "6:     end;\n",
    "7:     procedure p1;\n",
    "8:      type vector = array[0..8] of boolean;\n",
    "9:      type r1 = record\n",
    "10:       y : integer;\n",
    "11:       z : integer;\n",
    "12:     end;\n",
    "13:    begin\n",
    "14:    end;\n",
    "15: begin\n",
    "16: end.\n",
    "```"
   ]
  },
  {
   "cell_type": "markdown",
   "id": "e5ec7247-2707-4878-9cb6-2d5b8cbc2b71",
   "metadata": {},
   "source": [
    "1. Inicialmente, se agregan los tipos básicos a la TT:\n",
    "\n",
    "| Cod | Nombre | TipoBase | Padre | Dimensión | Mínimo | Máximo | Ámbito |\n",
    "| -- | -- | -- | -- | -- | -- | -- | -- |\n",
    "| 0 | integer | -1 | -1 | 1 | -1 | -1 | 0 |\n",
    "| 1 | boolean | -1 | -1 | 1 | -1 | -1 | 0 |"
   ]
  },
  {
   "cell_type": "markdown",
   "id": "fdcd8b77-4c9a-4bcc-98c7-daa958771b75",
   "metadata": {},
   "source": [
    "2. Se procesa la línea 1, luego la 2:\n",
    "\n",
    "| Cod | Nombre | TipoBase | Padre | Dimensión | Mínimo | Máximo | Ámbito |\n",
    "| -- | -- | -- | -- | -- | -- | -- | -- |\n",
    "| 0 | integer | -1 | -1 | 1 | -1 | -1 | 0 |\n",
    "| 1 | boolean | -1 | -1 | 1 | -1 | -1 | 0 |\n",
    "| 2 | vector | 0 | -1 | 10 | 0 | 9 | 0 |"
   ]
  },
  {
   "cell_type": "markdown",
   "id": "bb779509-d5b5-4d07-a99a-fccff40fcd1b",
   "metadata": {},
   "source": [
    "3. Se procesa la línea 3:\n",
    "\n",
    "| Cod | Nombre | TipoBase | Padre | Dimensión | Mínimo | Máximo | Ámbito |\n",
    "| -- | -- | -- | -- | -- | -- | -- | -- |\n",
    "| 0 | integer | -1 | -1 | 1 | -1 | -1 | 0 |\n",
    "| 1 | boolean | -1 | -1 | 1 | -1 | -1 | 0 |\n",
    "| 2 | vector | 0 | -1 | 10 | 0 | 9 | 0 |\n",
    "| 3 | registro | -1 | -1 | **-1** | -1 | -1 | 0 |"
   ]
  },
  {
   "cell_type": "markdown",
   "id": "243b7db6-97c0-4fb3-91dc-0c1456c6a254",
   "metadata": {},
   "source": [
    "4. Se procesa la línea 4 y 5:\n",
    "\n",
    "| Cod | Nombre | TipoBase | Padre | Dimensión | Mínimo | Máximo | Ámbito |\n",
    "| -- | -- | -- | -- | -- | -- | -- | -- |\n",
    "| 0 | integer | -1 | -1 | 1 | -1 | -1 | 0 |\n",
    "| 1 | boolean | -1 | -1 | 1 | -1 | -1 | 0 |\n",
    "| 2 | vector | 0 | -1 | 10 | 0 | 9 | 0 |\n",
    "| 3 | registro | -1 | -1 | **2** | -1 | -1 | 0 |\n",
    "| 4 | x | 0 | 3 | 1 | -1 | -1 | 0 |\n",
    "| 5 | y | 1 | 3 | 1 | -1 | -1 | 0 |"
   ]
  },
  {
   "cell_type": "markdown",
   "id": "64c6cdcd-59ab-47c6-a8e0-c9525b5cff42",
   "metadata": {},
   "source": [
    "5. Se procesa la línea 6, 7 y 8:\n",
    "\n",
    "| Cod | Nombre | TipoBase | Padre | Dimensión | Mínimo | Máximo | Ámbito |\n",
    "| -- | -- | -- | -- | -- | -- | -- | -- |\n",
    "| 0 | integer | -1 | -1 | 1 | -1 | -1 | 0 |\n",
    "| 1 | boolean | -1 | -1 | 1 | -1 | -1 | 0 |\n",
    "| 2 | vector | 0 | -1 | 10 | 0 | 9 | 0 |\n",
    "| 3 | registro | -1 | -1 | **2** | -1 | -1 | 0 |\n",
    "| 4 | x | 0 | 3 | 1 | -1 | -1 | 0 |\n",
    "| 5 | y | 1 | 3 | 1 | -1 | -1 | 0 |\n",
    "| 6 | vector | 1 | -1 | 9 | 0 | 8 | **1** |"
   ]
  },
  {
   "cell_type": "markdown",
   "id": "99aa16d4-3abb-4308-bcb8-d63dbb808131",
   "metadata": {},
   "source": [
    "6. Se procesa la línea 9:\n",
    "\n",
    "| Cod | Nombre | TipoBase | Padre | Dimensión | Mínimo | Máximo | Ámbito |\n",
    "| -- | -- | -- | -- | -- | -- | -- | -- |\n",
    "| 0 | integer | -1 | -1 | 1 | -1 | -1 | 0 |\n",
    "| 1 | boolean | -1 | -1 | 1 | -1 | -1 | 0 |\n",
    "| 2 | vector | 0 | -1 | 10 | 0 | 9 | 0 |\n",
    "| 3 | registro | -1 | -1 | **2** | -1 | -1 | 0 |\n",
    "| 4 | x | 0 | 3 | 1 | -1 | -1 | 0 |\n",
    "| 5 | y | 1 | 3 | 1 | -1 | -1 | 0 |\n",
    "| 6 | vector | 1 | -1 | 9 | 0 | 8 | **1** |\n",
    "| 7 | r1 | -1 | -1 | -1 | -1 | -1 | **1** |"
   ]
  },
  {
   "cell_type": "markdown",
   "id": "ead4e6ce-2f82-4308-bfcb-d1a27ac1ceae",
   "metadata": {},
   "source": [
    "7. Se procesa la línea 10 y 11:\n",
    "\n",
    "| Cod | Nombre | TipoBase | Padre | Dimensión | Mínimo | Máximo | Ámbito |\n",
    "| -- | -- | -- | -- | -- | -- | -- | -- |\n",
    "| 0 | integer | -1 | -1 | 1 | -1 | -1 | 0 |\n",
    "| 1 | boolean | -1 | -1 | 1 | -1 | -1 | 0 |\n",
    "| 2 | vector | 0 | -1 | 10 | 0 | 9 | 0 |\n",
    "| 3 | registro | -1 | -1 | **2** | -1 | -1 | 0 |\n",
    "| 4 | x | 0 | 3 | 1 | -1 | -1 | 0 |\n",
    "| 5 | y | 1 | 3 | 1 | -1 | -1 | 0 |\n",
    "| 6 | vector | 1 | -1 | 9 | 0 | 8 | **1** |\n",
    "| 7 | r1 | -1 | -1 | **2** | -1 | -1 | **1** |\n",
    "| 8 | y | 0 | 7 | 1 | -1 | -1 | **1** |\n",
    "| 9 | z | 0 | 7 | 1 | -1 | -1 | **1** |"
   ]
  },
  {
   "cell_type": "markdown",
   "id": "17a7adfe-e2df-437c-96a7-77fb47d47b9b",
   "metadata": {},
   "source": [
    "8. Se procesa la línea 12 y 13: la TT no cambia"
   ]
  },
  {
   "cell_type": "markdown",
   "id": "4ea4ea16-9aee-456f-9db2-e2c0dda467b9",
   "metadata": {},
   "source": [
    "9. Se procesa la línea 14: se termina el procedimiento, se elimina el ámbito y, por tanto, los tipos que están en él\n",
    "\n",
    "| Cod | Nombre | TipoBase | Padre | Dimensión | Mínimo | Máximo | Ámbito |\n",
    "| -- | -- | -- | -- | -- | -- | -- | -- |\n",
    "| 0 | integer | -1 | -1 | 1 | -1 | -1 | 0 |\n",
    "| 1 | boolean | -1 | -1 | 1 | -1 | -1 | 0 |\n",
    "| 2 | vector | 0 | -1 | 10 | 0 | 9 | 0 |\n",
    "| 3 | registro | -1 | -1 | **2** | -1 | -1 | 0 |\n",
    "| 4 | x | 0 | 3 | 1 | -1 | -1 | 0 |\n",
    "| 5 | y | 1 | 3 | 1 | -1 | -1 | 0 |"
   ]
  },
  {
   "cell_type": "markdown",
   "id": "1167dfb2-ec34-483c-9260-30a3902a1038",
   "metadata": {},
   "source": [
    "10. Se procesa la línea 15: la TT no cambia"
   ]
  },
  {
   "cell_type": "markdown",
   "id": "ad006557-456d-4bbf-827a-44d2c9f7e2ce",
   "metadata": {},
   "source": [
    "11. Se procesa la línea 16: la última línea del programa, ya no se necesita la TT y por lo tanto se la puede eliminar\n",
    "\n",
    "| Cod | Nombre | TipoBase | Padre | Dimensión | Mínimo | Máximo | Ámbito |\n",
    "| -- | -- | -- | -- | -- | -- | -- | -- |"
   ]
  },
  {
   "cell_type": "markdown",
   "id": "24eb7d84-25f9-44f0-90e7-0c43e601c14f",
   "metadata": {},
   "source": [
    "## Tabla de Símbolos (TS)"
   ]
  },
  {
   "cell_type": "markdown",
   "id": "142f6c61-b5dd-4cee-a14b-31d63df6228e",
   "metadata": {},
   "source": [
    "* La TS tiene una estructura parecida a la de tipos\n",
    "* Símbolos en un programa: constantes, variables, subprogramas y parámetros de los subprogramas\n",
    "* La TS mantiene una gestión de ámbitos. Por lo tanto, hay también al menos dos implementaciones posibles para la TS, con una sola tabla o con una pila de tablas\n",
    "* En tiempo de compilación, se mantiene la TT y TS en memoria, pero en tiempo de ejecución, sólo son los símbolos los que se guardan en la memoria que ocupa el programa compilado, ya que ellos son los contenedores de la información que se procesa\n",
    "* Generalmente, la manera de guardar información de los símbolos es en la memoria de la computadora donde corre el programa compilado\n",
    "* En cuanto a los subprogramas, son representados también por símbolos (el nombre del subprograma)\n",
    "* Los campos básicos de la TS son:\n",
    "\n",
    "| Campo                 ||\n",
    "| --                    | -- |\n",
    "| **Nombre**            | indica el nombre del símbolo: variable, función, etc. |\n",
    "| **Categoría**         | indica si es una variable, una función, un procedimiento, una constante o un parámetro |\n",
    "| **Tipo**              | es el tipo al que pertenece el símbolo (de entre los tipos de la tabla de tipos). En el caso de los subprogramas es el tipo que devuelve (si no devuelve ninguno, este campo será nulo o generalmente tendrá el valor -1) |\n",
    "| **NumeroParametros**  | sólo tiene significado si se trata del símbolo de un subprograma. En otro caso se mantiene nulo o -1 |\n",
    "| **ListaDeParametros** | debe contener una lista con al menos los tipos de los parámetros de un subprograma (para poder comprobar si cuando se hace una llamada a un subprograma coinciden los tipos de los parámetros) |\n",
    "| **Ámbito**            | sólo es necesario si la implementación va a ser sólo con una TS. Si va a implementarse como una pila de tablas, este campo es innecesario |"
   ]
  },
  {
   "cell_type": "markdown",
   "id": "8a71a7fd-6512-4202-91a0-56022041bfac",
   "metadata": {},
   "source": [
    "### Ejemplo de Implementación de una TS única"
   ]
  },
  {
   "cell_type": "markdown",
   "id": "0a1bb86c-382d-480b-a432-db1200a26047",
   "metadata": {},
   "source": [
    "* En cuanto al funcionamiento de la tabla de símbolos y la de tipos es el mismo. Sea el siguiente programa en Pascal:\n",
    "\n",
    "```pascal\n",
    "1: program p;\n",
    "2:  type vector = array[5..10] of integer;\n",
    "3:  var v : vector; x : integer;\n",
    "4: begin\n",
    "5:   v[7] := 15;\n",
    "6:   x := v[7];\n",
    "7: end.\n",
    "```"
   ]
  },
  {
   "cell_type": "markdown",
   "id": "265a6732-f00a-4837-8523-a2d5db020d21",
   "metadata": {},
   "source": [
    "1. Se procesa la línea 1:\n",
    "\n",
    "* TT\n",
    "\n",
    "| Cod | Nombre | TipoBase | Padre | Dimensión | Mínimo | Máximo | Ámbito |\n",
    "| -- | -- | -- | -- | -- | -- | -- | -- |\n",
    "| 0 | integer | -1 | -1 | 1 | -1 | -1 | 0 |\n",
    "| 1 | boolean | -1 | -1 | 1 | -1 | -1 | 0 |\n",
    "\n",
    "* TS\n",
    "\n",
    "| Cod | Nombre | Categoria | Tipo | NumPar | ListaPar | Ámbito |\n",
    "| -- | -- | -- | -- | -- | -- | -- |"
   ]
  },
  {
   "cell_type": "markdown",
   "id": "08d2498e-d28f-42ac-8358-5698ef30fd4f",
   "metadata": {},
   "source": [
    "2. Se procesa la línea 2:\n",
    "\n",
    "* TT\n",
    "\n",
    "| Cod | Nombre | TipoBase | Padre | Dimensión | Mínimo | Máximo | Ámbito |\n",
    "| -- | -- | -- | -- | -- | -- | -- | -- |\n",
    "| 0 | integer | -1 | -1 | 1 | -1 | -1 | 0 |\n",
    "| 1 | boolean | -1 | -1 | 1 | -1 | -1 | 0 |\n",
    "| 2 | vector | 0 | -1 | 6 | 5 | 10 | 0 |\n",
    "\n",
    "* TS\n",
    "\n",
    "| Cod | Nombre | Categoria | Tipo | NumPar | ListaPar | Ámbito |\n",
    "| -- | -- | -- | -- | -- | -- | -- |"
   ]
  },
  {
   "cell_type": "markdown",
   "id": "a645eb79-591f-4857-8691-db900920dcf2",
   "metadata": {},
   "source": [
    "3. Se procesa la línea 3:\n",
    "\n",
    "* TT\n",
    "\n",
    "| Cod | Nombre | TipoBase | Padre | Dimensión | Mínimo | Máximo | Ámbito |\n",
    "| -- | -- | -- | -- | -- | -- | -- | -- |\n",
    "| 0 | integer | -1 | -1 | 1 | -1 | -1 | 0 |\n",
    "| 1 | boolean | -1 | -1 | 1 | -1 | -1 | 0 |\n",
    "| 2 | vector | 0 | -1 | 6 | 5 | 10 | 0 |\n",
    "\n",
    "* TS\n",
    "\n",
    "| Cod | Nombre | Categoria | Tipo | NumPar | ListaPar | Ámbito |\n",
    "| -- | -- | -- | -- | -- | -- | -- |\n",
    "| 0 | v | variable | 2 | -1 | null | 0 |\n",
    "| 1 | x | variable | 0 | -1 | null | 0 |"
   ]
  },
  {
   "cell_type": "markdown",
   "id": "48d4c422-e5f8-4a68-974b-a2440888cfae",
   "metadata": {},
   "source": [
    "4. Se procesa la línea 4, 5 y 6: el contenido de las 2 tablas es el mismo:\n",
    "\n",
    "* TT\n",
    "\n",
    "| Cod | Nombre | TipoBase | Padre | Dimensión | Mínimo | Máximo | Ámbito |\n",
    "| -- | -- | -- | -- | -- | -- | -- | -- |\n",
    "| 0 | integer | -1 | -1 | 1 | -1 | -1 | 0 |\n",
    "| 1 | boolean | -1 | -1 | 1 | -1 | -1 | 0 |\n",
    "| 2 | vector | 0 | -1 | 6 | 5 | 10 | 0 |\n",
    "\n",
    "* TS\n",
    "\n",
    "| Cod | Nombre | Categoria | Tipo | NumPar | ListaPar | Ámbito |\n",
    "| -- | -- | -- | -- | -- | -- | -- |\n",
    "| 0 | v | variable | 2 | -1 | null | 0 |\n",
    "| 1 | x | variable | 0 | -1 | null | 0 |"
   ]
  }
 ],
 "metadata": {
  "kernelspec": {
   "display_name": "Python [conda env:base] *",
   "language": "python",
   "name": "conda-base-py"
  },
  "language_info": {
   "codemirror_mode": {
    "name": "ipython",
    "version": 3
   },
   "file_extension": ".py",
   "mimetype": "text/x-python",
   "name": "python",
   "nbconvert_exporter": "python",
   "pygments_lexer": "ipython3",
   "version": "3.12.7"
  }
 },
 "nbformat": 4,
 "nbformat_minor": 5
}
