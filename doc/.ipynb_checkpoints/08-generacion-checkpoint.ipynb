{
 "cells": [
  {
   "cell_type": "markdown",
   "id": "ad98a483-e828-44cd-b058-cb083291f9ad",
   "metadata": {},
   "source": [
    "# Generación de Código (GC)\n",
    "---"
   ]
  },
  {
   "cell_type": "markdown",
   "id": "9ab07bf2-46d8-422f-a6b9-5dad3fb23bd1",
   "metadata": {},
   "source": [
    "* En esta fase se genera el código final\n",
    "* El código final será ejecutado por la máquina o reutilizado si se trata de un traductor\n",
    "* Antes de obtener el código final, se puede crear una versión de más alto nivel que sirve para dar la posibilidad de que el mismo código pueda servir para distintas máquinas\n",
    "* Es decir, se suele crear un código intermedio (CI) entre el código del lenguaje que se quiere compilar y el lenguaje máquina de la máquina destino\n",
    "* El CI es un código que no concreta las características de la máquina final pero que organiza el código objeto (el código del programa a compilar) para que sea el mismo o casi el mismo, independientemente del lenguaje\n",
    "\n",
    "| Beneficios de crear un CI son ahorro de esfuerzo para crear:                                                   |\n",
    "| --                                                                                                             |\n",
    "| varios compiladores para la misma máquina                                                                      |\n",
    "| un compilador para varias máquinas diferentes, ya que el mismo código intermedio sirve para todas las máquinas |\n",
    "\n",
    "* La generación de CI, es una tarea asociada a la comprobación de tipos, símbolos y al análisis semántico, por lo que se suele hacer paralelamente\n",
    "* Por esto, todo el proceso de análisis semántico y la generación de CI están guiados por la sintaxis\n",
    "* Si en vez de hacer un compilador lo que se quiere hacer es un traductor, no suele ser necesario generar CI y luego código final, sino que directamente se genera código final en el lenguaje de destino de la traducción"
   ]
  },
  {
   "cell_type": "markdown",
   "id": "b03a0e7f-8b1e-40cc-a17c-1baf2ce1062c",
   "metadata": {},
   "source": [
    "## Tipos de CI"
   ]
  },
  {
   "cell_type": "markdown",
   "id": "deeb0106-af9e-46ca-938f-656b4e169839",
   "metadata": {},
   "source": [
    "* Código de tres direcciones\n",
    "* Código de máquina virtual de pila"
   ]
  },
  {
   "cell_type": "markdown",
   "id": "15412f77-ed57-4310-9ac7-e9a65f0cf018",
   "metadata": {},
   "source": [
    "## Código de tres direcciones"
   ]
  },
  {
   "cell_type": "markdown",
   "id": "12974c8d-915c-4eb6-98ea-f670a2c10bce",
   "metadata": {},
   "source": [
    "* Se trata de un formato de representación en el que todas las operaciones se representan por cuádruplas (registros con cuatro campos)\n",
    "* Ejemplo:\n",
    "\n",
    "$$x := x + y$$\n",
    "\n",
    "| Instrucción | Operando 1 | Operando 2 | Resultado |\n",
    "| --          | --         | --         | --        |\n",
    "| ADD         | (9000)     | (9002)     | temporal  |\n",
    "| MOVE        | (temporal) |            | 9000      |\n",
    "\n",
    "* Se habla de direcciones porque son las direcciones de memoria donde finalmente se guarda la información en una máquina real\n",
    "* Temporal: es una dirección de memoria que sirve para guardar resultados parciales en las operaciones\n",
    "* Ejemplo:\n",
    "\n",
    "$$x := x + y \\, – 2$$\n",
    "\n",
    "| Instrucción | Operando 1  | Operando 2 | Resultado |\n",
    "| --          | --          | --         | --        |\n",
    "| ADD         | (9000)      | (9002)     | temporal1 |\n",
    "| SUB         | (temporal1) | 2          | temporal2 |\n",
    "| MOVE        | (temporal2) |            | 9000      |"
   ]
  },
  {
   "cell_type": "markdown",
   "id": "0fac3bad-54e9-4ba2-9207-ed821fbc1967",
   "metadata": {},
   "source": [
    "## Código de máquina virtual de pila"
   ]
  },
  {
   "cell_type": "markdown",
   "id": "534acf5b-6431-4048-8423-1b577010e1ed",
   "metadata": {},
   "source": [
    "* Consiste en utilizar una pila para guardar los resultados intermedios en la evaluación de expresiones y para otras funciones\n",
    "* Ejemplo:\n",
    "\n",
    "$$x := x + y \\, – \\, 2$$\n",
    "\n",
    "| #  | Acción                  |                                                                           |\n",
    "| -- | --                      | --                                                                        |\n",
    "| 1  | apilar(contenido(9000)) | se apila el contenido de la dirección 9000                                |\n",
    "| 2  | apilar(contenido(9001)) | se apila el contenido de la dirección 9001                                |\n",
    "| 3  | sumar                   | se desapila los dos valores de la pila y se suman. El resultado se apila  |\n",
    "| 4  | apilar(2)               | se apila el valor 2                                                       |\n",
    "| 5  | restar                  | se desapila los dos valores de la pila y se restan. El resultado se apila |\n",
    "| 6  | asignar(9000)           | se desapila un valor y se guarda en la dirección 9000                     |\n",
    "\n",
    "* Aunque el funcionamiento de este tipo de generación de CI es tan adecuado como el sistema de tres direcciones, se puede comprobar con la experiencia que es más difícil pasar del CI a código final en sistemas de pila\n",
    "* Por lo tanto, en los casos prácticos se va a utilizar código de tres direcciones"
   ]
  },
  {
   "cell_type": "markdown",
   "id": "3e8e6065-2401-407a-85ce-c4ec1c8763dc",
   "metadata": {},
   "source": [
    "## CI para expresiones"
   ]
  },
  {
   "cell_type": "markdown",
   "id": "07112add-33a1-4451-897c-fa84d946c44d",
   "metadata": {},
   "source": [
    "* Las expresiones constan de uno o más valores (pueden ser números, variables, etc.) que se combinan mediante operadores para obtener como resultado otro valor\n",
    "* Dependiendo del lenguaje a compilar, deberán ser compatibles en tipos o serán convertidos\n",
    "* Ejemplo:\n",
    "\n",
    "$$x := x + 1$$\n",
    "\n",
    "* Suponer que la variable x se guarda en la dirección 9000 y la variable global temporal vale 9001.\n",
    "* La dirección de la variable x se incluye en su entrada de la tabla de símbolos al ser declarada la variable.\n",
    "\n",
    "| #  | CI                                     | Assembler        |\n",
    "| -- |  --                                    | --               |\n",
    "| 1  | \"CARGAR_ENTERO\", \"1\", null, \"9001\"     | MOVE #1, /9001   |\n",
    "| 2  | \"SUMAR_ENTERO\", \"9000\", \"9001\", \"9002\" | ADD /9001, /9002 |\n",
    "|    |                                        | MOVE .A, /9002   |"
   ]
  },
  {
   "cell_type": "markdown",
   "id": "4226b18e-6664-489e-9797-40ac9bb5db6b",
   "metadata": {},
   "source": [
    "## CI para asignaciones"
   ]
  },
  {
   "cell_type": "markdown",
   "id": "4b55beb5-eea6-4146-8a89-45c500873e4e",
   "metadata": {},
   "source": [
    "* Asignar el valor de la expresión de la derecha de la asignación a la variable de la izquierda de la misma\n",
    "* Habría que realizar algunas comprobaciones semánticas, dependiendo del lenguaje (por ejemplo, si los operandos son compatibles, si la variable de la parte izquierda está en la tabla de símbolos, etc.)\n",
    "* Ejemplo:\n",
    "\n",
    "$$Asignación \\rightarrow id \\, igual \\, Expresión \\, puntocoma$$\n",
    "\n",
    "| #  | CI                             | Assembler         |\n",
    "| -- |  --                            | --                |\n",
    "| 1  | \"COPIAR\", \"9005\", null, \"9000\" | MOVE /9005, /9000 |"
   ]
  },
  {
   "cell_type": "markdown",
   "id": "53f05b7c-4858-43f3-b68e-122c5ed27dd7",
   "metadata": {},
   "source": [
    "## CI para sentencias de entrada y salida"
   ]
  },
  {
   "cell_type": "markdown",
   "id": "b072e5df-40e6-459a-9dd7-41394a30ce49",
   "metadata": {},
   "source": [
    "* Estas sentencias se tratan de manera diferente para máquinas diferentes, por lo que el CI dependería de la máquina final\n",
    "* Por lo general, se trataría de comprobar que en la sentencia de:\n",
    "  * **Entrada**, la variable donde se guarda la entrada existe y es del tipo adecuado\n",
    "  * **Salida**, los datos de salida son los adecuados"
   ]
  },
  {
   "cell_type": "markdown",
   "id": "42b9a843-fb33-4510-a7a6-e84f4d8c2905",
   "metadata": {},
   "source": [
    "## CI para sentencia condicional"
   ]
  },
  {
   "cell_type": "markdown",
   "id": "99983619-8797-49f5-a85f-6dfda32321cd",
   "metadata": {},
   "source": [
    "* Esta sentencia es parecida en todos los lenguajes imperativos\n",
    "* Ejemplo:\n",
    "\n",
    "\n",
    "$$SentenciaIf \\rightarrow if \\, parentIzq \\, Condicion \\, parentDer \\, llaveIzq \\, Bloque \\, llaveDer \\, SentenciaElse$$\n",
    "$$SentenciaElse \\rightarrow \\lambda \\mid else \\, llaveIzq \\, Bloque \\, llaveDer$$\n",
    "\n",
    "\n",
    "* Si la condición es verdadera se ejecuta el primer bloque, y si es falsa puede ocurrir dos cosas: si existe la sentencia else se ejecuta su bloque, y si no existe se termina sin hacer nada\n",
    "\n",
    "| #  | CI                                                    |\n",
    "| -- |  --                                                   |\n",
    "| 1  | \"SALTO_SI_FALSO\", Condicion1.dir, \"ETIQ_ELSE_1\", null |\n",
    "| 2  | \"SALTO\", \"ETIQ_FIN_1\", null, null                     |\n",
    "| 3  | \"ETIQ\", \"ETIQ_ELSE_1\", null, null                     |\n",
    "| 4  | \"ETIQ\", \"ETIQ_FIN_1\", null, null                      |\n",
    "| 5  | \"SALTO_SI_FALSO\", Condicion2.dir, \"ETIQ_ELSE_2\", null |\n",
    "| 6  | \"SALTO\", \"ETIQ_FIN_2\", null, null                     |\n",
    "| 7  | \"ETIQ\", \"ETIQ_ELSE_2\", null, null                     |\n",
    "| 8  | \"ETIQ\", \"ETIQ_FIN_2\", null, null                      |"
   ]
  },
  {
   "cell_type": "markdown",
   "id": "37da337f-de33-4b67-9c8f-ad3704a90281",
   "metadata": {},
   "source": [
    "## CI para iteración tipo while"
   ]
  },
  {
   "cell_type": "markdown",
   "id": "c24a2592-6da2-47a9-9fc6-6ed67c7ead4a",
   "metadata": {},
   "source": [
    "* Esta sentencia también es parecida en todos los lenguajes imperativos\n",
    "* Tiene mucha similitud con la sentencia condicional salvo estas dos diferencias:\n",
    "  * No hay bloque else\n",
    "  * Al final del bloque de sentencias hay un salto al comienzo de la condición\n",
    "* Debido a estas dos diferencias, las operaciones a realizar están situadas de distinta forma\n",
    "\n",
    "| #  | CI                                                |\n",
    "| -- |  --                                               |\n",
    "| 1  | \"ETIQ\", \"ETIQ_INICIO\", null, null                 |\n",
    "| 2  | \"SALTO_SI_FALSO\", Condicion.dir, \"ETIQ_FIN\", null |\n",
    "| 3  | \"SALTO\", \"ETIQ_INICIO\", null, null                |\n",
    "| 4  | \"ETIQ\", \"ETIQ_FIN\", null, null                    |\n",
    "\n",
    "* Generalmente, se permite salir de la iteración con una sentencia de ruptura (por ejemplo, break). Para implementar esta sentencia, hay que provocar un salto a la etiqueta del final de la iteración\n",
    "* Hay LP que permiten la declaración de variables locales dentro de los ámbitos de este tipo de instrucciones. Habrá que insertar estas variables locales en la tabla de símbolos con un nuevo ámbito. Al salir del bloque de estas instrucciones, habrá que eliminar estas variables locales de todo el ámbito"
   ]
  }
 ],
 "metadata": {
  "kernelspec": {
   "display_name": "Python [conda env:base] *",
   "language": "python",
   "name": "conda-base-py"
  },
  "language_info": {
   "codemirror_mode": {
    "name": "ipython",
    "version": 3
   },
   "file_extension": ".py",
   "mimetype": "text/x-python",
   "name": "python",
   "nbconvert_exporter": "python",
   "pygments_lexer": "ipython3",
   "version": "3.12.7"
  }
 },
 "nbformat": 4,
 "nbformat_minor": 5
}
