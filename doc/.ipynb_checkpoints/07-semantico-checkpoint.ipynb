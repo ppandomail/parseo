{
 "cells": [
  {
   "cell_type": "markdown",
   "id": "3944093e-035c-4e28-8517-fdd8abcbc30b",
   "metadata": {},
   "source": [
    "# Análisis Semántico\n",
    "---"
   ]
  },
  {
   "cell_type": "markdown",
   "id": "d8ec15ee-38ca-4e69-b3f8-9bfbd7dcb605",
   "metadata": {},
   "source": [
    "* Comprobar que una serie de símbolos tiene un sentido respecto a lo que el creador del compilador desea\n",
    "* Comprobar que en el programa hay una cohesión y un sentido\n",
    "* Esta fase verifica que:\n",
    "\n",
    "|||\n",
    "| -- | -- |\n",
    "| **los tipos**      | que intervienen en las expresiones sean compatibles entre sí |\n",
    "| **los parámetros** | que se le pasan a los subprogramas sean los adecuados tanto en número como en tipo |\n",
    "| **las funciones**  | devuelvan valores adecuados en cuanto al tipo |\n",
    "| **...**            | **...** |\n",
    "\n",
    "* En la construcción de un compilador hay una fuerte relación entre el análisis semántico y las siguientes fases (generación de código intermedio y final)\n",
    "* El parser guía el proceso de análisis semántico, por lo que se habla de **traducción dirigida por la sintaxis**. Esto es así porque el parser es el que invoca los procesos de análisis semántico y generación de código al tiempo que realiza sus propias tareas de análisis sintáctico\n",
    "* Es esencial que se dote de significado a la GIC (asignarles cierta información llamada **atributos**) para poder implementar el análisis semántico sobre ella\n",
    "* Para poder realizar el análisis semántico, es necesario, que las producciones puedan realizar **acciones semánticas** y manipular los atributos. Estas acciones y esta manipulación se realizan incluyendo código de un lenguaje de programación determinado\n",
    "* En la práctica, las fases de análisis sintáctico, semántico y generación de código intermedio se hacen todo junto y a la vez, por lo que se suele utilizar una misma herramienta para todo"
   ]
  },
  {
   "cell_type": "markdown",
   "id": "8b5cffa0-b38a-4309-91eb-2e1f0c5c2bde",
   "metadata": {},
   "source": [
    "## Atributos semánticos (ATR)"
   ]
  },
  {
   "cell_type": "markdown",
   "id": "de3eb914-2b2b-4092-96af-a1896d1f9e7a",
   "metadata": {},
   "source": [
    "* Son información personalizada (semántica) de los símbolos\n",
    "* Cada tipo de símbolo puede tener ATR diferentes\n",
    "* Esta información viaja a través del AAS adjunta a cada símbolo"
   ]
  },
  {
   "cell_type": "markdown",
   "id": "f47960e9-5a7a-40a7-8a56-083fbf3c29d6",
   "metadata": {},
   "source": [
    "## Acciones semánticas (ACC)"
   ]
  },
  {
   "cell_type": "markdown",
   "id": "3277fc49-1f83-440e-9963-a971b8dd8fe9",
   "metadata": {},
   "source": [
    "* Se encargan de manipular el contenido de los ATR para verificar que existe un significado correcto en la relación de los símbolos entre sí\n",
    "* Símbolos hace referencia tanto a terminales como a no terminales"
   ]
  },
  {
   "cell_type": "markdown",
   "id": "4c53e38e-f48f-4ffb-a52d-7f583c7f27f4",
   "metadata": {},
   "source": [
    "## Atributos y acciones semánticos"
   ]
  },
  {
   "cell_type": "markdown",
   "id": "caedae65-0ac2-42d5-a2de-205015e06bab",
   "metadata": {},
   "source": [
    "* La estructura de datos formada por los símbolos y sus ATR es parecida a una estructura de registro\n",
    "* Cada tipo de símbolo es un tipo de registro\n",
    "* Cada ATR es un campo del registro\n",
    "* Cada ATR puede ser de un tipo concreto\n",
    "* Ejemplo: Reglas en Pascal"
   ]
  },
  {
   "cell_type": "markdown",
   "id": "7aff9141-5c37-459d-bb34-5c4de7146540",
   "metadata": {},
   "source": [
    "$$DeclVar \\rightarrow var \\, nombreVar \\, dospuntos \\, TipoVar \\, puntocoma$$\n",
    "$$TipoVar \\rightarrow entero \\mid booleano$$"
   ]
  },
  {
   "cell_type": "markdown",
   "id": "45eda8f0-367f-4ddc-b75d-52524503606c",
   "metadata": {},
   "source": [
    "| Atributos            | Valor      |\n",
    "| --                   | --         |\n",
    "| var.lexema           | \"var\"      |\n",
    "| nombreVar.lexema     |            |\n",
    "| nombreVar.nombreTipo |            |\n",
    "| dospuntos.lexema     | \":\"        |\n",
    "| puntocoma.lexema     | \";\"        |\n",
    "| entero.lexema        | \"integer\"  |\n",
    "| booleano.lexema      | \"boolean\"  |"
   ]
  },
  {
   "cell_type": "markdown",
   "id": "e781df96-3ebd-4a14-a8a3-d5dda9f77964",
   "metadata": {},
   "source": [
    "* Los diferentes ATR serían de diferentes tipos, por ejemplo, los lexemas podrían ser de tipo cadena, la dirección de tipo entero y el nombre del tipo de una variable de tipo cadena\n",
    "* Hay dos tipos de terminales, los que están definidos en el análisis léxico como fijos y los que siguen un patrón definido, por lo que representan a una variedad de posibles lexemas\n",
    "* En el caso del ejemplo, hay un terminal que no tiene por qué tener un lexema fijo. Se trata del terminal **nombreVar**, que representa el nombre de la variable concreta\n",
    "* Para poder llenar la TS con la información necesaria de cada símbolo, es preciso que los diferentes ATR tengan sus valores establecidos\n",
    "* Para calcular los valores de los ATR, es preciso incluir las ACC, que no son más que trozos de código en un LP concreto, que manipulan los símbolos y sus atributos\n",
    "* Por ejemplo, en el caso anterior, se debe incluir en la TS el tipo de la variable declarada\n",
    "* El tipo sólo se puede obtener de la propia gramática\n",
    "* Para pasar la información del tipo del no terminal TipoVar al atributo nombreTipo del terminal nombreVar, se utilizan ACC inmersas en las reglas\n",
    "* Las ACC se suelen contener entre llaves para separarlas de la gramática"
   ]
  },
  {
   "cell_type": "markdown",
   "id": "41f8c1da-1c6b-4149-9059-707fa4143456",
   "metadata": {},
   "source": [
    "```\n",
    "DeclVar ::= var nombreVar dospuntos TipoVar puntocoma\n",
    "          {: nombreVar.nombreTipo = TipoVar.nombreTipo; :}\n",
    "TipoVar ::= entero \n",
    "          {: TipoVar.nombreTipo = entero.lexema; :}\n",
    "        | booleano \n",
    "          {: TipoVar.nombreTipo = booleano.lexema; :}\n",
    "```"
   ]
  },
  {
   "cell_type": "markdown",
   "id": "3877ba98-a116-4f57-8a76-4aac047e9e55",
   "metadata": {},
   "source": [
    "* Se observa que se ha utilizado un ATR para el no terminal TipoVar\n",
    "* Este ATR se encarga de guardar la información necesaria para poder ser utilizada por el terminal nombreVar\n",
    "* Reglas para la utilización de ATR en ACC:\n",
    "  1. Las ACC en las que intervengan ATR de la parte izquierda de una regla se pondrán al final de la regla\n",
    "  1. Sólo se podrán incluir ACC en que intervengan ATR de un símbolo detrás de la aparición del símbolo en la regla\n",
    "* En el ejemplo anterior se ha visto que se ha pasado información entre una regla y otra\n",
    "* Para entender esto, se puede asemejar un no terminal con una función de un LP\n",
    "* Esa función se encarga de leer de la entrada una serie de lexemas y luego devolver esa serie de lexemas a quien la ha llamado y, además, adjuntarle alguna información en forma de ATR\n",
    "* En el caso anterior, cuando se procesa la 1ra. regla y se llega al no terminal TipoVar, es como si se llamara al procesamiento de la 2da. regla. En la 2da. regla, se hace una serie de reconocimiento de lexemas y se devuelve cierta información, que en este caso es el nombre del tipo de la variable\n",
    "* Esa información se devuelve en el ATR del no terminal TipoVar y es utilizada después para llenar el ATR nombreTipo del terminal nombreVar\n",
    "* Por eso es necesario que se utilice un ATR sólo después de que aparezca en una regla\n",
    "* Dependiendo de la herramienta que se utilice, los no terminales y los terminales pueden tener todos sus ATR en una clase. De manera que el terminal o no terminal es un objeto que pertenece a una clase. De esta manera, al devolver información en el caso anterior, se podría devolver no sólo un ATR sino un objeto completo (así se podría pasar mucha información entre reglas)\n",
    "* Por ejemplo, para el caso anterior, y utilizando Python, se implementará más detalladamente las acciones y los tipos que se utilizarán. Suponer la siguiente clase:"
   ]
  },
  {
   "cell_type": "code",
   "execution_count": 1,
   "id": "91640b50-2ea8-4383-a605-1d6490f096d7",
   "metadata": {},
   "outputs": [],
   "source": [
    "class Variable:\n",
    "\n",
    "    def __init__(self, lexema):\n",
    "        self.lexema = lexema\n",
    "        self.tipo_variable = ''\n",
    "\n",
    "    def set_tipo_variable(self, tipo_variable):\n",
    "        self.tipo_variable = tipo_variable\n",
    "\n",
    "    def get_tipo_variable(self):\n",
    "        return self.tipo_variable"
   ]
  },
  {
   "cell_type": "markdown",
   "id": "31d40f94-12fb-4011-b96c-da9d7d91cede",
   "metadata": {},
   "source": [
    "* Ahora, suponer que se usa una herramienta que permita utilizar código Python y reglas de la gramática. Se tendría algo parecido a:"
   ]
  },
  {
   "cell_type": "code",
   "execution_count": 3,
   "id": "8af4055b-3874-4585-8aeb-453cf5b18122",
   "metadata": {},
   "outputs": [],
   "source": [
    "class Analizador:\n",
    "\n",
    "    terminales = ['var', 'nombreVar', 'dospuntos', 'puntocoma', 'entero', 'booleano']\n",
    "    no_terminales = ['DeclVar', 'TipVar']"
   ]
  },
  {
   "cell_type": "markdown",
   "id": "12714b9f-b0d0-44e2-aab8-b82e82fa0964",
   "metadata": {},
   "source": [
    "* Se observa que delante del nombre del terminal o no terminal se pone el tipo al que pertenece\n",
    "* En principio, todos son de tipo cadena y sólo contendrá un ATR que es el nombre del lexema\n",
    "* Ahora, se podría incluir las reglas y las ACC\n",
    "\n",
    "```\n",
    "DeclVar ::= var nombreVar dospuntos TipoVar puntocoma\n",
    "          {: Variable variable = new Variable(nombreVar);\n",
    "            variable.setTipoVariable(TipoVar);\n",
    "            // TipoVar es una cadena “integer” o “boolean”\n",
    "            // si_existe_simbolo_en_tabla_simbolos(nombreVar) -> errorSemantico;\n",
    "            // si_no -> insertar_en_tabla_simbolos(variable);\n",
    "            // Aquí no se devuelve nada, pero habría gramáticas en\n",
    "            // que sí hiciera falta.\n",
    "          :}\n",
    "TipoVar ::= entero \n",
    "          {: return \"integer\";  // Devuelve la cadena \"integer\" :}\n",
    "        | booleano \n",
    "          {: return \"boolean\";  // Devuelve la cadena \"boolean\" :}\n",
    "```\n",
    "\n",
    "* Se observa que se aprovechan las acciones semánticas tanto para verificar la semántica como para manipular las tablas"
   ]
  },
  {
   "cell_type": "markdown",
   "id": "c35b6235-afd2-4e0d-b208-2bc400b7f237",
   "metadata": {},
   "source": [
    "## Tipos de atributos"
   ]
  },
  {
   "cell_type": "markdown",
   "id": "7e3f76c8-b9ac-46e6-84b7-bcc19e39c700",
   "metadata": {},
   "source": [
    "* Cuando se realiza una **traducción dirigida por la sintaxis**, se está construyendo un AAS y dotando a cada nodo una serie de características, llamadas ATR\n",
    "* El proceso de análisis consiste en recorrer la cadena de componentes léxicos de entrada e ir construyendo su AAS y después se recorre el árbol y se van ejecutando las ACC correspondientes\n",
    "* A los AAS en los que sus nodos se guardan ATR se les suele llamar **árboles adornados** y a las GIC que se organizan de esta manera, **gramáticas atribuidas**\n",
    "* Los ATR utilizados pueden ser de dos tipos:\n",
    "\n",
    "| Atributos        | se calculan a partir de los valores de los ATR de los nodos ... |\n",
    "| --               | --                                                              |\n",
    "| **sintetizados** | hijos en el árbol adornado                                      |\n",
    "| **heredados**    | hermanos o padres del árbol adornado. Se suelen utilizar para pasar información entre diferentes reglas de la gramática |\n",
    "\n",
    "* Cada nodo del árbol representa una instancia del símbolo gramatical de que se trata y, por lo tanto, tiene valores propios para sus atributos. Es decir, dos árboles que son iguales en cuanto a su estructura, no tienen porqué tener los mismos valores en los atributos de sus nodos\n",
    "* Generalmente, los terminales no tienen atributos heredados sino sólo sintetizados ya que sus valores vienen dados por etapas anteriores del análisis y no cambian.\n",
    "* Sea la GIC en la que se especifica la declaración de variables en un lenguaje como por ejemplo Python:"
   ]
  },
  {
   "cell_type": "markdown",
   "id": "2797edf7-44d9-43a6-98be-460193c3184e",
   "metadata": {},
   "source": [
    "$$DeclVar \\rightarrow TipoVar \\, ListaVar \\, puntoycoma$$\n",
    "$$TipoVar \\rightarrow entero \\mid real$$\n",
    "$$ListaVar \\rightarrow ListaVar \\, coma \\, nombreVar \\mid nombreVar$$"
   ]
  },
  {
   "cell_type": "markdown",
   "id": "ea8ea982-e76c-4af8-8740-f845fdb1313f",
   "metadata": {},
   "source": [
    "* El lexema del terminal **entero** es \"int\" y el del terminal **real** es \"float\"\n",
    "* Para ver mejor que dos no terminales son el mismo símbolo pero con atributos diferentes, se va a diferenciarlos en el nombre, pero sin perder el significado. Es decir, se va a utilizar la siguiente regla:"
   ]
  },
  {
   "cell_type": "markdown",
   "id": "c5bb6b10-402b-445c-b53c-40f1e9f0f929",
   "metadata": {},
   "source": [
    "$$ListaVar \\rightarrow ListaVar1 \\, coma \\, nombreVar \\mid nombreVar$$"
   ]
  },
  {
   "cell_type": "markdown",
   "id": "e5222c2b-5e50-4917-99ef-f99d9b131d98",
   "metadata": {},
   "source": [
    "* Atributos: nombreVar.lexema, nombreVar.tipo, ListaVar.tipo, TipoVar.tipo, puntocoma.lexema, coma.lexema, entero.lexema, real.lexema\n",
    "* Se introducen las ACC necesarias:"
   ]
  },
  {
   "cell_type": "markdown",
   "id": "d08c1bc8-8152-4645-8345-cb2ea157a22b",
   "metadata": {},
   "source": [
    "```\n",
    "DeclVar ::= TipoVar ListaVar puntoycoma\n",
    "          {: ListaVar.tipo = TipoVar.tipo; :}\n",
    "TipoVar ::= entero\n",
    "          {: TipoVar.tipo = entero.lexema; :}\n",
    "        | real\n",
    "          {: TipoVar.tipo = real.lexema; :}\n",
    "ListaVar ::= ListaVar1 coma nombreVar \n",
    "          {: ListaVar1.tipo = ListaVar.tipo;  // ATR heredado, el resto son sintetizados\n",
    "              insertarSimbolo(nombreVar.lexema, ListaVar.tipo); \n",
    "          :}             \n",
    "        | nombreVar\n",
    "          {: insertarSimbolo(nombreVar.lexema, ListaVar.tipo); :}\n",
    "```"
   ]
  },
  {
   "cell_type": "markdown",
   "id": "db460030-915c-423f-bd05-a0db2168841c",
   "metadata": {},
   "source": [
    "## Notación para la especificación de un traductor"
   ]
  },
  {
   "cell_type": "markdown",
   "id": "82d27861-cbf5-4d48-9a8e-1789a3e17414",
   "metadata": {},
   "source": [
    "* Existen dos formas de asociar acciones semánticas con reglas de producción:\n",
    "  * Definición Dirigida por la sintaxis (DDS)\n",
    "  * Esquema de traducción (ETDS)"
   ]
  },
  {
   "cell_type": "markdown",
   "id": "af43e63c-cb2b-4e0e-88a2-778aa2a54631",
   "metadata": {},
   "source": [
    "## Definición Dirigida por la sintaxis (DDS)"
   ]
  },
  {
   "cell_type": "markdown",
   "id": "4b4265e7-ac49-499d-802e-8f67435512dd",
   "metadata": {},
   "source": [
    "* Consiste en asociar una ACC a una regla de producción pero sin indicar cuándo se debe ejecutar dicha acción\n",
    "* Las gramáticas con atributos son un ejemplo restringido de DDS. En ellas, los atributos son calculados a partir de otros atributos, pero sin que intervenga o se modifique nada externo a la gramática\n",
    "* En una DDS se hace lo mismo que en las gramáticas con atributos pero además se puede manipular información externa a la gramática. De todas formas, no se indica el orden de ejecución de las acciones semánticas\n",
    "* Se suele representar en una tabla con dos columnas y tantas filas como reglas de la gramática\n",
    "* Ejemplo:\n",
    "\n",
    "| Producción                                                      | Regla Semántica |\n",
    "| --                                                              | -- |\n",
    "| $Asignación \\rightarrow nombreVar \\, igual \\, Suma$             | if (Suma.tipo == nombreVar.tipo) nombreVar.valor = Suma.valor; else Error_semantico; |\n",
    "| $Suma \\rightarrow nombreVar \\, mas \\, nombreVar1 \\, puntoycoma$ | if (nombreVar.tipo == nombreVar1.tipo) { Suma.tipo = nombreVar.tipo; Suma.valor = nombreVar.valor + nombreVar1.valor; } else Error_semantico; |\n",
    "\n",
    "* Un caso particular de gramática con atributos es una GAI (gramática con atributos por la izquierda) o gramática L-atribuida\n",
    "* En este tipo de gramáticas toda la información necesaria para su manipulación por las ACC está disponible en el momento de la ejecución de cada regla\n",
    "* Una gramática DDS es GAI si para cada regla de la forma $A \\rightarrow B_1 B_2 B_3 ... B_n$ cada atributo heredado de $B_j$ (con 1 ≤ j ≤ n) depende sólo de:\n",
    "  1. Los atributos heredados o sintetizados de los símbolos $B_1 B_2 B_3 ... B_{j-1}$\n",
    "  2. Los atributos heredados de A"
   ]
  },
  {
   "cell_type": "markdown",
   "id": "23e0f456-8650-46a4-a873-1b33bb4b6910",
   "metadata": {},
   "source": [
    "### Ejemplo DDS"
   ]
  },
  {
   "cell_type": "markdown",
   "id": "2278e0b9-bd46-437a-b734-48affdfca1dd",
   "metadata": {},
   "source": [
    "* Suponer que un robot se puede instruir para moverse un paso al este, norte, oeste o sur desde su posición inicial\n",
    "* Una secuencia de estas instrucciones se genera con la gramática siguiente:\n",
    "\n",
    "$$sec \\rightarrow sec instr \\mid comienza$$\n",
    "$$instr \\rightarrow este \\mid norte \\mid oeste \\mid sur$$\n",
    "\n",
    "* Posible entrada: comienza oeste sur este este este norte norte\n",
    "\n",
    "![Robot](img/robot.png)\n",
    "\n",
    "| Producción                      | Acción Semántica                                       |\n",
    "| --                              | --                                                     |\n",
    "| $sec \\rightarrow comienza$      | sec.x = 0; sec.y = 0;                                  |\n",
    "| $sec \\rightarrow sec1 \\, instr$ | sec.x = sec1.x + instr.dx;  sec.y = sec1.y + instr.dy; |\n",
    "| $instr \\rightarrow este$        | instr.dx = 1; instr.dy = 0;                            |\n",
    "| $instr \\rightarrow norte$       | instr.dx = 0; instr.dy = 1;                            |\n",
    "| $instr \\rightarrow oeste$       | instr.dx = -1;  instr.dy = 0;                          |\n",
    "| $instr \\rightarrow sur$         | instr.dx = 0;  instr.dy = -1;                          |"
   ]
  },
  {
   "cell_type": "markdown",
   "id": "d99223d0-d021-44b1-b06a-3a7b0dee5ecc",
   "metadata": {},
   "source": [
    "## Esquema de traducción (ETDS)"
   ]
  },
  {
   "cell_type": "markdown",
   "id": "e5f1deac-e0b9-4e4e-9f54-6d3bf9d3d268",
   "metadata": {},
   "source": [
    "* Es una gramática atribuida en la que hay intercalados en el lado derecho de las reglas de producción, fragmentos de código en un LP, que implementan ACC.\n",
    "* Es un DDS en que se da un orden en la ejecución de las ACC\n",
    "* Una característica fundamental de un ETDS es que la traducción pueda realizarse de una sola pasada. Por lo tanto, un ETDS no permite herencia de los atributos desde la derecha hacia la izquierda\n",
    "* Por todo ello, un ETDS es un GAI en que se insertan ACC\n",
    "* Los ETDS se utilizan a menudo para convertir un formato de un lenguaje en el formato de otro lenguaje\n",
    "* Si se tiene una gramática y se quiere que sea un ETDS, se deberá decidir los atributos necesarios y asignarlos a los símbolos de la gramática\n",
    "* Luego, se deben insertar las ACC necesarias. En este segundo paso, se debe tener en cuenta que se deben cumplir las restricciones de un ETDS, es decir:\n",
    "  1. Si todos los atributos son sintetizados, se pondrán las ACC después de los atributos implicados. Lo mejor es situarlas al final de la regla de producción. Para cada atributo sintetizado, siempre hay que calcularlo después de que hayan tomado un valor todos los demás atributos que intervienen en el cálculo\n",
    "  1. Si hay atributos heredados:\n",
    "      * Un atributo heredado A.h debe calcularse antes que aparezca A\n",
    "      * Un atributo sintetizado A.s no debe usarse antes de aparezca A\n",
    "  1. Una ACC no debe referirse a un atributo sintetizado de un símbolo que esté a la derecha de la acción"
   ]
  },
  {
   "cell_type": "markdown",
   "id": "2699393e-de53-4a60-88e4-87bbc98e5069",
   "metadata": {},
   "source": [
    "### Ejemplo ETDS"
   ]
  },
  {
   "cell_type": "markdown",
   "id": "7abea889-1d85-4c6f-bd77-f81a47fa1e5d",
   "metadata": {},
   "source": [
    "* Se quiere convertir la declaración de variables en C en declaración de variables en Pascal\n",
    "  * int x, y;  ==> var x,y: integer;\n",
    "* La gramática para la declaración de variables en C sería:"
   ]
  },
  {
   "cell_type": "markdown",
   "id": "8acd85fb-2e6c-4f12-9e85-566d410d97c4",
   "metadata": {},
   "source": [
    "$$DeclVar \\rightarrow TipoVar \\, ListaVar \\, puntocoma$$\n",
    "$$TipoVar \\rightarrow entero$$\n",
    "$$ListaVar \\rightarrow ListaVar \\, coma \\, nombreVar$$\n",
    "$$ListaVar \\rightarrow nombreVar$$"
   ]
  },
  {
   "cell_type": "markdown",
   "id": "64a22885-d8c6-4794-9a96-24c66ddb14f7",
   "metadata": {},
   "source": [
    "* Como se va a traducir, se debe tener un atributo en cada no terminal que se encargue de almacenar la traducción.\n",
    "\n",
    "```\n",
    "DeclVar -> TipoVar ListaVar puntocoma\n",
    "        {: DeclVar.trad = \"var\" + ListaVar.trad + \":\" + TipoVar.trad + puntocoma.lexema; :}\n",
    "TipoVar -> entero\n",
    "        {: TipoVar.trad = \"integer\"; :}\n",
    "ListaVar -> ListaVar coma nombreVar\n",
    "        {: ListaVar.trad = ListaVar1.trad + coma.lexema + nombreVar.lexema; :}\n",
    "ListaVar -> nombreVar\n",
    "        {: ListaVar.trad = nombreVar.lexema :}\n",
    "```\n",
    "\n",
    "| Atributo             ||\n",
    "| --                   | -- |\n",
    "| **TipoVar.trad**     | es sintetizado ya que es de un no terminal a la izquierda de una regla y se calcula a partir de atributos a la derecha de la regla |\n",
    "| **ListaVar.trad**    | es sintetizado ya que está también a la izquierda en las reglas en que se calcula |\n",
    "| **nombreVar.lexema** | es sintetizado porque es un terminal |\n",
    "| **coma.lexema**      | es sintetizado porque es un terminal |\n",
    "| **puntocoma.lexema** | es sintetizado porque es un terminal |\n",
    "| **DeclVar.trad**     | es sintetizado porque el no terminal está a la izquierda de la regla y se calcula a partir de los de la derecha de la regla |\n",
    "\n",
    "* Por tanto, como todos los atributos son sintetizados, se sabe que se cumplen la propiedades de ETDS y además se pueden poner todas las ACC al final de las reglas"
   ]
  },
  {
   "cell_type": "markdown",
   "id": "4375074b-7a29-4068-a571-2fee32fc9096",
   "metadata": {},
   "source": [
    "## Comprobaciones semánticas"
   ]
  },
  {
   "cell_type": "markdown",
   "id": "b541074b-b2ad-4345-b174-1288ffd62c6f",
   "metadata": {},
   "source": [
    "* Una vez que se haya dotado a una GIC de sus atributos y de las acciones semánticas oportunas.  Se puede darle la capacidad de detectar errores semánticos\n",
    "* La detección de errores semánticos depende mucho de las características del lenguaje del que se vaya a realizar el compilador y de la implementación elegida"
   ]
  },
  {
   "cell_type": "markdown",
   "id": "dcbcbd00-d233-4eea-9d00-5cc473e8bcb7",
   "metadata": {},
   "source": [
    "### Ejemplos"
   ]
  },
  {
   "cell_type": "markdown",
   "id": "073fbecd-341c-42c5-a810-9681807e64d8",
   "metadata": {},
   "source": [
    "* declaraciones de variables\n",
    "* tipos predefinidos\n",
    "* tipos estructurados\n",
    "* subprogramas\n",
    "* tipos devueltos por una función\n",
    "* utilización de variables antes de ser inicializada\n",
    "* etc."
   ]
  }
 ],
 "metadata": {
  "kernelspec": {
   "display_name": "Python [conda env:base] *",
   "language": "python",
   "name": "conda-base-py"
  },
  "language_info": {
   "codemirror_mode": {
    "name": "ipython",
    "version": 3
   },
   "file_extension": ".py",
   "mimetype": "text/x-python",
   "name": "python",
   "nbconvert_exporter": "python",
   "pygments_lexer": "ipython3",
   "version": "3.12.7"
  }
 },
 "nbformat": 4,
 "nbformat_minor": 5
}
