{
 "cells": [
  {
   "cell_type": "markdown",
   "id": "3039a09f-ebb1-4da7-8c23-0f62a73a9a7e",
   "metadata": {},
   "source": [
    "# Análisis Sintáctico (Parser)\n",
    "---"
   ]
  },
  {
   "cell_type": "markdown",
   "id": "6e44a4a1-169d-4551-958d-ae83cfc56fc6",
   "metadata": {},
   "source": [
    "## Funciones del Parser"
   ]
  },
  {
   "cell_type": "markdown",
   "id": "28a1e8ab-6c22-466f-a38d-eb06dca2ad97",
   "metadata": {},
   "source": [
    "* Comprobar que los tokens que le suministra el Scanner van ordenados según la especificación de la gramática del lenguaje a compilar\n",
    "* Si no es así, dar los mensajes de error adecuados, pero continuar funcionando sin detenerse, hasta que se llegue al final del archivo de entrada\n",
    "* Guia casi todo el proceso de la compilación. Esto es así porque por un lado va solicitando al Scanner los tokens y al mismo tiempo va dirigiendo el proceso de análisis semántico y generación de código intermedio (ambos procesos se les llama, traducción dirigida por la sintaxis)"
   ]
  },
  {
   "cell_type": "markdown",
   "id": "0dc35b5e-161f-489b-8311-4cd76ccd77f1",
   "metadata": {},
   "source": [
    "![Fases de compilación](img/fase-parser.png)"
   ]
  },
  {
   "cell_type": "markdown",
   "id": "c2c2a5f9-ee03-4cf4-93a0-8b8781f53fb8",
   "metadata": {},
   "source": [
    "* Generalmente, los Parsers obtienen un árbol teórico, árbol de análisis sintáctico (AAS) que permite expresar el orden de los lexemas según van apareciendo\n",
    "* Si se utiliza el método de traducción dirigida por la sintaxis no se llega ni siquiera a plantearse la generación del árbol ya que el Parser realizará las acciones semánticas e incorporará los métodos para realizar la generación de código intermedio y avisará de errores y su recuperación\n",
    "* Es decir, el Parser hará las funciones de las dos fases siguientes (analizador semántico y generación de código intermedio)\n",
    "* Si se le da la oportunidad a la creación del AAS, recorriéndolo es posible crear una representación intermedia del programa fuente, ya sea en forma de árbol sintáctico abstracto o en forma de programa en un lenguaje intermedio\n",
    "* Para generar el Parser, se pueden utilizar dos técnicas:\n",
    "\n",
    "| Técnica                                                  | Implementación | Eficiencia      |\n",
    "| --                                                       | --             | --              |\n",
    "| **a mano**                                               | difícil        | eficiente       |\n",
    "| **mediante herramientas que lo generan automáticamente** | fácil          | menos eficiente |"
   ]
  },
  {
   "cell_type": "markdown",
   "id": "e541aad9-2266-4fcb-a738-7ffcb0c4d368",
   "metadata": {},
   "source": [
    "## Especificación del Lenguaje (L)"
   ]
  },
  {
   "cell_type": "markdown",
   "id": "844e9cca-e48d-4d51-8a8d-4827601196a2",
   "metadata": {},
   "source": [
    "* Para que un Parser funcione, se debe especificar formalmente L\n",
    "* L debe ser representado con reglas únicas y bien formadas (GIC) de manera que el Parser funcione de una manera bien definida\n",
    "* Primer paso para implementar un Parser es definir la GIC que debe ser capaz de analizar\n",
    "* Una GIC es una especificación (formal) de un conjunto de strings válidos (programas)\n",
    "* La GIC no explica el \"significado\" de las partes del programa\n",
    "* Ejemplo: \"Cobertorzinho\"\n",
    "\n",
    "```\n",
    "<exp> ::= a \n",
    "<exp> ::= b\n",
    "<exp> ::= virar(<exp>)\n",
    "<exp> ::= costurar(<exp>,<exp>)\n",
    "```"
   ]
  },
  {
   "cell_type": "markdown",
   "id": "2df96d65-8c08-46f8-980a-86c32c78aecf",
   "metadata": {},
   "source": [
    "## Diseño de Gramáticas Independientes/Libre de Contexto (GIC)"
   ]
  },
  {
   "cell_type": "markdown",
   "id": "d5c4f155-42a9-4abb-9f66-548c258c5950",
   "metadata": {},
   "source": [
    "* GIC es aquella en donde sus reglas de producción se pueden aplicar sin considerar el contexto del no-terminal\n",
    "* GIC se define por tuplas de 4 elementos:\n",
    "\n",
    "| Elementos  |                                                | Representación                        |\n",
    "| --         | --                                             | --                                    |\n",
    "| $\\Sigma_T$ | conjunto finito de símbolos terminales         | negrita                               |\n",
    "| $\\Sigma_N$ | conjunto finito de símbolos no terminales      | palabras que comienzan con mayúsculas |\n",
    "| $P$        | conjunto de reglas de reescritura o producción | ::= ó $\\rightarrow$                   |\n",
    "| $S$        | axioma inicial o símbolo distinguido           |                                       |"
   ]
  },
  {
   "cell_type": "markdown",
   "id": "8448a32d-40fc-4059-9d83-d49f82eddcd0",
   "metadata": {},
   "source": [
    "## Ejemplos"
   ]
  },
  {
   "cell_type": "markdown",
   "id": "f6bec8fa-e8ac-45d1-bb3e-8414efa1c7a4",
   "metadata": {},
   "source": [
    "### Sintaxis del lenguaje de fechas (GIC no recursiva)"
   ]
  },
  {
   "cell_type": "markdown",
   "id": "ae55e7b6-aa5f-44de-924d-4dfc8267e7ef",
   "metadata": {},
   "source": [
    "```\n",
    "<date> ::= <d><d>/<d><d>/<d><d><d><d>\n",
    "```"
   ]
  },
  {
   "cell_type": "markdown",
   "id": "0a81ed27-9db6-40a8-8933-02dd2710f40b",
   "metadata": {},
   "source": [
    "### Sintaxis del lenguaje de secuencia de números (GIC recursiva)"
   ]
  },
  {
   "cell_type": "markdown",
   "id": "1179c4ea-1fb6-49b7-bc58-6cea5c68fe97",
   "metadata": {},
   "source": [
    "```\n",
    "<real_number> ::= <digit_seq> . <digit_seq>\n",
    "<digit_seq> ::= <d> | <d> <digit_seq>\n",
    "<d> ::= 0 | 1 | 2 | 3 | 4 | 5 | 6 | 7 | 8 | 9\n",
    "```"
   ]
  },
  {
   "cell_type": "markdown",
   "id": "7db4f992-0de8-4812-9230-61cb65213fb2",
   "metadata": {},
   "source": [
    "### Sintaxis del lenguaje de expresiones aritméticas"
   ]
  },
  {
   "cell_type": "markdown",
   "id": "755507ef-f620-4d2b-bdcd-2f35c6ea068b",
   "metadata": {},
   "source": [
    "```\n",
    "E -> E + E | E * E | num | id | (E)\n",
    "```"
   ]
  },
  {
   "cell_type": "markdown",
   "id": "a44facb0-b034-495f-918c-fcc9e91cb7a5",
   "metadata": {},
   "source": [
    "* Derivaciones para la cadena: id1 + id2 * id3\n",
    "\n",
    "|                      |                                                                                 |\n",
    "| --                   | --                                                                              |\n",
    "| **Por la izquierda** | E -> E \\* E -> E + E \\* E -> id1 + E \\* E -> id1 + id2 \\* E -> id1 + id2 \\* id3 |\n",
    "| **Por la derecha**   | E -> E \\* E -> E \\* id3 -> E + E \\* id3 -> E + id2 \\* id3 -> id1 + id2 \\* id3   |\n",
    "\n",
    "* Se observa que la gramática es **ambigua**, para su implementación, es necesario evitar la ambigüedad\n",
    "\n",
    "```\n",
    "E -> E + T | T\n",
    "T -> T * F | F\n",
    "F -> id | F | (E)\n",
    "```"
   ]
  },
  {
   "cell_type": "markdown",
   "id": "d636feed-c431-43b8-9100-fb8e6dd752c5",
   "metadata": {},
   "source": [
    "## Gramática ambigua"
   ]
  },
  {
   "cell_type": "markdown",
   "id": "b07e4381-c297-4dd6-82f2-7404e5b36367",
   "metadata": {},
   "source": [
    "* Cuando una GIC genera una palabra para la que hay más de un AAS se dice que es ambigua\n",
    "* Debido a que una GIC de estas características permite que a partir del mismo código fuente se puedan obtener diferentes códigos intermedios, no es válido para construir un compilador\n",
    "* Técnicas que aseguran que si una GIC cumple ciertas reglas, se sabrá con seguridad que es ambigua y por lo tanto no se podrá construir un compilador con ella. En algunos casos se podrá hacer una serie de modificaciones en la GIC que la convierta en no ambigua\n",
    "* Si una GIC tiene alguna de estas características, se podrá afirmar que es ambigua:\n",
    "\n",
    "|||\n",
    "| -- | -- |\n",
    "| **GIC con ciclos**                   | $S \\rightarrow A$    $S \\rightarrow a$    $A \\rightarrow S$ |\n",
    "| **GIC con alguna regla de la forma** | $E \\rightarrow E ... E$                                     |\n",
    "| **GIC con unas reglas que ofrezcan caminos alternativos entre dos puntos** | $S \\rightarrow B$    $S \\rightarrow C$    $B \\rightarrow C$ |\n",
    "| **Producciones recursivas en las que las variables no recursivas de la producción puedan derivar a la palabra vacía** | $S \\rightarrow A B S \\mid S$    $A \\rightarrow a \\mid \\lambda$    $B \\rightarrow b \\mid \\lambda$ |\n",
    "| **Símbolos no terminales que puedan derivar a la palabra vacía y a la misma palabra de terminales, y que aparezcan juntas en la parte derecha de una regla o en alguna forma sentencial** | $A \\rightarrow A B \\mid a \\mid \\lambda$    $B \\rightarrow b \\mid a \\mid \\lambda$ |"
   ]
  },
  {
   "cell_type": "markdown",
   "id": "cccd304b-0964-4a19-86fc-24635022341a",
   "metadata": {},
   "source": [
    "## Tipos de análisis sintáctico y GICs"
   ]
  },
  {
   "cell_type": "markdown",
   "id": "c1c1e62c-b572-4279-9f0a-eae25aec9d02",
   "metadata": {},
   "source": [
    "* Al derivar una secuencia de tokens, si existe más de un no terminal en una cadena de derivación se debe elegir cuál es el próximo no terminal que se va a expandir, es decir, cuál será reemplazado por su lado derecho de la producción\n",
    "* Por ello se utilizan dos tipos de derivaciones que determinan con precisión cuál será el no terminal a tratar:\n",
    "\n",
    "|                            |                                                                                                                                 |\n",
    "| --                         | --                                                                                                                              |\n",
    "| **Derivación a izquierda** | ocurre cuando siempre se reemplaza el primer no terminal que se encuentre en una cadena derivación leída de izquierda a derecha |\n",
    "| **Derivación a derecha**   | ocurre cuando siempre reemplaza el último no terminal de la cadena de derivación leída de izquierda a derecha                   |"
   ]
  },
  {
   "cell_type": "markdown",
   "id": "07b10a11-bdb7-4b7d-bcbe-10c418f039d9",
   "metadata": {},
   "source": [
    "## Estrategias de análisis sintáctico"
   ]
  },
  {
   "cell_type": "markdown",
   "id": "66e39c16-d0e6-4aac-a987-4e45aa6efc2f",
   "metadata": {},
   "source": [
    "* Hay varios algoritmos de análisis sintáctico (incluso para las gramáticas ambiguas), pero su costo computacional es elevado -> $O(n^3)$\n",
    "* Por lo que se debe modificar la GIC (si es necesario) para que se pueda utilizar un algoritmo de menor costo computacional -> $O(n)$\n",
    "* Si se consigue eliminar la ambigüedad, se pueden utilizar dos estrategias:\n",
    "\n",
    "|||\n",
    "| -- | -- |\n",
    "| **Análisis Sintáctico Descendente (ASD)** | produce una derivación por izquierda, que comienza en el axioma y finaliza con los terminales que forman la construcción analizada |\n",
    "| **Análisis Sintáctico Ascendente (ASA)**  | utiliza una derivación a derecha, pero en orden inverso, esto es: la última producción aplicada en la derivación a derecha, es la primera producción que es \"descubierta\", mientras que la primera producción utilizada, la que involucra al axioma, es la última producción en ser \"descubierta\". En otras palabras, \"reduce el árbol de análisis sintáctico\" hasta llegar al axioma |"
   ]
  },
  {
   "cell_type": "markdown",
   "id": "ecba614d-c706-4e8a-b0da-32f77ec60335",
   "metadata": {},
   "source": [
    "### Análisis Sintáctico Descendente (ASD)"
   ]
  },
  {
   "cell_type": "markdown",
   "id": "acee21d0-c7aa-4689-80e4-c1abafb712b0",
   "metadata": {},
   "source": [
    "* Se parte de la raíz del AAS y se van aplicando **reglas por la izquierda** para obtener una derivación por la izquierda del símbolo inicial\n",
    "* Para saber la regla a aplicar, se van leyendo tokens de la entrada\n",
    "* De esta manera se construye el AAS\n",
    "* Recorriendo el árbol en profundidad, de izquierda a derecha, se tendrá en las hojas los tokens ordenados\n",
    "* Las gramáticas de tipo LL(k) se pueden analizar en tiempo lineal por el método de análisis descendente\n",
    "  * k: número de símbolos de entrada que es necesario conocer en cada momento para poder realizar el análisis\n",
    "\n",
    "* Ejemplo: derivar la cadena $aabcdd$\n",
    "\n",
    "$$S \\rightarrow aST \\mid b$$\n",
    "$$T \\rightarrow cT \\mid d$$\n",
    "\n",
    "| Cadena de derivación obtenida | Próxima producción a aplicar |\n",
    "| --                            | --                           |\n",
    "| $S$                           | $S \\rightarrow aST$          |\n",
    "| $aST$                         | $S \\rightarrow aST$          |\n",
    "| $aaSTT$                       | $S \\rightarrow b$            |\n",
    "| $aabTT$                       | $T \\rightarrow cT$           |\n",
    "| $aabcTT$                      | $T \\rightarrow d$            |\n",
    "| $aabcdT$                      | $T \\rightarrow d$            |\n",
    "| $aabcdd$                      | $accept$                     |\n",
    "\n",
    "* Tipos de análisis:\n",
    "  * **Análisis Sintáctico Descendente con retroceso** -> ASD con retroceso\n",
    "  * **Análisis Sintáctico Descendente Predictivo** -> ASDP LL(1)"
   ]
  },
  {
   "cell_type": "markdown",
   "id": "c02eb8ad-7b2d-48a2-aa3f-7e37b41498a5",
   "metadata": {},
   "source": [
    "### Análisis Sintáctico Ascendente (ASA)"
   ]
  },
  {
   "cell_type": "markdown",
   "id": "b30644b0-8551-40fa-9aa3-2facaf856cea",
   "metadata": {},
   "source": [
    "* Se parte de la palabra de entrada y se va construyendo el árbol a partir de las hojas para llegar a la raíz\n",
    "* Si se recorre el árbol generado, se encontrarán los tokens ordenados\n",
    "* Las gramáticas de tipo LR(k) se pueden analizar en tiempo lineal por el método de análisis ascendente\n",
    "\n",
    "* Ejemplo: derivar la cadena $aabcdd$\n",
    "\n",
    "$$S \\rightarrow aST \\mid b$$\n",
    "$$T \\rightarrow cT \\mid d$$\n",
    "\n",
    "1. Derivación a derecha:\n",
    "\n",
    "| Cadena de derivación obtenida | Próxima producción a aplicar |\n",
    "| --                            | --                           |\n",
    "| $S$                           | $S \\rightarrow aST$          |\n",
    "| $aST$                         | $T \\rightarrow d$            |\n",
    "| $aSd$                         | $S \\rightarrow aST$          |\n",
    "| $aaSTd$                       | $T \\rightarrow cT$           |\n",
    "| $aaScTd$                      | $T \\rightarrow d$            |\n",
    "| $aaScdd$                      | $S \\rightarrow b$            |\n",
    "| $aabcdd$                      |                              |\n",
    "\n",
    "2. Orden Inverso a la derivación por derecha\n",
    "\n",
    "| Cadena de derivación obtenida | Próxima producción a aplicar |\n",
    "| --                            | --                           |\n",
    "| $aabcdd$                      | $S \\rightarrow b$            |\n",
    "| $aaScdd$                      | $T \\rightarrow d$            |\n",
    "| $aaScTd$                      | $T \\rightarrow cT$           |\n",
    "| $aaSTd$                       | $S \\rightarrow aST$          |\n",
    "| $aSd$                         | $T \\rightarrow d$            |\n",
    "| $aST$                         | $S \\rightarrow aST$          |\n",
    "| $S$                           | $accept$                     |\n",
    "\n",
    "* Tipos de análisis:\n",
    "  * **Análisis Sintáctico Ascendente con retroceso** -> ASA con retroceso\n",
    "  * **Análisis Sintáctico Ascendente Predictivo** -> ASAP SLR"
   ]
  },
  {
   "cell_type": "markdown",
   "id": "761e543c-d924-479c-bf71-5f211658c584",
   "metadata": {},
   "source": [
    "## Diagrama de sintaxis"
   ]
  },
  {
   "cell_type": "markdown",
   "id": "47ead985-618e-4430-803b-677d3ebbc07d",
   "metadata": {},
   "source": [
    "* Son grafos dirigidos donde los elementos no terminales de la GIC aparecen como rectángulos y los terminales como círculos o elipses\n",
    "* Todo diagrama de sintaxis se supone que tiene un origen y un destino, aunque no se dibujan (se supone que el origen está a la izquierda y el destino a la derecha)"
   ]
  },
  {
   "cell_type": "markdown",
   "id": "cc9511ea-b6ba-48b2-9292-acd5a9c35c1d",
   "metadata": {},
   "source": [
    "![Diagrama IF](img/if.png)"
   ]
  },
  {
   "cell_type": "markdown",
   "id": "dcce3d55-7934-4897-a1d0-92404027e011",
   "metadata": {},
   "source": [
    "* Ejemplo: $$Sentencia \\rightarrow Identificador \\, = \\, Número$$\n",
    "\n",
    "```\n",
    "---->[Identificador]---->(=)---->[Número]---->\n",
    "```"
   ]
  },
  {
   "cell_type": "code",
   "execution_count": 1,
   "id": "cb09a126-6674-4eb0-b823-0858443f9d9b",
   "metadata": {},
   "outputs": [],
   "source": [
    "def secuencia():\n",
    "    if token == Identificador: \n",
    "        token = getToken()\n",
    "    elif token == IGUAL: \n",
    "        token = getToken()\n",
    "    elif token == Numero: \n",
    "        token = getToken()\n",
    "    else: \n",
    "        error()"
   ]
  },
  {
   "cell_type": "markdown",
   "id": "07cfb46a-e5b1-4833-a4a3-693a20c5a675",
   "metadata": {},
   "source": [
    "* Ejemplo: $$Sentencia \\rightarrow (Sentencia \\, ; \\,)^+$$\n",
    "\n",
    "```\n",
    "-----------------------------\n",
    "|                           ^ \n",
    "v                           |\n",
    "---->[Sentencia]---->(;) ------->\n",
    "```"
   ]
  },
  {
   "cell_type": "code",
   "execution_count": 3,
   "id": "e07884dd-da68-44a1-9ae3-b4941df4d3f8",
   "metadata": {},
   "outputs": [],
   "source": [
    "def secuencia():\n",
    "    token = getToken();\n",
    "    while token != EOF:\n",
    "      sentencia()\n",
    "      while (token != PUNTOCOMA):\n",
    "        error(); \n",
    "        token = getToken()\n",
    "      token = getToken()"
   ]
  },
  {
   "cell_type": "markdown",
   "id": "84886a07-50fc-4234-a96c-f42a8a408626",
   "metadata": {},
   "source": [
    "## Tools(Parser(Languages(Program)))"
   ]
  },
  {
   "cell_type": "markdown",
   "id": "e8593df5-7f5b-4760-91b4-18b301974013",
   "metadata": {},
   "source": [
    "* Un desarrollador está expuesto a un número creciente de tecnología de parsing:\n",
    "  * (mini) Herramientas\n",
    "    * Pretty Print (... a colores!!)\n",
    "    * Autocompletado de código\n",
    "    * AI (Copilot,  Tabnine, Kite)\n",
    "  * Herramientas\n",
    "    * Refactoring\n",
    "    * Crítica de Código y CodeSmells\n",
    "    * Source Base Project Analytics\n",
    "\n",
    "* Por ejemplo: Como se implementa el formateo automático o los colores en el código fuente?\n",
    "\n",
    "* Programa: al menos un lenguaje\n",
    "* Lenguajes: Gramática (sintaxis+) y Semántica de operación (y denotativa)\n",
    "* Parsers\n",
    "  * \"Analizan\" la validez de un texto como programa\n",
    "  * Consideran la gramática de un lenguaje\n",
    "  * Se basan en el AST (abstract syntax trees)\n",
    "* Herramientas\n",
    "  * Analizar/Mantener/Documentar\n",
    "  * Refactorizar/Optimizar\n",
    "  * Migrar/Reescribir"
   ]
  },
  {
   "cell_type": "markdown",
   "id": "ce6e8abd-050f-4949-b835-1a34d749d63c",
   "metadata": {},
   "source": [
    "## Herramientas"
   ]
  },
  {
   "cell_type": "markdown",
   "id": "1686fb46-5153-43e3-8e76-c0fc05f6bc6b",
   "metadata": {},
   "source": [
    "### CUP"
   ]
  },
  {
   "cell_type": "markdown",
   "id": "b57b7e58-229e-4938-808e-34d77e5cdcf9",
   "metadata": {},
   "source": [
    "* Constructor of Useful Parsers  \n",
    "* Genera analizadores sintácticos LALR (LookAhead LR)\n",
    "* Genera código Java y permite introducir acciones semánticas escritas en dicho lenguaje"
   ]
  },
  {
   "cell_type": "markdown",
   "id": "3211a53f-2139-4af4-9395-f7e8f6bcbced",
   "metadata": {},
   "source": [
    "* Declaraciones **JLex**:\n",
    "\n",
    "```\n",
    "import java_cup.runtime.Symbol;\n",
    "%%\n",
    "%full\n",
    "%notunix\n",
    "%cup\n",
    "%%\n",
    "[\\r\\n\\t ]+ {/*prescindir de blancos*/}\n",
    "\"+\" { return new Symbol (sym.SUMA); }\n",
    "\"-\" { return new Symbol (sym.RESTA); }\n",
    "\"*\" { return new Symbol (sym.MULTIPLICACION); }\n",
    "\"/\" { return new Symbol (sym.DIVISION); }\n",
    "\"^\" { return new Symbol (sym.POTENCIA); }\n",
    "\"(\" { return new Symbol (sym.LPARENT); }\n",
    "\")\" { return new Symbol (sym.RPARENT); }\n",
    "\"=\" { return new Symbol (sym.RESULTADO); }\n",
    "[0-9]+ {return new Symbol (sym.ENTERO, new Integer (yytext())); }\n",
    "[^0-9\\r\\n\\t \\+\\-\\*\"^\"/]+ { System.out.println(\"Error léxico: \"+ yytext() ); }\n",
    "```"
   ]
  },
  {
   "cell_type": "markdown",
   "id": "ad5f5469-4d10-41ce-9096-99c763ba5ea0",
   "metadata": {},
   "source": [
    "* Declaraciones **CUP**\n",
    "\n",
    "```\n",
    "// terminales y no terminales\n",
    "terminal SUMA, RESTA,DIVISION,MULTIPLICACION;\n",
    "terminal Integer ENTERO;\n",
    "terminal POTENCIA, RESULTADO, LPARENT, RPARENT, SIGNO;\n",
    "non terminal sesion, ecuacion;\n",
    "non terminal Integer expresion;\n",
    "precedence left RESTA, SUMA;\n",
    "precedence left MULTIPLICACION, DIVISION;\n",
    "precedence right SIGNO;\n",
    "// gramática\n",
    "sesion ::= ecuacion\n",
    "         | ecuacion sesion;\n",
    "ecuacion ::= expresion:E1\n",
    "             {: System.out.println(E1.intValue()); :}\n",
    "RESULTADO;\n",
    "expresion ::= ENTERO:E1\n",
    "              {:RESULT = new Integer (E1.intValue()); :}\n",
    "            | expresion:E1 SUMA expresion:E2\n",
    "              {:RESULT=new Integer( E1.intValue() + E2.intValue()); :}\n",
    "            | expresion:E1 RESTA expresion:E2\n",
    "              {:RESULT=new Integer( E1.intValue() - E2.intValue()); :}\n",
    "            | expresion:E1 MULTIPLICACION expresion:E2\n",
    "              {:RESULT=new Integer( E1.intValue() * E2.intValue()); :}\n",
    "            | expresion:E1 DIVISION expresion:E2\n",
    "              {:RESULT=new Integer(E1.intValue() / E2.intValue()); :}\n",
    "            | LPARENT expresion:E1 RPARENT\n",
    "              {:RESULT=new Integer(E1.intValue()); :}\n",
    "            | RESTA expresion:E1\n",
    "              {: RESULT=new Integer(0-E1.intValue()); :}\n",
    "%prec SIGNO;\n",
    "```"
   ]
  },
  {
   "cell_type": "markdown",
   "id": "5b83e7b8-b3c9-4cd0-9af3-757cd1dc8260",
   "metadata": {},
   "source": [
    "### ANTLR4"
   ]
  },
  {
   "cell_type": "markdown",
   "id": "db5953c0-e249-41a9-9765-c1988374815d",
   "metadata": {},
   "source": [
    "* ANother Tool for Language Recognition (\"otra herramienta para reconocimiento de lenguajes\")\n",
    "* Proporciona un framework para construir scanners y parsers a partir de una gramática\n",
    "* Se puede usar para la construcción de lenguajes, herramientas y frameworks\n",
    "* Para una gramática, puede generar un parser que construya un árbol AST (árbol de sintaxis abstracta)\n",
    "* [Sitio Web](https://tomassetti.me/antlr-mega-tutorial/)"
   ]
  },
  {
   "cell_type": "markdown",
   "id": "cb2821e9-cefd-4457-9ee1-bac310937960",
   "metadata": {},
   "source": [
    "```\n",
    "grammar Expr;\n",
    "\n",
    "prog:   (expr NEWLINE)*;\n",
    "expr:   expr ('*'|'/') expr\n",
    "    |   expr ('+'|'-') expr\n",
    "    |   INT\n",
    "    |   '(' expr ')'\n",
    "    ;\n",
    "NEWLINE : [\\r\\n]+;\n",
    "INT     : [0-9]+;\n",
    "```\n",
    "\n",
    "```\n",
    "$ antlr4 Expr.g4\n",
    "$ javac Expr*.java\n",
    "$ grun Expr prog -gui\n",
    "100+2*34\n",
    "^D\n",
    "```"
   ]
  },
  {
   "cell_type": "markdown",
   "id": "f10ba0d5-7ed8-4c44-89e2-68293298728b",
   "metadata": {},
   "source": [
    "```\n",
    "grammar Identificadores;\n",
    "\n",
    "programa: identificador;\n",
    "identificador : LETRA (LETRA | NUMERO)*;\n",
    "\n",
    "NUMERO : [0-9]+;\n",
    "LETRA : ([A-Z] | [a-z])+;\n",
    "\n",
    "WS : [ \\t\\r\\n]+ -> skip;\n",
    "```"
   ]
  },
  {
   "cell_type": "markdown",
   "id": "d76c30e4-c616-48a1-951e-0ff9a4cf796e",
   "metadata": {},
   "source": [
    "### Bison"
   ]
  },
  {
   "cell_type": "markdown",
   "id": "6baf6ac5-3f7e-4928-bab4-c1323b3534c9",
   "metadata": {},
   "source": [
    "* Es un programa generador de parsers de propósito general perteneciente al proyecto GNU\n",
    "* Se usa normalmente acompañado de flex aunque los scanners se pueden también obtener de otras formas\n",
    "* Convierte la descripción formal de un lenguaje, escrita como una GIC LALR, en un programa en C, C++, o Java que realiza parsing\n",
    "* [Sitio Web Oficial](https://www.gnu.org/software/bison/)"
   ]
  },
  {
   "cell_type": "markdown",
   "id": "e40f5e93-0c4a-4057-aee7-5d22abbacb06",
   "metadata": {},
   "source": [
    "### PLY"
   ]
  },
  {
   "cell_type": "markdown",
   "id": "94fa5b2f-29d3-4871-8890-d367403c4955",
   "metadata": {},
   "source": [
    "* Es una implementación en Python de lex y yacc, generadores de scanners y parsers respectivamente\n",
    "* Se definen los patrones de los diferentes tokens que se desean reconocer, esto se hace a través de ER\n",
    "* Se definen las producciones y acciones para formar la gramática a través de funciones"
   ]
  },
  {
   "cell_type": "code",
   "execution_count": 23,
   "id": "b30d7f7b-ec70-49a8-a8bb-2edc9a0b0f9d",
   "metadata": {},
   "outputs": [
    {
     "name": "stdout",
     "output_type": "stream",
     "text": [
      "Overwriting robot.py\n"
     ]
    }
   ],
   "source": [
    "%%file robot.py\n",
    "import ply.lex as lex\n",
    "import ply.yacc as yacc\n",
    "\n",
    "# definir tokens\n",
    "tokens = ('COMIENZA', 'NORTE', 'SUR', 'ESTE', 'OESTE', 'FIN')\n",
    "\n",
    "# definir patrones\n",
    "t_COMIENZA = r'C'\n",
    "t_NORTE    = r'N'\n",
    "t_SUR      = r'S'\n",
    "t_ESTE     = r'E'\n",
    "t_OESTE    = r'O'\n",
    "t_FIN      = r'F' \n",
    "t_ignore   = ' \\t'\n",
    "\n",
    "def t_newline(t):\n",
    "    r'\\n+'\n",
    "    t.lexer.lineno += t.value.count(\"\\n\")\n",
    "\n",
    "def t_error(t):\n",
    "    print(\"Carácter ilegal '%s'\" % t.value[0])\n",
    "    t.lexer.skip(1)\n",
    "\n",
    "# construir scanner\n",
    "lexer = lex.lex()\n",
    "\n",
    "robot = {'x': 0, 'y':0}\n",
    "\n",
    "def p_programa(t):\n",
    "    '''programa : COMIENZA instrucciones FIN \n",
    "                | COMIENZA FIN '''\n",
    "    print(robot)\n",
    "\n",
    "def p_instrucciones_lista(t):\n",
    "    '''instrucciones    : instruccion instrucciones\n",
    "                        | instruccion '''\n",
    "\n",
    "def p_instruccion_norte(t):\n",
    "    'instruccion : NORTE'\n",
    "    robot['y'] += 1\n",
    "\n",
    "def p_instruccion_sur(t):\n",
    "    'instruccion : SUR'\n",
    "    robot['y'] -= 1\n",
    "\n",
    "def p_instruccion_este(t):\n",
    "    'instruccion : ESTE'\n",
    "    robot['x'] += 1\n",
    "\n",
    "def p_instruccion_oeste(t):\n",
    "    'instruccion : OESTE'\n",
    "    robot['x'] -= 1\n",
    "    \n",
    "def p_error(t):\n",
    "    print(\"Error sintáctico en '%s'\" % t.value)\n",
    "\n",
    "parser = yacc.yacc()\n",
    "parser.parse('CSNNSOOONF')"
   ]
  },
  {
   "cell_type": "code",
   "execution_count": 24,
   "id": "cb4c7606-b535-4ae6-8385-14d6ba4ecb12",
   "metadata": {},
   "outputs": [
    {
     "name": "stdout",
     "output_type": "stream",
     "text": [
      "{'x': -3, 'y': 1}\n"
     ]
    }
   ],
   "source": [
    "!python robot.py"
   ]
  },
  {
   "cell_type": "markdown",
   "id": "c143df16-c5b9-452d-92b6-248b7526a1d7",
   "metadata": {},
   "source": [
    "### PetitParser"
   ]
  },
  {
   "cell_type": "markdown",
   "id": "162fe893-f2f2-4816-9fd9-f45e9d28029c",
   "metadata": {},
   "source": [
    "* Es un framework para construir parsers:\n",
    "* Permite crear parsers eficientes en diferentes lenguajes de programación: C#, Clojure, Dart, Java, Kotlin, PHP, Python, Smalltalk, Swift y TypeScript\n",
    "* [Sitio Web](https://petitparser.github.io/)"
   ]
  },
  {
   "cell_type": "code",
   "execution_count": 10,
   "id": "df2dea71-806c-4c87-931a-35ce13ec1367",
   "metadata": {},
   "outputs": [
    {
     "name": "stdout",
     "output_type": "stream",
     "text": [
      "['y', ['e', 'a', 'h']]\n",
      "['f', ['1', '2']]\n",
      "letter expected\n",
      "0\n",
      "True\n",
      "False\n"
     ]
    }
   ],
   "source": [
    "from petitparser import character as c\n",
    "\n",
    "ident = c.letter() & (c.letter() | c.digit()).star()\n",
    "\n",
    "# Análisis de cadenas:\n",
    "id1 = ident.parse('yeah')\n",
    "print(id1.value) # ['y', ['e', 'a', 'h']]\n",
    "\n",
    "id2 = ident.parse('f12')\n",
    "print(id2.value) # ['f', ['1', '2']]\n",
    "\n",
    "id3 = ident.parse('123')\n",
    "print(id3.message)  # letter expected\n",
    "print(id3.position) # 0\n",
    "\n",
    "print(ident.accept('foo')) # True\n",
    "print(ident.accept('123')) # False"
   ]
  }
 ],
 "metadata": {
  "kernelspec": {
   "display_name": "Python [conda env:base] *",
   "language": "python",
   "name": "conda-base-py"
  },
  "language_info": {
   "codemirror_mode": {
    "name": "ipython",
    "version": 3
   },
   "file_extension": ".py",
   "mimetype": "text/x-python",
   "name": "python",
   "nbconvert_exporter": "python",
   "pygments_lexer": "ipython3",
   "version": "3.12.7"
  }
 },
 "nbformat": 4,
 "nbformat_minor": 5
}
