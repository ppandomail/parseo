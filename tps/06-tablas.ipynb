{
 "cells": [
  {
   "cell_type": "markdown",
   "id": "1b56521f-2815-4ec5-b140-c58f255dc180",
   "metadata": {},
   "source": [
    "# TP Tablas de Tipos y Símbolos\n",
    "---"
   ]
  },
  {
   "cell_type": "markdown",
   "id": "ab186949-b240-4437-b71f-50e64aeecb58",
   "metadata": {},
   "source": [
    "Dado el siguiente programa en un sublenguaje de Pascal:\n",
    "* Suponer que este sublenguaje tiene dos tipos predefinidos: integer y boolean\n",
    "* Suponer que es sensible a las mayúsculas\n",
    "* Mostrar el estado de la tabla de tipos y de símbolos tras procesar cada una de las líneas\n",
    "\n",
    "```pascal\n",
    "1: program p;\n",
    "2: \n",
    "3:  type vector = array[0..7] of integer;\n",
    "4:  var x : integer;   v : vector;\n",
    "5: \n",
    "6:  function factorial (x: integer): integer\n",
    "7:    var y, z : integer;\n",
    "8:   begin\n",
    "9:    y := 1;\n",
    "10:   for z := 1 to x do y := y * z;\n",
    "11:   factorial := y;\n",
    "12:  end;\n",
    "13: \n",
    "14:  function suma (v: vector; k: integer): vector\n",
    "15:   type vect = array[1..8] of integer;\n",
    "16:   var x: integer;   v1: vect;\n",
    "17:  begin\n",
    "18:   for x := 0 to k do v1[x+1] := v[x];\n",
    "19:   suma := v1;\n",
    "20:  end;\n",
    "21: \n",
    "22: begin\n",
    "23:   x := 5:\n",
    "24:   x := factorial(x);\n",
    "25:   for x := 0 to 7 do v[x] := x;\n",
    "26:   v := suma(v, x);\n",
    "27: end.\n",
    "```"
   ]
  },
  {
   "cell_type": "markdown",
   "id": "223b28ed-3c52-4ae0-9627-61cead4268c5",
   "metadata": {},
   "source": [
    "* TT\n",
    "\n",
    "| Linea PRG | Cod | Nombre  | TipoBase | Padre | Dimensión | Mínimo | Máximo | Ámbito | Observaciones    |\n",
    "| --        | --  | --      | --       | --    | --        | --     | --     | --     | --               |\n",
    "| L1        | 0   | integer | -1       | -1    | 1         | -1     | -1     | 0      | primitivo        |\n",
    "| L1        | 1   | boolean | -1       | -1    | 1         | -1     | -1     | 0      | primitivo        |\n",
    "| L3        | 2   | vector  | 0        | -1    | 8         | 0      | 7      | 0      |                  |\n",
    "| L15       | 3   | vect    | 0        | -1    | 8         | 1      | 8      | 1      |                  |\n",
    "| L20       |     |         |          |       |           |        |        |        | Se elimina Cod 3 |"
   ]
  },
  {
   "cell_type": "markdown",
   "id": "8d5e5ff2-6389-4ee4-8c9b-2f352aa23f83",
   "metadata": {},
   "source": [
    "* TS\n",
    "\n",
    "| Linea PRG | Cod | Nombre    | Categoria | Tipo | NumPar | ListaPar | Ámbito | Obervaciones                  |\n",
    "| --        | --  | --        | --        | --   | --     | --       | --     | --                            |\n",
    "| L4        | 0   | x         | variable  | 0    | -1     | null     | 0      |                               |\n",
    "| L4        | 1   | v         | variable  | 2    | -1     | null     | 0      |                               |\n",
    "| L6        | 2   | factorial | función   | 0    | 1      | [0]      | 0      | [0] referencia a Cod de TS    |\n",
    "| L6        | 3   | x         | parámetro | 0    | -1     | null     | 1      |                               |\n",
    "| L7        | 4   | y         | variable  | 0    | -1     | null     | 1      |                               |\n",
    "| L7        | 5   | z         | variable  | 0    | -1     | null     | 1      |                               |\n",
    "| L12       |     |           |           |      |        |          |        | Se elimina Cod 3, 4 y 5       |\n",
    "| L14       | 3   | suma      | función   | 2    | 2      | [2,0]    | 0      |                               |\n",
    "| L14       | 4   | v         | parámetro | 2    | -1     | null     | 1      |                               |\n",
    "| L14       | 5   | k         | parámetro | 0    | -1     | null     | 1      |                               |\n",
    "| L16       | 6   | x         | variable  | 0    | -1     | null     | 1      |                               |\n",
    "| L16       | 7   | v1        | variable  | 3    | -1     | null     | 1      |                               |\n",
    "| L20       |     |           |           |      |        |          |        | Se elimina Cod 3, 4, 5, 6 y 7 |\n",
    "| L27       |     |           |           |      |        |          |        | Se eliminan todas las lineas  |"
   ]
  }
 ],
 "metadata": {
  "kernelspec": {
   "display_name": "Python [conda env:base] *",
   "language": "python",
   "name": "conda-base-py"
  },
  "language_info": {
   "codemirror_mode": {
    "name": "ipython",
    "version": 3
   },
   "file_extension": ".py",
   "mimetype": "text/x-python",
   "name": "python",
   "nbconvert_exporter": "python",
   "pygments_lexer": "ipython3",
   "version": "3.12.7"
  }
 },
 "nbformat": 4,
 "nbformat_minor": 5
}
