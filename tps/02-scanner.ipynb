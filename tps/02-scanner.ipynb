{
 "cells": [
  {
   "cell_type": "markdown",
   "id": "bcf83222-bd2b-41dd-8927-c969a5aaa164",
   "metadata": {},
   "source": [
    "# TP Scanner\n",
    "---"
   ]
  },
  {
   "cell_type": "markdown",
   "id": "eb426247-d9b0-40d6-8ff0-8c53025a9abc",
   "metadata": {},
   "source": [
    "## DTs"
   ]
  },
  {
   "cell_type": "markdown",
   "id": "f4b0a9ce-a17f-4639-99fa-ca993642d981",
   "metadata": {},
   "source": [
    "Diseñar un DT para reconocer los siguientes componentes léxicos:\n",
    "* LETRAS: cualquier secuencia de una o más letras\n",
    "* ENTERO: cualquier secuencia de uno o más números (si tiene más de un número no deberá comenzar por 0)\n",
    "* ASIGNAR: la secuencia =\n",
    "* SUMAR: la secuencia +\n",
    "* RESTAR: la secuencia -\n",
    "* IMPRIMIR: la palabra reservada print"
   ]
  },
  {
   "cell_type": "markdown",
   "id": "e673745e-185b-4082-a00a-d622e193eaab",
   "metadata": {},
   "source": [
    "![DT eje1](img/dt-ej1.jpg)"
   ]
  },
  {
   "cell_type": "markdown",
   "id": "029369f2-2cb4-4371-8738-86ac1186a06c",
   "metadata": {},
   "source": [
    "| Q | + | - | = | 0 | 1-9 | p | r | i | n | t | Otras | Token | Retroceso |\n",
    "| -- | -- | -- | -- | -- | -- | -- | -- | -- | -- | -- | -- | -- | -- |\n",
    "| 0 | 1 | 2 | 3 | error | 4 | 8 | 6 | 6 | 6 | 6 | 6 | - | - |\n",
    "| 1 | - | - | - | - | - | - | - | - |- | - | - | SUMAR | 0 |\n",
    "| 2 | - | - | - | - | - | - | - | - |- | - | - | RESTAR | 0 |\n",
    "| 3 | - | - | - | - | - | - | - | - |- | - | - | ASIGNAR | 0 |\n",
    "| 4 | 5 | 5 | 5 | 4 | 4 | 5 | 5 | 5 | 5 | 5 | 5 | - | - |\n",
    "| 5 | - | - | - | - | - | - | - | - | - | - | - | ENTERO | 1 |\n",
    "| 6 | 7 | 7 | 7 | 7 | 7 | 6 | 6 | 6 | 6 | 6 | 6 | - | - |\n",
    "| 7 | - | - | - | - | - | - | - | - | - | - | - | LETRAS | 1 |\n",
    "| 8 | 13 | 13 | 13 | 13 | 13 | 6 | 9 | 6 | 6 | 6 | 6 | - | - |\n",
    "| 9 | 13 | 13 | 13 | 13 | 13 | 6 | 6 | 10 | 6 | 6 | 6 | - | - |\n",
    "| 10 | 13 | 13 | 13 | 13 | 13 | 6 | 6 | 6 | 11 | 6 | 6 | - | - |\n",
    "| 11 | 13 | 13 | 13 | 13 | 13 | 6 | 6 | 6 | 6 | 12 | 6 | - | - |\n",
    "| 12 | - | - | - | - | - | - | - | - | - | - | - | IMPRIMIR | 0 |\n",
    "| 13 | - | - | - | - | - | - | - | - | - | - | - | LETRAS | 1 |"
   ]
  },
  {
   "cell_type": "markdown",
   "id": "0a7b2233-12a1-4d64-b453-0b9b0c5f598f",
   "metadata": {},
   "source": [
    "Para el lenguaje generado por la expresión regular  $(a \\mid b)^* abb$\n",
    "1. Crear el DT\n",
    "1. Generar la tabla de transiciones\n",
    "1. Escribir un programa en Python para implementar la tabla"
   ]
  },
  {
   "cell_type": "markdown",
   "id": "3acbaca5-501b-4253-b793-a87cdfdbee9b",
   "metadata": {},
   "source": [
    "![DT eje2](img/dt-ej2.jpg)"
   ]
  },
  {
   "cell_type": "markdown",
   "id": "a32ea41a-efa4-449e-b835-59faf6809fdb",
   "metadata": {},
   "source": [
    "| Q | a | b | Token | Retroceso |\n",
    "| -- | -- | -- | -- | -- |\n",
    "| 0 | 1 | 4 | - | - |\n",
    "| 1 | 1 | 2 | - | - |\n",
    "| 2 | 1 | 3 | - | - |\n",
    "| 3 | - | - | accept | 0|\n",
    "| 4 | 1 | 4 | - | - |"
   ]
  },
  {
   "cell_type": "code",
   "execution_count": 23,
   "id": "cd98a858-64de-402c-a976-a8d72dc46325",
   "metadata": {},
   "outputs": [],
   "source": [
    "class Lexer: \n",
    "\n",
    "    ERROR = -1;\n",
    "    ACEPTAR = 0;\n",
    "    \n",
    "    def __init__(self, palabra): \n",
    "        self.palabra = palabra\n",
    "        self.cursor = -1\n",
    "    \n",
    "    def getCaracter(self):\n",
    "        if (self.cursor + 1) < len(self.palabra):\n",
    "            self.cursor += 1  \n",
    "            return self.palabra[self.cursor]\n",
    "        return '*'\n",
    "\n",
    "    def q0(self):\n",
    "        c = self.getCaracter()\n",
    "        if c == 'a':\n",
    "            return self.q1()\n",
    "        if c == 'b':\n",
    "            return self.q4()\n",
    "        return self.ERROR\n",
    "        \n",
    "    def q1(self):\n",
    "        c = self.getCaracter()\n",
    "        if c == 'a':\n",
    "            return self.q1()\n",
    "        if c == 'b':\n",
    "            return self.q2()\n",
    "        return self.ERROR\n",
    "\n",
    "    def q2(self):\n",
    "        c = self.getCaracter()\n",
    "        if c == 'a':\n",
    "            return self.q1()\n",
    "        if c == 'b':\n",
    "            return self.q3()\n",
    "        return self.ERROR\n",
    "\n",
    "    def q3(self):\n",
    "        return self.ACEPTAR;\n",
    "      \n",
    "    def q4(self):\n",
    "        c = self.getCaracter()\n",
    "        if  c == 'a':\n",
    "            return self.q1()\n",
    "        if c == 'b':\n",
    "            return self.q4()\n",
    "        return self.ERROR"
   ]
  },
  {
   "cell_type": "code",
   "execution_count": 24,
   "id": "b0869f83-d602-4bda-b1a5-198601de8cfe",
   "metadata": {},
   "outputs": [
    {
     "data": {
      "text/plain": [
       "0"
      ]
     },
     "execution_count": 24,
     "metadata": {},
     "output_type": "execute_result"
    }
   ],
   "source": [
    "Lexer('abb').q0()"
   ]
  },
  {
   "cell_type": "code",
   "execution_count": 25,
   "id": "0570e20f-979c-4c6d-8fcd-c3aebd429ddc",
   "metadata": {},
   "outputs": [
    {
     "data": {
      "text/plain": [
       "0"
      ]
     },
     "execution_count": 25,
     "metadata": {},
     "output_type": "execute_result"
    }
   ],
   "source": [
    "Lexer('aabb').q0()"
   ]
  },
  {
   "cell_type": "code",
   "execution_count": 26,
   "id": "a024b280-bc3c-4f15-b84d-f77c016e8b8d",
   "metadata": {},
   "outputs": [
    {
     "data": {
      "text/plain": [
       "0"
      ]
     },
     "execution_count": 26,
     "metadata": {},
     "output_type": "execute_result"
    }
   ],
   "source": [
    "Lexer('babb').q0()"
   ]
  },
  {
   "cell_type": "code",
   "execution_count": 27,
   "id": "8e21a163-8ec7-487c-ae05-625efe712257",
   "metadata": {},
   "outputs": [
    {
     "data": {
      "text/plain": [
       "0"
      ]
     },
     "execution_count": 27,
     "metadata": {},
     "output_type": "execute_result"
    }
   ],
   "source": [
    "Lexer('ababb').q0()"
   ]
  },
  {
   "cell_type": "code",
   "execution_count": 28,
   "id": "afb3462e-bbc8-4356-93ba-a91560bff2be",
   "metadata": {},
   "outputs": [
    {
     "data": {
      "text/plain": [
       "-1"
      ]
     },
     "execution_count": 28,
     "metadata": {},
     "output_type": "execute_result"
    }
   ],
   "source": [
    "Lexer('bb').q0()"
   ]
  },
  {
   "cell_type": "markdown",
   "id": "07123bee-b44c-4244-a774-0aba08d5f72a",
   "metadata": {},
   "source": [
    "## Escribir un Scanner que ..."
   ]
  },
  {
   "cell_type": "markdown",
   "id": "0ed6cf50-2de9-4d96-9fd1-5e0f9ecb4702",
   "metadata": {},
   "source": [
    "Sustituya las apariciones de un número par escrito en notación binaria por la cadena \"BINARIO_PAR\""
   ]
  },
  {
   "cell_type": "code",
   "execution_count": null,
   "id": "863b9dd6-c976-461a-96de-79fc9ebd5b19",
   "metadata": {},
   "outputs": [],
   "source": []
  },
  {
   "cell_type": "markdown",
   "id": "462d49e2-5714-4453-b00d-22bb0e87aa1c",
   "metadata": {},
   "source": [
    "Sustituya las cadenas casa, camisa y carcasa que figuran en un texto por la cadena \"CA_SA\""
   ]
  },
  {
   "cell_type": "code",
   "execution_count": null,
   "id": "d7fdbcd8-e881-4f6d-9877-30eda2f19e2a",
   "metadata": {},
   "outputs": [],
   "source": []
  },
  {
   "cell_type": "markdown",
   "id": "02e0f316-60e5-4f19-af4b-5b0c007d898d",
   "metadata": {},
   "source": [
    "Reduzca a un único espacio en blanco todas las secuencias de espacios en blanco y tabuladores de un texto"
   ]
  },
  {
   "cell_type": "code",
   "execution_count": null,
   "id": "1aa90f77-3930-475a-817d-0dc5cf4a3a75",
   "metadata": {},
   "outputs": [],
   "source": []
  },
  {
   "cell_type": "markdown",
   "id": "cfc567e5-4d56-46d7-9774-f8c5e680ec09",
   "metadata": {},
   "source": [
    "Suprima los comentarios de línea de un texto (desde un # hasta el fin de la línea)"
   ]
  },
  {
   "cell_type": "code",
   "execution_count": null,
   "id": "3c25ce67-99af-41c6-a153-38818ecd26a5",
   "metadata": {},
   "outputs": [],
   "source": []
  },
  {
   "cell_type": "markdown",
   "id": "e42c16d0-03a9-4bff-a404-b5074b6ba7a4",
   "metadata": {},
   "source": [
    "Inserte un * delante y detrás de cada carácter + que figura en un texto"
   ]
  },
  {
   "cell_type": "code",
   "execution_count": null,
   "id": "ef57148e-1464-446d-a9d7-4e95d018b193",
   "metadata": {},
   "outputs": [],
   "source": []
  },
  {
   "cell_type": "markdown",
   "id": "f4a219dd-93a4-4211-86bb-d28251f8c73c",
   "metadata": {},
   "source": [
    "Enmarque entre corchetes el carácter que precede a cada uno de los puntos que figuran en un texto"
   ]
  },
  {
   "cell_type": "code",
   "execution_count": null,
   "id": "b7edf45d-46bf-4e6f-89d1-e44a0b1640cd",
   "metadata": {},
   "outputs": [],
   "source": []
  },
  {
   "cell_type": "markdown",
   "id": "f04d6775-d1c5-4c6e-b337-193f60fe5339",
   "metadata": {},
   "source": [
    "Sustituya las apariciones de un número de la semana (de 1 a 7) por su correspondiente nombre de día"
   ]
  },
  {
   "cell_type": "code",
   "execution_count": null,
   "id": "a3a6debb-25d0-4f41-ac07-2ef4ec06306a",
   "metadata": {},
   "outputs": [],
   "source": []
  },
  {
   "cell_type": "markdown",
   "id": "57d8d80d-d854-49ff-aad2-92da4afabdc0",
   "metadata": {},
   "source": [
    "Sustituya los operadores de suma +, resta -, producto * y división / y potencia ^ por la cadena \"OPERADOR“"
   ]
  },
  {
   "cell_type": "code",
   "execution_count": null,
   "id": "7cb42dce-92ff-43d2-9e05-b285107ab370",
   "metadata": {},
   "outputs": [],
   "source": []
  },
  {
   "cell_type": "markdown",
   "id": "80e78fdc-60cd-4a5e-b6d4-c8682a2d6355",
   "metadata": {},
   "source": [
    "Sustituya las apariciones de un número escrito en base hexadecimal por la cadena \"HEXADECIMAL\""
   ]
  },
  {
   "cell_type": "code",
   "execution_count": null,
   "id": "1a240148-2ad1-4ab9-a36b-3fb809ab8ad9",
   "metadata": {},
   "outputs": [],
   "source": []
  },
  {
   "cell_type": "markdown",
   "id": "7c2c5dd5-591e-4a21-aa63-7fe0982aa55b",
   "metadata": {},
   "source": [
    "Escriba en mayúsculas todas las palabras de un texto que comienzan por mayúsculas. (Considere que una palabra es una secuencia constituida por letras minúsculas o mayúsculas)"
   ]
  },
  {
   "cell_type": "code",
   "execution_count": null,
   "id": "4cf5b2a2-81ac-4856-82ab-76a96caa80c3",
   "metadata": {},
   "outputs": [],
   "source": []
  },
  {
   "cell_type": "markdown",
   "id": "da02148a-c6a3-4a13-b019-ed60516f0ec4",
   "metadata": {},
   "source": [
    "Sustituya todas las cadenas de un texto por el contenido de la cadena sin las comillas (Por ejemplo: \"hola\" sería sustituido por hola). Se define como cadena cualquier texto enmarcado entre comillas dobles con la condición de que en su contenido no figuran ni comillas dobles ni saltos de línea"
   ]
  },
  {
   "cell_type": "code",
   "execution_count": null,
   "id": "8610edd4-1704-4890-b262-47781982311f",
   "metadata": {},
   "outputs": [],
   "source": []
  },
  {
   "cell_type": "markdown",
   "id": "94fc667e-84dd-409d-819a-e1bc4220a07e",
   "metadata": {},
   "source": [
    "Sustituya las apariciones de número reales en notación científica por la cadena \"REAL\". Se admiten como cadenas (lexemas): -3.4 .4 3.E10 .6e-2. No se admiten las siguientes: 45 4.6E"
   ]
  },
  {
   "cell_type": "code",
   "execution_count": null,
   "id": "ac88f236-b820-43c7-8435-689305a1f4e7",
   "metadata": {},
   "outputs": [],
   "source": []
  },
  {
   "cell_type": "markdown",
   "id": "2b452510-8bb8-4e30-b2a2-b2799f7f2517",
   "metadata": {},
   "source": [
    "Sustituya las expresiones horarias que encajan o bien con el patrón HH:MM o bien con el patrón H:MM por la cadena \"HORA\". Tenga en cuenta que las horas deben ser correctas. Por ejemplo: 29:80 no sería una hora correcta"
   ]
  },
  {
   "cell_type": "code",
   "execution_count": null,
   "id": "07709a89-9f8b-44ce-a292-8b7ce835528e",
   "metadata": {},
   "outputs": [],
   "source": []
  },
  {
   "cell_type": "markdown",
   "id": "aa88a82a-99bf-4fae-8be8-40aa72f0c4ea",
   "metadata": {},
   "source": [
    "Sustituya las palabras de un texto que empiezan por minúsculas por la cadena MINÚSCULA y las palabras que empiecen por mayúsculas por la cadena MAYÚSCULA"
   ]
  },
  {
   "cell_type": "code",
   "execution_count": null,
   "id": "935ba5ff-bc65-4b9a-a11f-e09a9d2ba90d",
   "metadata": {},
   "outputs": [],
   "source": []
  },
  {
   "cell_type": "markdown",
   "id": "525fd089-aa2e-4961-b1d9-2a229453c2ac",
   "metadata": {},
   "source": [
    "Para representar fechas existen dos formatos: el americano (AAAA/DD/MM) y el europeo (DD/MM/AAAA). Escribir un scanner que imprima todas las fechas de un texto que se ajusten a uno de dichos formatos indicando además qué formato fue usado (Ignore la problemática relacionada con los años bisiestos)"
   ]
  },
  {
   "cell_type": "code",
   "execution_count": null,
   "id": "057ba89c-030a-459e-b175-f091e469985d",
   "metadata": {},
   "outputs": [],
   "source": []
  },
  {
   "cell_type": "markdown",
   "id": "a0a761d0-9e1d-41f3-b0de-eaa2bb528305",
   "metadata": {},
   "source": [
    "Sustituya cada identificador de un texto por la cadena IDENT salvo que el identificador sea una de las palabras reservadas: If, Then o Else. En este último caso deberá imprimirse respectivamente las cadenas IF, THEN y ELSE. Las anteriores palabras reservadas no son sensibles a la capitalización, es decir, podrán aparecer mezcladas arbitrariamente letras minúsculas y mayúsculas. Por ejemplo, para la palabra reservada Else se admiten también las formas ELSe o eLsE"
   ]
  },
  {
   "cell_type": "code",
   "execution_count": null,
   "id": "24bf7a13-4dd5-455d-ad89-9eab324cb372",
   "metadata": {},
   "outputs": [],
   "source": []
  },
  {
   "cell_type": "markdown",
   "id": "2db7423e-14ba-4bc4-a1fb-0dafc10f7ee4",
   "metadata": {},
   "source": [
    "Distinga entre los siguientes tipos de números: entero (INT) entero largo (LONG) y real (FLOAT). Los enteros largos son enteros terminados con una letra l mayúscula o minúscula. Los reales deben incluir de forma obligatoria parte entera y parte decimal separadas por un punto"
   ]
  },
  {
   "cell_type": "code",
   "execution_count": null,
   "id": "861eeca7-1c2a-4d82-9e7c-9842fa794f5f",
   "metadata": {},
   "outputs": [],
   "source": []
  },
  {
   "cell_type": "markdown",
   "id": "6b835ffa-a78b-4eac-a291-44e4f8433ba3",
   "metadata": {},
   "source": [
    "Reconozca \"Identificadores de cualquier longitud que comience con a y contenga a, b o c. No pueden terminar con c y además no pueden contener dos c seguidas\""
   ]
  },
  {
   "cell_type": "code",
   "execution_count": null,
   "id": "5c46e889-61c9-442a-bc14-366e10bd8bcd",
   "metadata": {},
   "outputs": [],
   "source": []
  },
  {
   "cell_type": "markdown",
   "id": "365ab39f-6590-474b-88cb-c68e7147d805",
   "metadata": {},
   "source": [
    "Reconozca \"Identificadores sobre el alfabeto {a,b,c} que tienen por lo menos tres letras\""
   ]
  },
  {
   "cell_type": "code",
   "execution_count": null,
   "id": "086622da-73a3-4ec3-bcc0-8e7744a44bf1",
   "metadata": {},
   "outputs": [],
   "source": []
  },
  {
   "cell_type": "markdown",
   "id": "c2e193f3-0e95-4752-afe6-80c5a0f01ced",
   "metadata": {},
   "source": [
    "Reconozca \"Identificadores sobre el alfabeto {%, &} cuyas palabras verificar las siguientes restricciones: 1- Si una palabra tiene menos de cinco &, entonces tiene un número par de &. 2- Si una palabra tiene cinco & o más, entonces contiene un número impar de &. 3- Cualquier palabra contiene al menos un &\""
   ]
  },
  {
   "cell_type": "code",
   "execution_count": null,
   "id": "9072b84b-4328-4c0b-bebc-3db296f09a0b",
   "metadata": {},
   "outputs": [],
   "source": []
  },
  {
   "cell_type": "markdown",
   "id": "a478a5fd-8f9a-4c90-b86b-739219af8f9d",
   "metadata": {},
   "source": [
    "Reconozca \"Una cadena comando es el nombre del comando seguido de uno o más espacios en blanco, y a continuación una lista de parámetros que puede ser vacía. Un comando es una secuencia no vacía de cadenas comando separadas por un delimitador. Un delimitador es un elemento del conjunto {. , ;}. Un nombre comienza con una letra y sigue con cero o más letras o dígitos. La lista de parámetros es una secuencia de uno o más nombres separados por uno o más espacios en blanco\""
   ]
  },
  {
   "cell_type": "code",
   "execution_count": null,
   "id": "8ed2742c-c1be-4143-851d-913b42b498d9",
   "metadata": {},
   "outputs": [],
   "source": []
  }
 ],
 "metadata": {
  "kernelspec": {
   "display_name": "Python [conda env:base] *",
   "language": "python",
   "name": "conda-base-py"
  },
  "language_info": {
   "codemirror_mode": {
    "name": "ipython",
    "version": 3
   },
   "file_extension": ".py",
   "mimetype": "text/x-python",
   "name": "python",
   "nbconvert_exporter": "python",
   "pygments_lexer": "ipython3",
   "version": "3.12.7"
  }
 },
 "nbformat": 4,
 "nbformat_minor": 5
}
