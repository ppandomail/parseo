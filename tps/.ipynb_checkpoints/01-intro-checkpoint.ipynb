{
 "cells": [
  {
   "cell_type": "markdown",
   "id": "339b73b3-3b1c-4557-b285-de10177f9ece",
   "metadata": {},
   "source": [
    "# TP Introducción\n",
    "---"
   ]
  },
  {
   "cell_type": "markdown",
   "id": "724e08c5-5e77-4a0e-9202-4da97c865066",
   "metadata": {},
   "source": [
    "## Mapa conceptual"
   ]
  },
  {
   "cell_type": "code",
   "execution_count": null,
   "id": "be8ee74b-c406-4cd5-ae30-f1e703db5fb0",
   "metadata": {},
   "outputs": [],
   "source": [
    "\n",
    "\n",
    "\n",
    "\n",
    "\n"
   ]
  },
  {
   "cell_type": "markdown",
   "id": "14578311-401c-4d2a-b6ab-74d488448a12",
   "metadata": {},
   "source": [
    "## Lenguaje a crear"
   ]
  },
  {
   "cell_type": "markdown",
   "id": "3cbd96bc-7509-4909-9ffc-30f12a9433a1",
   "metadata": {},
   "source": [
    "### Objetivo"
   ]
  },
  {
   "cell_type": "code",
   "execution_count": null,
   "id": "dd6e006d-3615-44d4-a3cf-bc6bbb948461",
   "metadata": {},
   "outputs": [],
   "source": []
  },
  {
   "cell_type": "markdown",
   "id": "72e244b4-a7b5-44ff-9c81-f2de96871542",
   "metadata": {},
   "source": [
    "### Alcance"
   ]
  },
  {
   "cell_type": "code",
   "execution_count": null,
   "id": "bf619b67-00ea-4ad3-b2e5-9a743da248c3",
   "metadata": {},
   "outputs": [],
   "source": []
  },
  {
   "cell_type": "markdown",
   "id": "aa8516b2-701f-4afe-aafc-5a2acfda3df6",
   "metadata": {},
   "source": [
    "### Especificaciones léxicas"
   ]
  },
  {
   "cell_type": "code",
   "execution_count": null,
   "id": "935c8a41-027b-4d53-ba65-37954e2be427",
   "metadata": {},
   "outputs": [],
   "source": []
  },
  {
   "cell_type": "markdown",
   "id": "a3034dce-4b36-4e2c-b264-d2e388087546",
   "metadata": {},
   "source": [
    "### Especificaciones sintácticas"
   ]
  },
  {
   "cell_type": "code",
   "execution_count": null,
   "id": "f5fabb53-5075-4d70-ab58-eb4cac5639ae",
   "metadata": {},
   "outputs": [],
   "source": []
  },
  {
   "cell_type": "markdown",
   "id": "cdbe9002-6fba-404a-89d2-90d55294b58e",
   "metadata": {},
   "source": [
    "### Especificaciones semánticas"
   ]
  },
  {
   "cell_type": "code",
   "execution_count": null,
   "id": "daf2f5f8-c636-48f8-8749-a94750132377",
   "metadata": {},
   "outputs": [],
   "source": []
  }
 ],
 "metadata": {
  "kernelspec": {
   "display_name": "Python [conda env:base] *",
   "language": "python",
   "name": "conda-base-py"
  },
  "language_info": {
   "codemirror_mode": {
    "name": "ipython",
    "version": 3
   },
   "file_extension": ".py",
   "mimetype": "text/x-python",
   "name": "python",
   "nbconvert_exporter": "python",
   "pygments_lexer": "ipython3",
   "version": "3.12.7"
  }
 },
 "nbformat": 4,
 "nbformat_minor": 5
}
