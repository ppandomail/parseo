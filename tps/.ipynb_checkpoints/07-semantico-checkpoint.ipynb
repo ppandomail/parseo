{
 "cells": [
  {
   "cell_type": "markdown",
   "id": "93189a03-b398-48a7-b137-b710c45203d8",
   "metadata": {},
   "source": [
    "# TP Semántico\n",
    "---"
   ]
  },
  {
   "cell_type": "markdown",
   "id": "39cf1189-f884-4613-ae71-109056ed750a",
   "metadata": {},
   "source": [
    "Construir un ETDS para traducir declaraciones de variables en Modula 2 a C. La gramática en Modula 2 sería:\n",
    "\n",
    "$S \\rightarrow VAR \\, id \\, : \\, T \\, ;$\n",
    "\n",
    "$T \\rightarrow ARRAY \\, [num..num] \\, OF \\, T \\mid REAL \\mid INTEGER \\mid CHAR$\n",
    "\n",
    "\n",
    "* Por ejemplo, se debería traducir:\n",
    "\n",
    "| Modula 2                                  | C              |\n",
    "| --                                        | --             |\n",
    "| VAR x:INTEGER;                            | int x;         |\n",
    "| VAR y:ARRAY[1..5] OF REAL;                | float y[4];    |\n",
    "| VAR z:ARRAY[0..3] OF ARRAY[0..6] OF CHAR; | char z\\[3][6]; |\n",
    "\n",
    "* Suponer que el lexema del terminal num es un número natural. Utilizar como lenguaje de apoyo Java"
   ]
  },
  {
   "cell_type": "markdown",
   "id": "d33c4880-16b8-47a8-b49a-f3fbec746e08",
   "metadata": {},
   "source": [
    "```grammar\n",
    "S ::= VAR id : T ;\n",
    "      {: if (T.array == null) {\n",
    "            S.trad = T.tipo + id.lexema + \";\";\n",
    "          } else {\n",
    "            S.trad = T.tipo + id.lexema + T.array + \";\";\n",
    "          }\n",
    "      :}\n",
    "T ::= ARRAY [num .. num1] OF T1\n",
    "      {:  T.tipo = T1.tipo;\n",
    "          int valor = (new Integer(num.lexema)).intValue;\n",
    "          int valor1 = (new Integer(num1.lexema)).intValue; \n",
    "          int indice = valor1 – valor;\n",
    "          if (T1.array == null) {\n",
    "            T.array = \"[\" + String.valueOf(indice) + \"]\";\n",
    "          } else {\n",
    "            T.array = \"[\" + String.valueOf(indice) + \"]\" + T1.array;\n",
    "          }\n",
    "      :}\n",
    "T ::= REAL\n",
    "      {:  T.array = null;\n",
    "          T.tipo = \"float\";\n",
    "      :}\n",
    "    | INTEGER\n",
    "      {:  T.array = null;\n",
    "          T.tipo = \"int\";\n",
    "      :}\n",
    "    | CHAR\n",
    "      {:  T.array = null;\n",
    "          T.tipo = \"char\";\n",
    "      :}\n",
    "```"
   ]
  },
  {
   "cell_type": "markdown",
   "id": "ab97d6a1-72a5-45ba-a4c2-5ae2e1889ff4",
   "metadata": {},
   "source": [
    "Realizar un esquema de traducción para comprobar los tipos en las expresiones de un sublenguaje del tipo Pascal. Las reglas para las expresiones son:\n",
    "\n",
    "$E \\rightarrow E1 + E2;$\n",
    "\n",
    "$E \\rightarrow E1 * E2;$\n",
    "\n",
    "$E \\rightarrow (E1)$\n",
    "\n",
    "$E \\rightarrow num \\mid id$\n",
    "\n",
    "* Suponer que **num** es del tipo entero (integer) e **id** es el identificador de una variable que está en la tabla de símbolos (junto a la información de su tipo)"
   ]
  },
  {
   "cell_type": "markdown",
   "id": "89060dda-adeb-4243-8793-f90ffaaee732",
   "metadata": {},
   "source": [
    "```grammar\n",
    "E ::= E1 + E2 ;\n",
    "      {:  if (E1.tipo == E2.tipo) {\n",
    "            E.tipo = E1.tipo;\n",
    "          } else {\n",
    "            ErrorSemantico(\"Tipos incompatibles en la suma\");\n",
    "          }\n",
    "      :}\n",
    "E ::= E1 * E2 ;\n",
    "      {:  if (E1.tipo == E2.tipo) {\n",
    "            E.tipo = E1.tipo;\n",
    "          } else {\n",
    "            ErrorSemantico(\"Tipos incompatibles en producto\");\n",
    "          }\n",
    "      :}\n",
    "E ::= ( E1 )\n",
    "      {:  E.tipo = E1.tipo; :}\n",
    "E ::= num\n",
    "      {:  E.tipo = \"integer\"; :}\n",
    "E ::= id\n",
    "      {:  E.tipo = id.tipo; :}\n",
    "```"
   ]
  },
  {
   "cell_type": "markdown",
   "id": "9611a474-0f05-47b7-aab8-0f7642b0db97",
   "metadata": {},
   "source": [
    "Utilizar la información del ejercicio anterior y comprobar que las sentencias son válidas semánticamente hablando:\n",
    "\n",
    "$S \\rightarrow id \\, := \\, E$\n",
    "\n",
    "$S \\rightarrow if \\, E \\, then \\, S1$\n",
    "\n",
    "$S \\rightarrow while \\, E \\, do \\, S1$\n",
    "\n",
    "$S \\rightarrow S1 \\, ; \\, S2$"
   ]
  },
  {
   "cell_type": "markdown",
   "id": "050b73df-2337-48ff-b26c-e0d77265a3ce",
   "metadata": {},
   "source": [
    "```grammar\n",
    "S ::= id := E\n",
    "      {:  if (id.tipo == E.tipo) {\n",
    "            S.tipo = null;\n",
    "          } else {\n",
    "            ErrorSemantico(\"Tipos incompatibles en la asignacion\");\n",
    "          }\n",
    "      :}\n",
    "S ::= if E then S1\n",
    "      {:  if (E.tipo == \"boolean\") {\n",
    "            S1.tipo = S.tipo;\n",
    "          } else {\n",
    "            ErrorSemantico(\"La condicion del if no es del tipo logico\");\n",
    "          }\n",
    "      :}\n",
    "S ::= while E do S1\n",
    "      {:  if (E.tipo == \"boolean\") {\n",
    "            S1.tipo = S.tipo;\n",
    "          } else {\n",
    "            ErrorSemantico(\"La condicion del while no es del tipo logico\");\n",
    "          }\n",
    "      :}\n",
    "S ::= S1 ; S2\n",
    "      {:  if (S1.tipo == null  &&  S2.tipo == null) {\n",
    "            S.tipo = null;\n",
    "          } else {\n",
    "            ErrorSemantico(\"Sentencias con un tipo\");\n",
    "          }\n",
    "      :}\n",
    "```"
   ]
  }
 ],
 "metadata": {
  "kernelspec": {
   "display_name": "Python [conda env:base] *",
   "language": "python",
   "name": "conda-base-py"
  },
  "language_info": {
   "codemirror_mode": {
    "name": "ipython",
    "version": 3
   },
   "file_extension": ".py",
   "mimetype": "text/x-python",
   "name": "python",
   "nbconvert_exporter": "python",
   "pygments_lexer": "ipython3",
   "version": "3.12.7"
  }
 },
 "nbformat": 4,
 "nbformat_minor": 5
}
