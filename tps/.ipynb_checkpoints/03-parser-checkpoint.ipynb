{
 "cells": [
  {
   "cell_type": "markdown",
   "id": "c7f4af8f-873f-4f97-b17b-822ba7774501",
   "metadata": {},
   "source": [
    "# Parser - Ejercicios\n",
    "---"
   ]
  },
  {
   "cell_type": "markdown",
   "id": "23c8960b-262d-427b-8f80-4b23c5c5e525",
   "metadata": {},
   "source": [
    "## GIC"
   ]
  },
  {
   "cell_type": "markdown",
   "id": "1f0e9463-07ac-404f-9f48-dfb2c9d39c39",
   "metadata": {},
   "source": [
    "Identificar terminales y no terminales:\n",
    "\n",
    "$<Programa> \\rightarrow <Instrucciones>$\n",
    "\n",
    "$<Instrucciones> \\rightarrow <Instrucción> \\mid <Instrucción> <Instrucciones>$\n",
    "\n",
    "$<Instrucción> \\rightarrow <Operando> <Operador> <Operando>;$\n",
    "\n",
    "$<Operando> \\rightarrow true \\mid false$\n",
    "\n",
    "$<Operador> \\rightarrow AND \\mid OR \\mid NOT$"
   ]
  },
  {
   "cell_type": "code",
   "execution_count": null,
   "id": "1b7967d0-8944-4f67-b306-2e5a25544bd9",
   "metadata": {},
   "outputs": [],
   "source": []
  },
  {
   "cell_type": "markdown",
   "id": "be1ea437-f8a7-4386-a12a-e776a3901349",
   "metadata": {},
   "source": [
    "Diseñar una GIC no ambigua para el lenguaje de las expresiones que se pueden construir con true y false y los operadores booleanos or, and, not y los paréntesis"
   ]
  },
  {
   "cell_type": "markdown",
   "id": "8158daba-0246-4742-97f9-820f63d3c899",
   "metadata": {},
   "source": [
    "$E \\rightarrow T \\, or \\, E \\mid T$\n",
    "\n",
    "$T \\rightarrow F \\, and \\, T \\mid F$\n",
    "\n",
    "$F \\rightarrow not \\, F \\mid true \\mid false \\mid (E)$"
   ]
  },
  {
   "cell_type": "markdown",
   "id": "64520e85-78f1-4a56-a672-25d7d952d68c",
   "metadata": {},
   "source": [
    "Construir una GIC no ambigua que reconozca todas las declaraciones posibles de variables de los siguientes tipos: int, String, boolean y double en Java. Por ejemplo:\n",
    "\n",
    "```\n",
    "int x, y;\n",
    "String cadena;\n",
    "double a;\n",
    "boolean b;\n",
    "```"
   ]
  },
  {
   "cell_type": "markdown",
   "id": "c0249fd2-63e7-4fe6-b5c5-986f28703c60",
   "metadata": {},
   "source": [
    "$S \\rightarrow SE \\mid E$\n",
    "\n",
    "$E \\rightarrow T \\, F \\, ptocoma$\n",
    "\n",
    "$T \\rightarrow int \\mid String \\mid double \\mid boolean$\n",
    "\n",
    "$F \\rightarrow F \\, id \\, coma \\mid id$"
   ]
  },
  {
   "cell_type": "markdown",
   "id": "0975a051-29ea-4548-9be7-43f1949fd279",
   "metadata": {},
   "source": [
    "## Diagrama de sintaxis"
   ]
  },
  {
   "cell_type": "markdown",
   "id": "b36e3735-0b53-41c1-b775-560e9a6b693d",
   "metadata": {},
   "source": [
    "Crear los diagramas de sintaxis y el programa para esta GIC:\n",
    "\n",
    "$Programa \\rightarrow Declaraciones \\, Sentencias$\n",
    "\n",
    "$Declaraciones \\rightarrow (Decl \\, ;)^+$\n",
    "\n",
    "$Decl \\rightarrow Entero \\, Identificador$\n",
    "\n",
    "$Sentencias \\rightarrow (Asignación \\, ;)^+$\n",
    "\n",
    "$Asignación \\rightarrow ParteIzquierda \\, = \\, ParteDerecha$\n",
    "\n",
    "$ParteIzquierda \\rightarrow Identificador$\n",
    "\n",
    "$ParteDerecha \\rightarrow Expresión$\n",
    "\n",
    "$Expresión \\rightarrow (Expresión \\, + \\, Expresión) \\mid (Expresión \\, - \\, Expresión)$\n",
    "\n",
    "$Expresión \\rightarrow (Identificador \\, Numero)$"
   ]
  },
  {
   "cell_type": "code",
   "execution_count": null,
   "id": "1be21f3b-da39-4d47-ae31-5d6a73ab5310",
   "metadata": {},
   "outputs": [],
   "source": []
  },
  {
   "cell_type": "markdown",
   "id": "1cc5ac36-dde2-443d-8e7d-79f656ef1586",
   "metadata": {},
   "source": [
    "## AAS"
   ]
  },
  {
   "cell_type": "markdown",
   "id": "ca14b5d3-8dff-4494-978e-de6021a8c185",
   "metadata": {},
   "source": [
    "Dibujar el AAS correspondiente al reconocimiento de la siguiente secuencia:\n",
    "\n",
    "```\n",
    "true AND false;     \n",
    "false OR true;\n",
    "```"
   ]
  },
  {
   "cell_type": "code",
   "execution_count": null,
   "id": "fca8485d-4060-4e07-a900-8becb07a4a1b",
   "metadata": {},
   "outputs": [],
   "source": []
  },
  {
   "cell_type": "markdown",
   "id": "a68e2916-aedc-47c5-acca-9cc6d139e20c",
   "metadata": {},
   "source": [
    "## Escribir un Parser para ..."
   ]
  },
  {
   "cell_type": "markdown",
   "id": "fe070846-a364-42e7-ae6b-34508db070f8",
   "metadata": {},
   "source": [
    "Sumar números 0 y 1 terminados con punto y coma\n",
    "\n",
    "| Ejemplo      | Resultado |\n",
    "| --           | --        |\n",
    "| 0+1+1+1;     | 3         |\n",
    "| 1+1;         | 2         |\n",
    "| 1+0+0+0+0+1; | 2         |"
   ]
  },
  {
   "cell_type": "code",
   "execution_count": null,
   "id": "78d706f6-f62b-4110-b5e2-ce1764d2605e",
   "metadata": {},
   "outputs": [],
   "source": []
  },
  {
   "cell_type": "markdown",
   "id": "a30cd93e-4594-48ba-868b-c55c0ce21705",
   "metadata": {},
   "source": [
    "Operar con cadenas\n",
    "\n",
    "| Ejemplo                       | Resultado           |\n",
    "| --                            | --                  |\n",
    "| [P]                           | Inicio del programa |\n",
    "| [m] El cielo es celeste [/m]  | el cielo es celeste | \n",
    "| [M] El cielo es celeste [/M]  | EL CIELO ES CELESTE |\n",
    "| [C] El cielo es celeste  [/C] | 19                  |\n",
    "| [W] El cielo es celeste [/W]  | 4                   |\n",
    "| [/P]                          | Fin del programa    |"
   ]
  },
  {
   "cell_type": "code",
   "execution_count": null,
   "id": "7a3f9298-aed4-4871-b1de-93b9f45641d6",
   "metadata": {},
   "outputs": [],
   "source": []
  },
  {
   "cell_type": "markdown",
   "id": "75d24853-01c7-46b7-b511-66d6cf391a61",
   "metadata": {},
   "source": [
    "Reconocer autores en publicaciones científicas. La lista de autores contiene\n",
    "* Un nombre, iniciales (opcional), al menos un apellido por cada autor\n",
    "* Cada autor separado por coma con el siguiente autor excepto el último autor que es precedido por el conector \"and\""
   ]
  },
  {
   "cell_type": "code",
   "execution_count": null,
   "id": "c7a71f85-2c14-4f5f-bbe7-f2f976f7a0a2",
   "metadata": {},
   "outputs": [],
   "source": []
  },
  {
   "cell_type": "markdown",
   "id": "58e57b07-d3f9-4dc0-8d99-67b4b0059aed",
   "metadata": {},
   "source": [
    "Reconocer posibles direcciones de e-mail"
   ]
  },
  {
   "cell_type": "code",
   "execution_count": null,
   "id": "8246828e-b814-48d2-afc9-9b4890f6379c",
   "metadata": {},
   "outputs": [],
   "source": []
  },
  {
   "cell_type": "markdown",
   "id": "67bc0dd2-569a-45b2-a981-7d60759e15c4",
   "metadata": {},
   "source": [
    "**Lenguaje Micro**:\n",
    "* El único tipo de dato es entero\n",
    "* Todos los identificadores son declarados implícitamente y con una longitud máxima de 5 caracteres\n",
    "* Los identificadores deben comenzar con una letra y están compuestos de letras y dígitos\n",
    "* Las constantes son secuencias de dígitos (números enteros)\n",
    "* Hay 2 tipos de sentencias:\n",
    "  * Asignación  ID:=Expresión;\n",
    "    * Expresión es infija y se construye con identificadores, constantes y los operadores + y -; los paréntesis están permitidos\n",
    "  * Entrada/Salida\n",
    "    * leer(lista de IDs);\n",
    "    * escribir(lista de Expresiones);\n",
    "* Cada sentencia termina con un “punto y coma” (;). El cuerpo de un programa está delimitado por inicio y fin\n",
    "* inicio, fin, leer y escribir son palabras reservadas y deben escribirse en minúsculas\n",
    "* Ejemplo de programa fuente:\n",
    "\n",
    "```plain\n",
    "inicio\n",
    "leer (a,b);\n",
    "cc := a+(b-2);\n",
    "escribir (cc, a+4);\n",
    "fin\n",
    "```"
   ]
  },
  {
   "cell_type": "code",
   "execution_count": null,
   "id": "7384874a-7f6e-42ed-bf42-343b77abe121",
   "metadata": {},
   "outputs": [],
   "source": []
  },
  {
   "cell_type": "markdown",
   "id": "7aa55409-0163-4725-b3f0-76a43fde9182",
   "metadata": {},
   "source": [
    "**Lenguaje Esencial**:\n",
    "* Único tipo de datos que se requiere es el entero no negativo\n",
    "* No requiere enunciados de declaración de tipo, sino que los identificadores, que consisten en letras y dígitos (comenzando por una letra) se declaran automáticamente como de tipo entero no negativo con solo aparecer por primera vez en un programa\n",
    "* Nuestro lenguaje contiene los dos enunciados de asignación siguiente:\n",
    "  * incr nombre;\n",
    "  * decr nombre;\n",
    "* El primero incrementa en uno el valor asignado al identificador nombre, mientras el segundo lo decrementa en uno (a menos que el valor por decrementar sea cero, en cuyo caso permanece con dicho valor)\n",
    "* El único otro enunciado de nuestro lenguaje es el par de enunciados de control:\n",
    "  * while nombre <> 0 do; ... end;\n",
    "* El cual indica que es necesario repetir los enunciados que se encuentran entre los enunciados while y end mientras el valor asignado al identificador nombre sea cero\n",
    "* Ejemplo de programa fuente:\n",
    "\n",
    "```\n",
    "while aux <> 0 do;\n",
    "    decr aux;\n",
    "end;\n",
    "while nombre1 <> 0 do;\n",
    "    decr nombre1;\n",
    "end;\n",
    "while nombre2 <> 0 do;\n",
    "    incr aux;\n",
    "    decr nombre2;\n",
    "end;\n",
    "while aux <> 0 do;\n",
    "    incr nombre1;\n",
    "    incr nombre2;\n",
    "    decr aux;\n",
    "end;\n",
    "```"
   ]
  },
  {
   "cell_type": "code",
   "execution_count": null,
   "id": "03f4f8a2-193f-49ba-851a-7cdb94ca5461",
   "metadata": {},
   "outputs": [],
   "source": []
  }
 ],
 "metadata": {
  "kernelspec": {
   "display_name": "Python [conda env:base] *",
   "language": "python",
   "name": "conda-base-py"
  },
  "language_info": {
   "codemirror_mode": {
    "name": "ipython",
    "version": 3
   },
   "file_extension": ".py",
   "mimetype": "text/x-python",
   "name": "python",
   "nbconvert_exporter": "python",
   "pygments_lexer": "ipython3",
   "version": "3.12.7"
  }
 },
 "nbformat": 4,
 "nbformat_minor": 5
}
