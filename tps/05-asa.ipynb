{
 "cells": [
  {
   "cell_type": "markdown",
   "id": "07561083-d642-41c2-858d-74dac9342a60",
   "metadata": {},
   "source": [
    "# TP ASA\n",
    "---"
   ]
  },
  {
   "cell_type": "markdown",
   "id": "1e49700b-221d-45a0-988c-8a7171e62e0d",
   "metadata": {},
   "source": [
    "Construir el autómata y la tabla de análisis SLR para la siguiente gramática:\n",
    "\n",
    "$S \\rightarrow id \\, X \\mid id \\, Y \\, end$\n",
    "\n",
    "$X \\rightarrow otro \\mid \\lambda$\n",
    "\n",
    "$Y \\rightarrow begin \\, X \\, end \\mid \\lambda$"
   ]
  },
  {
   "cell_type": "markdown",
   "id": "bc3e8e56-89f9-4403-8216-a9c65aba2623",
   "metadata": {},
   "source": [
    "| Q  | id   | end       | begin | otro | \\$   | S  | X  | Y  |\n",
    "| -- | --   | --        | --    | --   | --   | -- | -- | -- |\n",
    "| 0  | D(2) |           |       |      |      | 1  |    |    |\n",
    "| 1  |      |           |       |      | OK   |    |    |    |\n",
    "| 2  |      | R(4)/R(6) | D(7)  | D(3) | R(4) |    | 4  | 5  |\n",
    "| 3  |      | R(3)      |       |      | R(3) |    |    |    |\n",
    "| 4  |      |           |       |      | R(1) |    |    |    |\n",
    "| 5  |      | D(6)      |       |      |      |    |    |    |\n",
    "| 6  |      |           |       |      | R(2) |    |    |    |\n",
    "| 7  |      | R(4)      |       | D(3) | D(4) |    | 8  |    |\n",
    "| 8  |      | D(9)      |       |      |      |    |    |    |\n",
    "| 9  |      | R(5)      |       |      |      |    |    |    |"
   ]
  },
  {
   "cell_type": "markdown",
   "id": "01fe944b-3364-44ca-ab51-e3ddf0a5967e",
   "metadata": {},
   "source": [
    "Para la siguiente gramática:\n",
    "\n",
    "$D \\rightarrow var \\, V \\, : \\, T \\, ;$\n",
    "\n",
    "$V \\rightarrow id \\, , \\, V \\mid id$\n",
    "\n",
    "$T \\rightarrow int \\mid bool$\n",
    "\n",
    "1. Construir el autómata\n",
    "1. Construir la tabla de análisis SLR\n",
    "1. Analizar la palabra var id , id : int ;"
   ]
  },
  {
   "cell_type": "markdown",
   "id": "c311ea4c-e108-4e5f-a05b-4333c625cb58",
   "metadata": {},
   "source": [
    "| Q  | var  | :    | ;     | id   | ,    | int  | bool | \\$   | D  | V  | T  |\n",
    "| -- | --   | --   | --    | --   | --   | --   | --   | --   | -- | -- | -- |\n",
    "| 0  | D(2) |      |       |      |      |      |      |      |  1 |    |    |\n",
    "| 1  |      |      |       |      |      |      |      | OK   |    |    |    |\n",
    "| 2  |      |      |       | D(4) |      |      |      |      |    | 3  |    |\n",
    "| 3  |      | D(5) |       |      |      |      |      |      |    |    |    |\n",
    "| 4  |      | R(3) |       |      | D(6) |      |      |      |    |    |    |\n",
    "| 5  |      |      |       |      |      | D(8) | D(9) |      |    |    |  7 |\n",
    "| 6  |      |      |       | D(4) |      |      |      |      |    | 10 |    |\n",
    "| 7  |      |      | D(11) |      |      |      |      |      |    |    |    |\n",
    "| 8  |      |      | R(4)  |      |      |      |      |      |    |    |    |\n",
    "| 9  |      |      | R(5)  |      |      |      |      |      |    |    |    |\n",
    "| 10 |      | R(2) |       |      |      |      |      |      |    |    |    |\n",
    "| 11 |      |      |       |      |      |      |      | R(1) |    |    |    |"
   ]
  },
  {
   "cell_type": "markdown",
   "id": "50cb5a96-48ad-49ad-a0ec-ce3558499500",
   "metadata": {},
   "source": [
    "| Pila         | Entrada                 | Acción                   |\n",
    "| --           | --                      | --                       |\n",
    "| 0            | var id , id : int ; \\$  | D(2)                     |\n",
    "| 0 2          | id , id : int ; \\$      | D(4)                     |\n",
    "| 0 2 4        | , id : int ; \\$         | D(6)                     |\n",
    "| 0 2 4 6      | id : int ; \\$           | D(4)                     |\n",
    "| 0 2 4 6 4    | : int ; \\$              | R(3) (V -> id)           |\n",
    "| 0 2 4 6 10   | : int ; \\$              | R(2) (V -> id, V)        |\n",
    "| 0 2 3        | : int ; \\$              | D(5)                     |\n",
    "| 0 2 3 5      | int ; \\$                | D(8)                     |\n",
    "| 0 2 3 5 8    | ; \\$                    | R(4) (T -> int)          |\n",
    "| 0 2 3 5 7    | ; \\$                    | D(11)                    |\n",
    "| 0 2 3 5 7 11 | \\$                      | R(1) (D -> var V : T ; ) |\n",
    "| 0 1          | \\$                      | accept                   |"
   ]
  }
 ],
 "metadata": {
  "kernelspec": {
   "display_name": "Python [conda env:base] *",
   "language": "python",
   "name": "conda-base-py"
  },
  "language_info": {
   "codemirror_mode": {
    "name": "ipython",
    "version": 3
   },
   "file_extension": ".py",
   "mimetype": "text/x-python",
   "name": "python",
   "nbconvert_exporter": "python",
   "pygments_lexer": "ipython3",
   "version": "3.12.7"
  }
 },
 "nbformat": 4,
 "nbformat_minor": 5
}
